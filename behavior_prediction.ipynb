{
 "cells": [
  {
   "cell_type": "code",
   "execution_count": 1,
   "metadata": {
    "collapsed": true
   },
   "outputs": [
    {
     "data": {
      "text/plain": "log_id         0\ncustomer_id    0\nusedate        0\ndtype: int64"
     },
     "execution_count": 1,
     "metadata": {},
     "output_type": "execute_result"
    }
   ],
   "source": [
    "# Data を読み込み確認する\n",
    "import pandas as pd\n",
    "uselog = pd.read_csv('sample_code/chapter_4/use_log.csv')\n",
    "uselog.isnull().sum() # 欠損値の確認"
   ]
  },
  {
   "cell_type": "code",
   "execution_count": 2,
   "outputs": [
    {
     "data": {
      "text/plain": "customer_id             0\nname                    0\nclass                   0\ngender                  0\nstart_date              0\nend_date             2842\ncampaign_id             0\nis_deleted              0\nclass_name              0\nprice                   0\ncampaign_name           0\nmean                    0\nmedian                  0\nmax                     0\nmin                     0\nroutine_flg             0\ncalc_date               0\nmembership_period       0\ndtype: int64"
     },
     "execution_count": 2,
     "metadata": {},
     "output_type": "execute_result"
    }
   ],
   "source": [
    "customer = pd.read_csv('sample_code/chapter_4/customer_join.csv')\n",
    "customer.isnull().sum() # 欠損値の確認"
   ],
   "metadata": {
    "collapsed": false,
    "pycharm": {
     "name": "#%%\n"
    }
   }
  },
  {
   "cell_type": "markdown",
   "source": [
    "end_date 以外は欠損値が 0 であることを確認。\n",
    "\n",
    "顧客 Data を 利用履歴に基づいた Group 化を行う。\n",
    "※あらかじめ決められた正解がない為、教師なし学習の Clustering を用いる。\n"
   ],
   "metadata": {
    "collapsed": false,
    "pycharm": {
     "name": "#%% md\n"
    }
   }
  }
 ],
 "metadata": {
  "kernelspec": {
   "display_name": "Python 3",
   "language": "python",
   "name": "python3"
  },
  "language_info": {
   "codemirror_mode": {
    "name": "ipython",
    "version": 2
   },
   "file_extension": ".py",
   "mimetype": "text/x-python",
   "name": "python",
   "nbconvert_exporter": "python",
   "pygments_lexer": "ipython2",
   "version": "2.7.6"
  }
 },
 "nbformat": 4,
 "nbformat_minor": 0
}