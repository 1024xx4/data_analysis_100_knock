{
 "cells": [
  {
   "cell_type": "markdown",
   "source": [
    "# 前提条件\n",
    "\n",
    "| 項目   | 内容                           |\n",
    "|------|------------------------------|\n",
    "| 概要   | 顧客満足度アンケートの Data             |\n",
    "| 対象期間 | 2019年１月 ~ ４月                 |\n",
    "| 保存方法 | Database                     |\n",
    "| 目的   | 顧客満足度の向上                     |\n",
    "| 変数   | アンケートの取得日, Comment, 満足度（５段階） |"
   ],
   "metadata": {
    "collapsed": false
   }
  },
  {
   "cell_type": "code",
   "execution_count": 1,
   "metadata": {
    "pycharm": {
     "name": "#%%\n"
    }
   },
   "outputs": [
    {
     "name": "stdout",
     "output_type": "stream",
     "text": [
      "86\n"
     ]
    },
    {
     "data": {
      "text/plain": "    datetime            comment  satisfaction\n0  2019/3/11  駅前に若者が集まっている(AA駅)             1\n1  2019/2/25   スポーツできる場所があるのが良い             5\n2  2019/2/18          子育て支援が嬉しい             5\n3   2019/4/9    保育園に入れる（待機児童なし）             4\n4   2019/1/6          駅前商店街が寂しい             2",
      "text/html": "<div>\n<style scoped>\n    .dataframe tbody tr th:only-of-type {\n        vertical-align: middle;\n    }\n\n    .dataframe tbody tr th {\n        vertical-align: top;\n    }\n\n    .dataframe thead th {\n        text-align: right;\n    }\n</style>\n<table border=\"1\" class=\"dataframe\">\n  <thead>\n    <tr style=\"text-align: right;\">\n      <th></th>\n      <th>datetime</th>\n      <th>comment</th>\n      <th>satisfaction</th>\n    </tr>\n  </thead>\n  <tbody>\n    <tr>\n      <th>0</th>\n      <td>2019/3/11</td>\n      <td>駅前に若者が集まっている(AA駅)</td>\n      <td>1</td>\n    </tr>\n    <tr>\n      <th>1</th>\n      <td>2019/2/25</td>\n      <td>スポーツできる場所があるのが良い</td>\n      <td>5</td>\n    </tr>\n    <tr>\n      <th>2</th>\n      <td>2019/2/18</td>\n      <td>子育て支援が嬉しい</td>\n      <td>5</td>\n    </tr>\n    <tr>\n      <th>3</th>\n      <td>2019/4/9</td>\n      <td>保育園に入れる（待機児童なし）</td>\n      <td>4</td>\n    </tr>\n    <tr>\n      <th>4</th>\n      <td>2019/1/6</td>\n      <td>駅前商店街が寂しい</td>\n      <td>2</td>\n    </tr>\n  </tbody>\n</table>\n</div>"
     },
     "execution_count": 1,
     "metadata": {},
     "output_type": "execute_result"
    }
   ],
   "source": [
    "import pandas as pd\n",
    "\n",
    "survey = pd.read_csv('sample_code/chapter_10/survey.csv')\n",
    "print(len(survey))\n",
    "survey.head()"
   ]
  },
  {
   "cell_type": "code",
   "execution_count": 2,
   "metadata": {
    "pycharm": {
     "name": "#%%\n"
    }
   },
   "outputs": [
    {
     "data": {
      "text/plain": "datetime        0\ncomment         2\nsatisfaction    0\ndtype: int64"
     },
     "execution_count": 2,
     "metadata": {},
     "output_type": "execute_result"
    }
   ],
   "source": [
    "survey.isna().sum()"
   ]
  },
  {
   "cell_type": "markdown",
   "source": [
    "Comment に２つ欠損値を確認。\n",
    "欠損値を除去する。"
   ],
   "metadata": {
    "collapsed": false
   }
  },
  {
   "cell_type": "code",
   "execution_count": 3,
   "outputs": [
    {
     "data": {
      "text/plain": "datetime        0\ncomment         0\nsatisfaction    0\ndtype: int64"
     },
     "execution_count": 3,
     "metadata": {},
     "output_type": "execute_result"
    }
   ],
   "source": [
    "survey = survey.dropna()\n",
    "survey.isna().sum()"
   ],
   "metadata": {
    "collapsed": false,
    "pycharm": {
     "name": "#%%\n"
    }
   }
  },
  {
   "cell_type": "markdown",
   "source": [
    "不要な文字を除去する。"
   ],
   "metadata": {
    "collapsed": false,
    "pycharm": {
     "name": "#%% md\n"
    }
   }
  },
  {
   "cell_type": "code",
   "execution_count": 4,
   "outputs": [
    {
     "data": {
      "text/plain": "0     駅前に若者が集まっている(駅)\n1    スポーツできる場所があるのが良い\n2           子育て支援が嬉しい\n3     保育園に入れる（待機児童なし）\n4           駅前商店街が寂しい\nName: comment, dtype: object"
     },
     "execution_count": 4,
     "metadata": {},
     "output_type": "execute_result"
    }
   ],
   "source": [
    "survey['comment'] = survey['comment'].str.replace('AA', '')\n",
    "survey['comment'].head()"
   ],
   "metadata": {
    "collapsed": false,
    "pycharm": {
     "name": "#%%\n"
    }
   }
  },
  {
   "cell_type": "markdown",
   "source": [
    "括弧内が補足的な情報なので除去する。※正規表現を利用"
   ],
   "metadata": {
    "collapsed": false,
    "pycharm": {
     "name": "#%% md\n"
    }
   }
  },
  {
   "cell_type": "code",
   "execution_count": 5,
   "outputs": [
    {
     "data": {
      "text/plain": "    datetime           comment  satisfaction\n0  2019/3/11      駅前に若者が集まっている             1\n1  2019/2/25  スポーツできる場所があるのが良い             5\n2  2019/2/18         子育て支援が嬉しい             5\n3   2019/4/9   保育園に入れる（待機児童なし）             4\n4   2019/1/6         駅前商店街が寂しい             2",
      "text/html": "<div>\n<style scoped>\n    .dataframe tbody tr th:only-of-type {\n        vertical-align: middle;\n    }\n\n    .dataframe tbody tr th {\n        vertical-align: top;\n    }\n\n    .dataframe thead th {\n        text-align: right;\n    }\n</style>\n<table border=\"1\" class=\"dataframe\">\n  <thead>\n    <tr style=\"text-align: right;\">\n      <th></th>\n      <th>datetime</th>\n      <th>comment</th>\n      <th>satisfaction</th>\n    </tr>\n  </thead>\n  <tbody>\n    <tr>\n      <th>0</th>\n      <td>2019/3/11</td>\n      <td>駅前に若者が集まっている</td>\n      <td>1</td>\n    </tr>\n    <tr>\n      <th>1</th>\n      <td>2019/2/25</td>\n      <td>スポーツできる場所があるのが良い</td>\n      <td>5</td>\n    </tr>\n    <tr>\n      <th>2</th>\n      <td>2019/2/18</td>\n      <td>子育て支援が嬉しい</td>\n      <td>5</td>\n    </tr>\n    <tr>\n      <th>3</th>\n      <td>2019/4/9</td>\n      <td>保育園に入れる（待機児童なし）</td>\n      <td>4</td>\n    </tr>\n    <tr>\n      <th>4</th>\n      <td>2019/1/6</td>\n      <td>駅前商店街が寂しい</td>\n      <td>2</td>\n    </tr>\n  </tbody>\n</table>\n</div>"
     },
     "execution_count": 5,
     "metadata": {},
     "output_type": "execute_result"
    }
   ],
   "source": [
    "survey['comment'] = survey['comment'].str.replace('\\(.+?\\)', '', regex=True)\n",
    "survey.head()"
   ],
   "metadata": {
    "collapsed": false,
    "pycharm": {
     "name": "#%%\n"
    }
   }
  },
  {
   "cell_type": "markdown",
   "source": [
    "全角の括弧が残っているの除去する"
   ],
   "metadata": {
    "collapsed": false,
    "pycharm": {
     "name": "#%% md\n"
    }
   }
  },
  {
   "cell_type": "code",
   "execution_count": 6,
   "outputs": [
    {
     "data": {
      "text/plain": "    datetime           comment  satisfaction\n0  2019/3/11      駅前に若者が集まっている             1\n1  2019/2/25  スポーツできる場所があるのが良い             5\n2  2019/2/18         子育て支援が嬉しい             5\n3   2019/4/9           保育園に入れる             4\n4   2019/1/6         駅前商店街が寂しい             2",
      "text/html": "<div>\n<style scoped>\n    .dataframe tbody tr th:only-of-type {\n        vertical-align: middle;\n    }\n\n    .dataframe tbody tr th {\n        vertical-align: top;\n    }\n\n    .dataframe thead th {\n        text-align: right;\n    }\n</style>\n<table border=\"1\" class=\"dataframe\">\n  <thead>\n    <tr style=\"text-align: right;\">\n      <th></th>\n      <th>datetime</th>\n      <th>comment</th>\n      <th>satisfaction</th>\n    </tr>\n  </thead>\n  <tbody>\n    <tr>\n      <th>0</th>\n      <td>2019/3/11</td>\n      <td>駅前に若者が集まっている</td>\n      <td>1</td>\n    </tr>\n    <tr>\n      <th>1</th>\n      <td>2019/2/25</td>\n      <td>スポーツできる場所があるのが良い</td>\n      <td>5</td>\n    </tr>\n    <tr>\n      <th>2</th>\n      <td>2019/2/18</td>\n      <td>子育て支援が嬉しい</td>\n      <td>5</td>\n    </tr>\n    <tr>\n      <th>3</th>\n      <td>2019/4/9</td>\n      <td>保育園に入れる</td>\n      <td>4</td>\n    </tr>\n    <tr>\n      <th>4</th>\n      <td>2019/1/6</td>\n      <td>駅前商店街が寂しい</td>\n      <td>2</td>\n    </tr>\n  </tbody>\n</table>\n</div>"
     },
     "execution_count": 6,
     "metadata": {},
     "output_type": "execute_result"
    }
   ],
   "source": [
    "survey['comment'] = survey['comment'].str.replace('（.+?\\）', '', regex=True)\n",
    "survey.head()"
   ],
   "metadata": {
    "collapsed": false,
    "pycharm": {
     "name": "#%%\n"
    }
   }
  },
  {
   "cell_type": "code",
   "execution_count": 7,
   "outputs": [
    {
     "data": {
      "text/plain": "    datetime           comment  satisfaction  length\n0  2019/3/11      駅前に若者が集まっている             1      12\n1  2019/2/25  スポーツできる場所があるのが良い             5      16\n2  2019/2/18         子育て支援が嬉しい             5       9\n3   2019/4/9           保育園に入れる             4       7\n4   2019/1/6         駅前商店街が寂しい             2       9",
      "text/html": "<div>\n<style scoped>\n    .dataframe tbody tr th:only-of-type {\n        vertical-align: middle;\n    }\n\n    .dataframe tbody tr th {\n        vertical-align: top;\n    }\n\n    .dataframe thead th {\n        text-align: right;\n    }\n</style>\n<table border=\"1\" class=\"dataframe\">\n  <thead>\n    <tr style=\"text-align: right;\">\n      <th></th>\n      <th>datetime</th>\n      <th>comment</th>\n      <th>satisfaction</th>\n      <th>length</th>\n    </tr>\n  </thead>\n  <tbody>\n    <tr>\n      <th>0</th>\n      <td>2019/3/11</td>\n      <td>駅前に若者が集まっている</td>\n      <td>1</td>\n      <td>12</td>\n    </tr>\n    <tr>\n      <th>1</th>\n      <td>2019/2/25</td>\n      <td>スポーツできる場所があるのが良い</td>\n      <td>5</td>\n      <td>16</td>\n    </tr>\n    <tr>\n      <th>2</th>\n      <td>2019/2/18</td>\n      <td>子育て支援が嬉しい</td>\n      <td>5</td>\n      <td>9</td>\n    </tr>\n    <tr>\n      <th>3</th>\n      <td>2019/4/9</td>\n      <td>保育園に入れる</td>\n      <td>4</td>\n      <td>7</td>\n    </tr>\n    <tr>\n      <th>4</th>\n      <td>2019/1/6</td>\n      <td>駅前商店街が寂しい</td>\n      <td>2</td>\n      <td>9</td>\n    </tr>\n  </tbody>\n</table>\n</div>"
     },
     "execution_count": 7,
     "metadata": {},
     "output_type": "execute_result"
    }
   ],
   "source": [
    "survey['length'] = survey['comment'].str.len()\n",
    "survey.head()"
   ],
   "metadata": {
    "collapsed": false,
    "pycharm": {
     "name": "#%%\n"
    }
   }
  },
  {
   "cell_type": "code",
   "execution_count": 8,
   "outputs": [
    {
     "data": {
      "text/plain": "(array([11., 24., 21., 10.,  6.,  6.,  5.,  0.,  0.,  1.]),\n array([ 4. ,  8.6, 13.2, 17.8, 22.4, 27. , 31.6, 36.2, 40.8, 45.4, 50. ]),\n <BarContainer object of 10 artists>)"
     },
     "execution_count": 8,
     "metadata": {},
     "output_type": "execute_result"
    },
    {
     "data": {
      "text/plain": "<Figure size 432x288 with 1 Axes>",
      "image/png": "[encoded data removed]"
     },
     "metadata": {
      "needs_background": "light"
     },
     "output_type": "display_data"
    }
   ],
   "source": [
    "import matplotlib.pyplot as plt\n",
    "\n",
    "plt.hist(survey['length'])"
   ],
   "metadata": {
    "collapsed": false,
    "pycharm": {
     "name": "#%%\n"
    }
   }
  },
  {
   "cell_type": "markdown",
   "source": [
    "10 ~ 15文字あたりに Peak が見える。\n",
    "比較的一言の Comment が多いアンケートの様子。"
   ],
   "metadata": {
    "collapsed": false,
    "pycharm": {
     "name": "#%% md\n"
    }
   }
  },
  {
   "cell_type": "code",
   "execution_count": 9,
   "outputs": [
    {
     "data": {
      "text/plain": "'すもも\\t名詞,一般,*,*,*,*,すもも,スモモ,スモモ\\nも\\t助詞,係助詞,*,*,*,*,も,モ,モ\\nもも\\t名詞,一般,*,*,*,*,もも,モモ,モモ\\nも\\t助詞,係助詞,*,*,*,*,も,モ,モ\\nもも\\t名詞,一般,*,*,*,*,もも,モモ,モモ\\nの\\t助詞,連体化,*,*,*,*,の,ノ,ノ\\nうち\\t名詞,非自立,副詞可能,*,*,*,うち,ウチ,ウチ\\nEOS\\n'"
     },
     "execution_count": 9,
     "metadata": {},
     "output_type": "execute_result"
    }
   ],
   "source": [
    "import MeCab  # Libray の Import\n",
    "\n",
    "tagger = MeCab.Tagger()  # 初期化\n",
    "text = 'すもももももももものうち'  # 形態素解析を行なう文章を指定\n",
    "words = tagger.parse(text)  # 形態素解析を実施\n",
    "words"
   ],
   "metadata": {
    "collapsed": false,
    "pycharm": {
     "name": "#%%\n"
    }
   }
  },
  {
   "cell_type": "code",
   "execution_count": 10,
   "outputs": [
    {
     "data": {
      "text/plain": "['すもも', 'も', 'もも', 'も', 'もも', 'の', 'うち']"
     },
     "execution_count": 10,
     "metadata": {},
     "output_type": "execute_result"
    }
   ],
   "source": [
    "words = tagger.parse(text).splitlines()\n",
    "words_arr = []\n",
    "\n",
    "for i in words:\n",
    "    if i == 'EOS': continue\n",
    "    word_tmp = i.split()[0]\n",
    "    words_arr.append(word_tmp)\n",
    "\n",
    "words_arr"
   ],
   "metadata": {
    "collapsed": false,
    "pycharm": {
     "name": "#%%\n"
    }
   }
  },
  {
   "cell_type": "code",
   "execution_count": 11,
   "outputs": [
    {
     "data": {
      "text/plain": "['すもも', 'もも', 'もも', 'うち']"
     },
     "execution_count": 11,
     "metadata": {},
     "output_type": "execute_result"
    }
   ],
   "source": [
    "text = 'すもももももももものうち'\n",
    "words = tagger.parse(text).splitlines()\n",
    "words_arr = []\n",
    "parts = ['名詞', '動詞']\n",
    "\n",
    "for i in words:\n",
    "    if i == 'EOS' or i == '': continue\n",
    "    word_tmp = i.split()[0]\n",
    "    part = i.split()[1].split(',')[0]\n",
    "    if not part in parts: continue\n",
    "    words_arr.append(word_tmp)\n",
    "\n",
    "words_arr"
   ],
   "metadata": {
    "collapsed": false,
    "pycharm": {
     "name": "#%%\n"
    }
   }
  },
  {
   "cell_type": "markdown",
   "source": [
    "どういった Keyword が使われている時に満足度が高いかを見ていく必要がある。\n",
    "「駅」等の名詞だけでもその文章が何についているか特徴付けることとができると考え、「名詞」のみに絞って分析していく。"
   ],
   "metadata": {
    "collapsed": false,
    "pycharm": {
     "name": "#%% md\n"
    }
   }
  },
  {
   "cell_type": "code",
   "execution_count": 18,
   "outputs": [
    {
     "name": "stdout",
     "output_type": "stream",
     "text": [
      "['駅前', '若者', 'スポーツ', '場所', 'の', '子育て', '支援', '保育園', '駅前', '商店', '街', '生活', '便利', '場所', '場所', '商業', '施設', '病院', '充実', 'サイクリング', 'コース', '祭り', '小学校', '綺麗', '公園', '近く', '公園', 'スーパー', 'の', '大変', '子育て', 'デートスポット', '商店', '街', '夜道', 'ゴミ', '処理', '楽', '映画', '館', '街路', '樹', '公園', '追加', '観光', 'スポット', '子育て', '道', '綺麗', '都内', 'アクセス', '家賃', 'リーズナブル', 'BBB', '渋滞', '商店', '街', '屋根', '雨', '大変', '商店', '街', 'たくさん', '喫茶店', 'スポーツ', 'ジム', '利用', 'スポーツ', 'ジム', '利用', '料金', 'ママ', '支援', 'バス', '自転車', 'ランニング', '運動', '場所', '有名', '企業', '駅前', '駐車', '場', '変', 'おじさん', '声', '事', '警察', '巡回', '強化', '消防', '団', '活発', '安心', '災害', '時', '避難', '場所', '気', '最近', '川', '氾濫', '被害', '町', 'よう', '氾濫', '防止', '説明', '信号', '交差点', 'ｘｘｘ', '事故', 'そう', '信号', '商店', '街', '活性', '化', '活動', '行政', '後押し', '子ども', '安全', '場所', '駅前', '駐輪場', '不便', '街路', '樹', '落ち葉', '掃除', '大変', '街路', '樹', '災害', '時', '備蓄', '状況', '歩道', '道', '安心', '地域', '自治体', '支援', '自治体', '活動', '頻繁', '安心', '観光', '地', '最近', '県', 'ナンバー', '車', '防犯', 'の', '駐車', '場', '数', '料金', '駅前', '公共', '駐車', '場', '歩行', '者', '用', '信号', 'の', '老人', '子供', '事', '設定', '急行', '都内', 'バス', '路線', '春', '桜', '並木', '最高', '綺麗', '桜', '並木', '^^', '隣', '町', 'ごみ', '処理', '施設', '心配', '公害', '大丈夫', '市長', '活気', 'アンケート', '確認', '街', 'づくり', '反映', '姿勢', '先月', '職員', '不正', '事件', '詳細', '説明', '役所', '担当', '者', '無愛想', '役所', '出張所', '駅前', '役所', '土日', '災害', '時', '避難', '経路', '表示', '市', 'ホームページ', '奇麗', '役所', '電話', '対応', '者', '路地', '街頭', '動物', '園', '冬場', '路面', '凍結', '事故', '対応', '自然', '豊か', '野良猫', '糞', '害', '行政', '野良猫', '対策', 'の', '役所', '相談', 'とき', '親身', '対応', '高速', '道路', '道', '渋滞', '拡幅', 'まち', 'マスコット', '夜間', '対応', '病院', '不安', '高齢', '者', 'サポート', '施設', '小学校', '校庭', '芝生', 'ホームページ', 'アンケート', '投稿', 'よう', '公園', '遊び', '道具', '公園', '駅前', '駐車', '場', '不便']\n"
     ]
    }
   ],
   "source": [
    "all_words = []\n",
    "parts = ['名詞']\n",
    "\n",
    "for n in range(len(survey)):\n",
    "    text = survey['comment'].iloc[n]\n",
    "    words = tagger.parse(text).splitlines()\n",
    "    words_arr = []\n",
    "    for i in words:\n",
    "        if i == 'EOS' or '': continue\n",
    "        word_tmp = i.split()[0]\n",
    "        part = i.split()[1].split(',')[0]\n",
    "        if not part in parts: continue\n",
    "        words_arr.append(word_tmp)\n",
    "    all_words.extend(words_arr)\n",
    "\n",
    "print(all_words)"
   ],
   "metadata": {
    "collapsed": false,
    "pycharm": {
     "name": "#%%\n"
    }
   }
  },
  {
   "cell_type": "markdown",
   "source": [
    "単語毎に数え上げるため Dataframe に格納し集計を実施して、頻出単語を５つ表示してみる。"
   ],
   "metadata": {
    "collapsed": false,
    "pycharm": {
     "name": "#%% md\n"
    }
   }
  },
  {
   "cell_type": "code",
   "execution_count": 19,
   "outputs": [
    {
     "data": {
      "text/plain": "       count\nwords       \n駅前         7\n場所         6\n街          6\nの          5\n公園         5",
      "text/html": "<div>\n<style scoped>\n    .dataframe tbody tr th:only-of-type {\n        vertical-align: middle;\n    }\n\n    .dataframe tbody tr th {\n        vertical-align: top;\n    }\n\n    .dataframe thead th {\n        text-align: right;\n    }\n</style>\n<table border=\"1\" class=\"dataframe\">\n  <thead>\n    <tr style=\"text-align: right;\">\n      <th></th>\n      <th>count</th>\n    </tr>\n    <tr>\n      <th>words</th>\n      <th></th>\n    </tr>\n  </thead>\n  <tbody>\n    <tr>\n      <th>駅前</th>\n      <td>7</td>\n    </tr>\n    <tr>\n      <th>場所</th>\n      <td>6</td>\n    </tr>\n    <tr>\n      <th>街</th>\n      <td>6</td>\n    </tr>\n    <tr>\n      <th>の</th>\n      <td>5</td>\n    </tr>\n    <tr>\n      <th>公園</th>\n      <td>5</td>\n    </tr>\n  </tbody>\n</table>\n</div>"
     },
     "execution_count": 19,
     "metadata": {},
     "output_type": "execute_result"
    }
   ],
   "source": [
    "all_words_df = pd.DataFrame({'words': all_words, 'count': len(all_words) * [1]})  # DataFrame に格納、count 列をついでに作成し１を代入。\n",
    "all_words_df = all_words_df.groupby('words').sum()  # count を単語毎に集計\n",
    "all_words_df.sort_values('count', ascending=False).head()"
   ],
   "metadata": {
    "collapsed": false,
    "pycharm": {
     "name": "#%%\n"
    }
   }
  },
  {
   "cell_type": "markdown",
   "source": [
    "「の」が Noise のような単語で発生している。"
   ],
   "metadata": {
    "collapsed": false,
    "pycharm": {
     "name": "#%% md\n"
    }
   }
  },
  {
   "cell_type": "code",
   "execution_count": 21,
   "outputs": [
    {
     "name": "stdout",
     "output_type": "stream",
     "text": [
      "['駅前', '若者', 'スポーツ', '場所', '子育て', '支援', '保育園', '駅前', '商店', '街', '生活', '便利', '場所', '場所', '商業', '施設', '病院', '充実', 'サイクリング', 'コース', '祭り', '小学校', '綺麗', '公園', '近く', '公園', 'スーパー', '大変', '子育て', 'デートスポット', '商店', '街', '夜道', 'ゴミ', '処理', '楽', '映画', '館', '街路', '樹', '公園', '追加', '観光', 'スポット', '子育て', '道', '綺麗', '都内', 'アクセス', '家賃', 'リーズナブル', 'BBB', '渋滞', '商店', '街', '屋根', '雨', '大変', '商店', '街', 'たくさん', '喫茶店', 'スポーツ', 'ジム', '利用', 'スポーツ', 'ジム', '利用', '料金', 'ママ', '支援', 'バス', '自転車', 'ランニング', '運動', '場所', '有名', '企業', '駅前', '駐車', '場', '変', 'おじさん', '声', '事', '警察', '巡回', '強化', '消防', '団', '活発', '安心', '災害', '時', '避難', '場所', '気', '最近', '川', '氾濫', '被害', '町', 'よう', '氾濫', '防止', '説明', '信号', '交差点', 'ｘｘｘ', '事故', 'そう', '信号', '商店', '街', '活性', '化', '活動', '行政', '後押し', '子ども', '安全', '場所', '駅前', '駐輪場', '不便', '街路', '樹', '落ち葉', '掃除', '大変', '街路', '樹', '災害', '時', '備蓄', '状況', '歩道', '道', '安心', '地域', '自治体', '支援', '自治体', '活動', '頻繁', '安心', '観光', '地', '最近', '県', 'ナンバー', '車', '防犯', '駐車', '場', '数', '料金', '駅前', '公共', '駐車', '場', '歩行', '者', '用', '信号', '老人', '子供', '事', '設定', '急行', '都内', 'バス', '路線', '春', '桜', '並木', '最高', '綺麗', '桜', '並木', '^^', '隣', '町', 'ごみ', '処理', '施設', '心配', '公害', '大丈夫', '市長', '活気', 'アンケート', '確認', '街', 'づくり', '反映', '姿勢', '先月', '職員', '不正', '事件', '詳細', '説明', '役所', '担当', '者', '無愛想', '役所', '出張所', '駅前', '役所', '土日', '災害', '時', '避難', '経路', '表示', '市', 'ホームページ', '奇麗', '役所', '電話', '対応', '者', '路地', '街頭', '動物', '園', '冬場', '路面', '凍結', '事故', '対応', '自然', '豊か', '野良猫', '糞', '害', '行政', '野良猫', '対策', '役所', '相談', 'とき', '親身', '対応', '高速', '道路', '道', '渋滞', '拡幅', 'まち', 'マスコット', '夜間', '対応', '病院', '不安', '高齢', '者', 'サポート', '施設', '小学校', '校庭', '芝生', 'ホームページ', 'アンケート', '投稿', 'よう', '公園', '遊び', '道具', '公園', '駅前', '駐車', '場', '不便']\n"
     ]
    }
   ],
   "source": [
    "stop_words = ['の']\n",
    "all_words = []\n",
    "parts = ['名詞']\n",
    "\n",
    "for n in range(len(survey)):\n",
    "    text = survey['comment'].iloc[n]\n",
    "    words = tagger.parse(text).splitlines()\n",
    "    words_arr = []\n",
    "    for i in words:\n",
    "        if i == 'EOS' or i == '': continue\n",
    "        word_tmp = i.split()[0]\n",
    "        part = i.split()[1].split(',')[0]\n",
    "        if not part in parts: continue\n",
    "        if word_tmp in stop_words :continue\n",
    "        words_arr.append(word_tmp)\n",
    "    all_words.extend(words_arr)\n",
    "\n",
    "print(all_words)"
   ],
   "metadata": {
    "collapsed": false,
    "pycharm": {
     "name": "#%%\n"
    }
   }
  },
  {
   "cell_type": "code",
   "execution_count": 25,
   "outputs": [
    {
     "data": {
      "text/plain": "       count\nwords       \n駅前         7\n場所         6\n街          6\n公園         5\n商店         5",
      "text/html": "<div>\n<style scoped>\n    .dataframe tbody tr th:only-of-type {\n        vertical-align: middle;\n    }\n\n    .dataframe tbody tr th {\n        vertical-align: top;\n    }\n\n    .dataframe thead th {\n        text-align: right;\n    }\n</style>\n<table border=\"1\" class=\"dataframe\">\n  <thead>\n    <tr style=\"text-align: right;\">\n      <th></th>\n      <th>count</th>\n    </tr>\n    <tr>\n      <th>words</th>\n      <th></th>\n    </tr>\n  </thead>\n  <tbody>\n    <tr>\n      <th>駅前</th>\n      <td>7</td>\n    </tr>\n    <tr>\n      <th>場所</th>\n      <td>6</td>\n    </tr>\n    <tr>\n      <th>街</th>\n      <td>6</td>\n    </tr>\n    <tr>\n      <th>公園</th>\n      <td>5</td>\n    </tr>\n    <tr>\n      <th>商店</th>\n      <td>5</td>\n    </tr>\n  </tbody>\n</table>\n</div>"
     },
     "execution_count": 25,
     "metadata": {},
     "output_type": "execute_result"
    }
   ],
   "source": [
    "all_words_df = pd.DataFrame({'words': all_words, 'count': len(all_words)*[1]})\n",
    "all_words_df = all_words_df.groupby('words').sum()\n",
    "all_words_df.sort_values('count', ascending=False).head()"
   ],
   "metadata": {
    "collapsed": false,
    "pycharm": {
     "name": "#%%\n"
    }
   }
  },
  {
   "cell_type": "code",
   "execution_count": 30,
   "outputs": [
    {
     "data": {
      "text/plain": "  words  satisfaction  count\n0    駅前             1      1\n1    若者             1      1\n2  スポーツ             5      1\n3    場所             5      1\n4   子育て             5      1",
      "text/html": "<div>\n<style scoped>\n    .dataframe tbody tr th:only-of-type {\n        vertical-align: middle;\n    }\n\n    .dataframe tbody tr th {\n        vertical-align: top;\n    }\n\n    .dataframe thead th {\n        text-align: right;\n    }\n</style>\n<table border=\"1\" class=\"dataframe\">\n  <thead>\n    <tr style=\"text-align: right;\">\n      <th></th>\n      <th>words</th>\n      <th>satisfaction</th>\n      <th>count</th>\n    </tr>\n  </thead>\n  <tbody>\n    <tr>\n      <th>0</th>\n      <td>駅前</td>\n      <td>1</td>\n      <td>1</td>\n    </tr>\n    <tr>\n      <th>1</th>\n      <td>若者</td>\n      <td>1</td>\n      <td>1</td>\n    </tr>\n    <tr>\n      <th>2</th>\n      <td>スポーツ</td>\n      <td>5</td>\n      <td>1</td>\n    </tr>\n    <tr>\n      <th>3</th>\n      <td>場所</td>\n      <td>5</td>\n      <td>1</td>\n    </tr>\n    <tr>\n      <th>4</th>\n      <td>子育て</td>\n      <td>5</td>\n      <td>1</td>\n    </tr>\n  </tbody>\n</table>\n</div>"
     },
     "execution_count": 30,
     "metadata": {},
     "output_type": "execute_result"
    }
   ],
   "source": [
    "stop_words = ['の']\n",
    "parts = ['名詞']\n",
    "all_words = []\n",
    "satisfaction = []\n",
    "for n in range(len(survey)):\n",
    "    text = survey['comment'].iloc[n]\n",
    "    words = tagger.parse(text).splitlines()\n",
    "    words_arr = []\n",
    "    for i in words:\n",
    "        if i == 'EOS' or i == '': continue\n",
    "        word_tmp = i.split()[0]\n",
    "        part = i.split()[1].split(',')[0]\n",
    "        if not part in parts: continue\n",
    "        if word_tmp in stop_words: continue\n",
    "        words_arr.append(word_tmp)\n",
    "        satisfaction.append(survey['satisfaction'].iloc[n])\n",
    "    all_words.extend(words_arr)\n",
    "\n",
    "all_words_df = pd.DataFrame({'words': all_words, 'satisfaction': satisfaction, 'count': len(all_words) *[1]})\n",
    "all_words_df.head()"
   ],
   "metadata": {
    "collapsed": false,
    "pycharm": {
     "name": "#%%\n"
    }
   }
  },
  {
   "cell_type": "code",
   "execution_count": 31,
   "outputs": [
    {
     "data": {
      "text/plain": "       satisfaction  count\nwords                     \nBBB             2.0      1\n^^              5.0      1\nおじさん            1.0      1\nごみ              2.0      1\nそう              1.0      1",
      "text/html": "<div>\n<style scoped>\n    .dataframe tbody tr th:only-of-type {\n        vertical-align: middle;\n    }\n\n    .dataframe tbody tr th {\n        vertical-align: top;\n    }\n\n    .dataframe thead th {\n        text-align: right;\n    }\n</style>\n<table border=\"1\" class=\"dataframe\">\n  <thead>\n    <tr style=\"text-align: right;\">\n      <th></th>\n      <th>satisfaction</th>\n      <th>count</th>\n    </tr>\n    <tr>\n      <th>words</th>\n      <th></th>\n      <th></th>\n    </tr>\n  </thead>\n  <tbody>\n    <tr>\n      <th>BBB</th>\n      <td>2.0</td>\n      <td>1</td>\n    </tr>\n    <tr>\n      <th>^^</th>\n      <td>5.0</td>\n      <td>1</td>\n    </tr>\n    <tr>\n      <th>おじさん</th>\n      <td>1.0</td>\n      <td>1</td>\n    </tr>\n    <tr>\n      <th>ごみ</th>\n      <td>2.0</td>\n      <td>1</td>\n    </tr>\n    <tr>\n      <th>そう</th>\n      <td>1.0</td>\n      <td>1</td>\n    </tr>\n  </tbody>\n</table>\n</div>"
     },
     "execution_count": 31,
     "metadata": {},
     "output_type": "execute_result"
    }
   ],
   "source": [
    "words_satisfaction = all_words_df.groupby('words').mean()['satisfaction']\n",
    "words_count = all_words_df.groupby('words').sum()['count']\n",
    "words_df = pd.concat([words_satisfaction, words_count], axis=1)\n",
    "words_df.head()"
   ],
   "metadata": {
    "collapsed": false,
    "pycharm": {
     "name": "#%%\n"
    }
   }
  },
  {
   "cell_type": "code",
   "execution_count": 32,
   "outputs": [
    {
     "data": {
      "text/plain": "       satisfaction  count\nwords                     \n子育て        4.333333      3\n綺麗         4.333333      3\n安心         4.333333      3\nスポーツ       3.666667      3\n道          3.000000      3",
      "text/html": "<div>\n<style scoped>\n    .dataframe tbody tr th:only-of-type {\n        vertical-align: middle;\n    }\n\n    .dataframe tbody tr th {\n        vertical-align: top;\n    }\n\n    .dataframe thead th {\n        text-align: right;\n    }\n</style>\n<table border=\"1\" class=\"dataframe\">\n  <thead>\n    <tr style=\"text-align: right;\">\n      <th></th>\n      <th>satisfaction</th>\n      <th>count</th>\n    </tr>\n    <tr>\n      <th>words</th>\n      <th></th>\n      <th></th>\n    </tr>\n  </thead>\n  <tbody>\n    <tr>\n      <th>子育て</th>\n      <td>4.333333</td>\n      <td>3</td>\n    </tr>\n    <tr>\n      <th>綺麗</th>\n      <td>4.333333</td>\n      <td>3</td>\n    </tr>\n    <tr>\n      <th>安心</th>\n      <td>4.333333</td>\n      <td>3</td>\n    </tr>\n    <tr>\n      <th>スポーツ</th>\n      <td>3.666667</td>\n      <td>3</td>\n    </tr>\n    <tr>\n      <th>道</th>\n      <td>3.000000</td>\n      <td>3</td>\n    </tr>\n  </tbody>\n</table>\n</div>"
     },
     "execution_count": 32,
     "metadata": {},
     "output_type": "execute_result"
    }
   ],
   "source": [
    "words_df = words_df.loc[words_df['count'] >= 3]\n",
    "words_df.sort_values('satisfaction', ascending=False).head()"
   ],
   "metadata": {
    "collapsed": false,
    "pycharm": {
     "name": "#%%\n"
    }
   }
  },
  {
   "cell_type": "code",
   "execution_count": 33,
   "outputs": [
    {
     "data": {
      "text/plain": "       satisfaction  count\nwords                     \n駐車         1.000000      4\n場          1.000000      4\n信号         1.333333      3\n大変         1.333333      3\n駅前         1.428571      7",
      "text/html": "<div>\n<style scoped>\n    .dataframe tbody tr th:only-of-type {\n        vertical-align: middle;\n    }\n\n    .dataframe tbody tr th {\n        vertical-align: top;\n    }\n\n    .dataframe thead th {\n        text-align: right;\n    }\n</style>\n<table border=\"1\" class=\"dataframe\">\n  <thead>\n    <tr style=\"text-align: right;\">\n      <th></th>\n      <th>satisfaction</th>\n      <th>count</th>\n    </tr>\n    <tr>\n      <th>words</th>\n      <th></th>\n      <th></th>\n    </tr>\n  </thead>\n  <tbody>\n    <tr>\n      <th>駐車</th>\n      <td>1.000000</td>\n      <td>4</td>\n    </tr>\n    <tr>\n      <th>場</th>\n      <td>1.000000</td>\n      <td>4</td>\n    </tr>\n    <tr>\n      <th>信号</th>\n      <td>1.333333</td>\n      <td>3</td>\n    </tr>\n    <tr>\n      <th>大変</th>\n      <td>1.333333</td>\n      <td>3</td>\n    </tr>\n    <tr>\n      <th>駅前</th>\n      <td>1.428571</td>\n      <td>7</td>\n    </tr>\n  </tbody>\n</table>\n</div>"
     },
     "execution_count": 33,
     "metadata": {},
     "output_type": "execute_result"
    }
   ],
   "source": [
    "words_df.sort_values('satisfaction').head()"
   ],
   "metadata": {
    "collapsed": false,
    "pycharm": {
     "name": "#%%\n"
    }
   }
  },
  {
   "cell_type": "markdown",
   "source": [
    "満足度の高い Keyword: 子育てなど\n",
    "満足度の低い Keyword: 駐車など"
   ],
   "metadata": {
    "collapsed": false,
    "pycharm": {
     "name": "#%% md\n"
    }
   }
  }
 ],
 "metadata": {
  "kernelspec": {
   "display_name": "Python 3 (ipykernel)",
   "language": "python",
   "name": "python3"
  },
  "language_info": {
   "codemirror_mode": {
    "name": "ipython",
    "version": 3
   },
   "file_extension": ".py",
   "mimetype": "text/x-python",
   "name": "python",
   "nbconvert_exporter": "python",
   "pygments_lexer": "ipython3",
   "version": "3.10.0"
  }
 },
 "nbformat": 4,
 "nbformat_minor": 1
}