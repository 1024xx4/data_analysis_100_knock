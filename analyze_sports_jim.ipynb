{
 "cells": [
  {
   "cell_type": "code",
   "execution_count": 1,
   "metadata": {
    "collapsed": true
   },
   "outputs": [
    {
     "name": "stdout",
     "output_type": "stream",
     "text": [
      "197428\n"
     ]
    },
    {
     "data": {
      "text/plain": "            log_id customer_id     usedate\n0  L00000049012330    AS009373  2018-04-01\n1  L00000049012331    AS015315  2018-04-01\n2  L00000049012332    AS040841  2018-04-01\n3  L00000049012333    AS046594  2018-04-01\n4  L00000049012334    AS073285  2018-04-01",
      "text/html": "<div>\n<style scoped>\n    .dataframe tbody tr th:only-of-type {\n        vertical-align: middle;\n    }\n\n    .dataframe tbody tr th {\n        vertical-align: top;\n    }\n\n    .dataframe thead th {\n        text-align: right;\n    }\n</style>\n<table border=\"1\" class=\"dataframe\">\n  <thead>\n    <tr style=\"text-align: right;\">\n      <th></th>\n      <th>log_id</th>\n      <th>customer_id</th>\n      <th>usedate</th>\n    </tr>\n  </thead>\n  <tbody>\n    <tr>\n      <th>0</th>\n      <td>L00000049012330</td>\n      <td>AS009373</td>\n      <td>2018-04-01</td>\n    </tr>\n    <tr>\n      <th>1</th>\n      <td>L00000049012331</td>\n      <td>AS015315</td>\n      <td>2018-04-01</td>\n    </tr>\n    <tr>\n      <th>2</th>\n      <td>L00000049012332</td>\n      <td>AS040841</td>\n      <td>2018-04-01</td>\n    </tr>\n    <tr>\n      <th>3</th>\n      <td>L00000049012333</td>\n      <td>AS046594</td>\n      <td>2018-04-01</td>\n    </tr>\n    <tr>\n      <th>4</th>\n      <td>L00000049012334</td>\n      <td>AS073285</td>\n      <td>2018-04-01</td>\n    </tr>\n  </tbody>\n</table>\n</div>"
     },
     "execution_count": 1,
     "metadata": {},
     "output_type": "execute_result"
    }
   ],
   "source": [
    "# Data を読み込んで把握する\n",
    "import pandas as pd\n",
    "\n",
    "# Jim の利用履歴(2018/04 ~ 2019/03)の Data\n",
    "uselog = pd.read_csv('sample_code/chapter_3/use_log.csv')\n",
    "print(len(uselog))\n",
    "uselog.head()"
   ]
  },
  {
   "cell_type": "markdown",
   "source": [
    "### uselog(利用履歴)\n",
    "- 顧客ID、利用日を含んだ３列のみの Simple な Data.\n",
    "- どの顧客がいつ Jim を利用したのかがわかる。\n",
    "- 件数は、197,428件と縦に長い。"
   ],
   "metadata": {
    "collapsed": false
   }
  },
  {
   "cell_type": "code",
   "execution_count": 2,
   "outputs": [
    {
     "name": "stdout",
     "output_type": "stream",
     "text": [
      "4192\n"
     ]
    },
    {
     "data": {
      "text/plain": "  customer_id   name class gender           start_date end_date campaign_id  \\\n0    OA832399   XXXX   C01      F  2015-05-01 00:00:00      NaN         CA1   \n1    PL270116  XXXXX   C01      M  2015-05-01 00:00:00      NaN         CA1   \n2    OA974876  XXXXX   C01      M  2015-05-01 00:00:00      NaN         CA1   \n3    HD024127  XXXXX   C01      F  2015-05-01 00:00:00      NaN         CA1   \n4    HD661448  XXXXX   C03      F  2015-05-01 00:00:00      NaN         CA1   \n\n   is_deleted  \n0           0  \n1           0  \n2           0  \n3           0  \n4           0  ",
      "text/html": "<div>\n<style scoped>\n    .dataframe tbody tr th:only-of-type {\n        vertical-align: middle;\n    }\n\n    .dataframe tbody tr th {\n        vertical-align: top;\n    }\n\n    .dataframe thead th {\n        text-align: right;\n    }\n</style>\n<table border=\"1\" class=\"dataframe\">\n  <thead>\n    <tr style=\"text-align: right;\">\n      <th></th>\n      <th>customer_id</th>\n      <th>name</th>\n      <th>class</th>\n      <th>gender</th>\n      <th>start_date</th>\n      <th>end_date</th>\n      <th>campaign_id</th>\n      <th>is_deleted</th>\n    </tr>\n  </thead>\n  <tbody>\n    <tr>\n      <th>0</th>\n      <td>OA832399</td>\n      <td>XXXX</td>\n      <td>C01</td>\n      <td>F</td>\n      <td>2015-05-01 00:00:00</td>\n      <td>NaN</td>\n      <td>CA1</td>\n      <td>0</td>\n    </tr>\n    <tr>\n      <th>1</th>\n      <td>PL270116</td>\n      <td>XXXXX</td>\n      <td>C01</td>\n      <td>M</td>\n      <td>2015-05-01 00:00:00</td>\n      <td>NaN</td>\n      <td>CA1</td>\n      <td>0</td>\n    </tr>\n    <tr>\n      <th>2</th>\n      <td>OA974876</td>\n      <td>XXXXX</td>\n      <td>C01</td>\n      <td>M</td>\n      <td>2015-05-01 00:00:00</td>\n      <td>NaN</td>\n      <td>CA1</td>\n      <td>0</td>\n    </tr>\n    <tr>\n      <th>3</th>\n      <td>HD024127</td>\n      <td>XXXXX</td>\n      <td>C01</td>\n      <td>F</td>\n      <td>2015-05-01 00:00:00</td>\n      <td>NaN</td>\n      <td>CA1</td>\n      <td>0</td>\n    </tr>\n    <tr>\n      <th>4</th>\n      <td>HD661448</td>\n      <td>XXXXX</td>\n      <td>C03</td>\n      <td>F</td>\n      <td>2015-05-01 00:00:00</td>\n      <td>NaN</td>\n      <td>CA1</td>\n      <td>0</td>\n    </tr>\n  </tbody>\n</table>\n</div>"
     },
     "execution_count": 2,
     "metadata": {},
     "output_type": "execute_result"
    }
   ],
   "source": [
    "# 2019/03 末時点での会員 Data\n",
    "customer = pd.read_csv('sample_code/chapter_3/customer_master.csv')\n",
    "print(len(customer))\n",
    "customer.head()"
   ],
   "metadata": {
    "collapsed": false,
    "pycharm": {
     "name": "#%%\n"
    }
   }
  },
  {
   "cell_type": "markdown",
   "source": [
    "### customer(会員)\n",
    "- 顧客ID、名前、会員 Class、性別、登録日等の情報が含まれている。\n",
    "- 名前は Masking されており、名前だけでは個人は特定できないようになっている。\n",
    "- is_delete 列は、2019年3月時点で大会している User を System 的に素早く検索するための列\n",
    "   => **uselog と customer_id の紐づけが可能。**\n",
    "- すでい退会済みの User も含めて4,192人。\n",
    "- class, campaign_id 列を用いれば、self data と結合できる。"
   ],
   "metadata": {
    "collapsed": false,
    "pycharm": {
     "name": "#%% md\n"
    }
   }
  },
  {
   "cell_type": "code",
   "execution_count": 4,
   "outputs": [
    {
     "name": "stdout",
     "output_type": "stream",
     "text": [
      "3\n"
     ]
    },
    {
     "data": {
      "text/plain": "  class class_name  price\n0   C01     オールタイム  10500\n1   C02      デイタイム   7500\n2   C03        ナイト   6000",
      "text/html": "<div>\n<style scoped>\n    .dataframe tbody tr th:only-of-type {\n        vertical-align: middle;\n    }\n\n    .dataframe tbody tr th {\n        vertical-align: top;\n    }\n\n    .dataframe thead th {\n        text-align: right;\n    }\n</style>\n<table border=\"1\" class=\"dataframe\">\n  <thead>\n    <tr style=\"text-align: right;\">\n      <th></th>\n      <th>class</th>\n      <th>class_name</th>\n      <th>price</th>\n    </tr>\n  </thead>\n  <tbody>\n    <tr>\n      <th>0</th>\n      <td>C01</td>\n      <td>オールタイム</td>\n      <td>10500</td>\n    </tr>\n    <tr>\n      <th>1</th>\n      <td>C02</td>\n      <td>デイタイム</td>\n      <td>7500</td>\n    </tr>\n    <tr>\n      <th>2</th>\n      <td>C03</td>\n      <td>ナイト</td>\n      <td>6000</td>\n    </tr>\n  </tbody>\n</table>\n</div>"
     },
     "execution_count": 4,
     "metadata": {},
     "output_type": "execute_result"
    }
   ],
   "source": [
    "# 会員区分 Data\n",
    "class_master = pd.read_csv('sample_code/chapter_3/class_master.csv')\n",
    "print(len(class_master))\n",
    "class_master.head()"
   ],
   "metadata": {
    "collapsed": false,
    "pycharm": {
     "name": "#%%\n"
    }
   }
  },
  {
   "cell_type": "code",
   "execution_count": 5,
   "outputs": [
    {
     "name": "stdout",
     "output_type": "stream",
     "text": [
      "3\n"
     ]
    },
    {
     "data": {
      "text/plain": "  campaign_id campaign_name\n0         CA1            通常\n1         CA2         入会費半額\n2         CA3         入会費無料",
      "text/html": "<div>\n<style scoped>\n    .dataframe tbody tr th:only-of-type {\n        vertical-align: middle;\n    }\n\n    .dataframe tbody tr th {\n        vertical-align: top;\n    }\n\n    .dataframe thead th {\n        text-align: right;\n    }\n</style>\n<table border=\"1\" class=\"dataframe\">\n  <thead>\n    <tr style=\"text-align: right;\">\n      <th></th>\n      <th>campaign_id</th>\n      <th>campaign_name</th>\n    </tr>\n  </thead>\n  <tbody>\n    <tr>\n      <th>0</th>\n      <td>CA1</td>\n      <td>通常</td>\n    </tr>\n    <tr>\n      <th>1</th>\n      <td>CA2</td>\n      <td>入会費半額</td>\n    </tr>\n    <tr>\n      <th>2</th>\n      <td>CA3</td>\n      <td>入会費無料</td>\n    </tr>\n  </tbody>\n</table>\n</div>"
     },
     "execution_count": 5,
     "metadata": {},
     "output_type": "execute_result"
    }
   ],
   "source": [
    "# Campaign 区分 Data\n",
    "campaign_master = pd.read_csv('sample_code/chapter_3/campaign_master.csv')\n",
    "print(len(campaign_master))\n",
    "campaign_master.head()"
   ],
   "metadata": {
    "collapsed": false,
    "pycharm": {
     "name": "#%%\n"
    }
   }
  },
  {
   "cell_type": "markdown",
   "source": [
    "### 加工にあたり、主にする Data\n",
    "- customer(顧客 Data)\n",
    "- uselog(利用履歴)\n",
    "\n",
    "が考えらえる。\n",
    "\n",
    "まず、Data 数の少ない customer(顧客 Data)を主に考えていく。\n",
    "\n",
    "一旦、uselog(利用履歴) data を置いておいて customer(顧客 Data)を整形し、どのような顧客が何人くらいいるのか等の全体像を掴む。"
   ],
   "metadata": {
    "collapsed": false,
    "pycharm": {
     "name": "#%% md\n"
    }
   }
  },
  {
   "cell_type": "code",
   "execution_count": 6,
   "outputs": [
    {
     "data": {
      "text/plain": "     customer_id   name class gender           start_date end_date  \\\n0       OA832399   XXXX   C01      F  2015-05-01 00:00:00      NaN   \n1       PL270116  XXXXX   C01      M  2015-05-01 00:00:00      NaN   \n2       OA974876  XXXXX   C01      M  2015-05-01 00:00:00      NaN   \n3       HD024127  XXXXX   C01      F  2015-05-01 00:00:00      NaN   \n4       HD661448  XXXXX   C03      F  2015-05-01 00:00:00      NaN   \n...          ...    ...   ...    ...                  ...      ...   \n4187    HD676663   XXXX   C01      M  2019-03-14 00:00:00      NaN   \n4188    HD246549  XXXXX   C01      F  2019-03-14 00:00:00      NaN   \n4189    GD037007  XXXXX   C03      M  2019-03-14 00:00:00      NaN   \n4190    OA953150  XXXXX   C01      M  2019-03-14 00:00:00      NaN   \n4191    IK692635  XXXXX   C02      F  2019-03-15 00:00:00      NaN   \n\n     campaign_id  is_deleted class_name  price campaign_name  \n0            CA1           0     オールタイム  10500            通常  \n1            CA1           0     オールタイム  10500            通常  \n2            CA1           0     オールタイム  10500            通常  \n3            CA1           0     オールタイム  10500            通常  \n4            CA1           0        ナイト   6000            通常  \n...          ...         ...        ...    ...           ...  \n4187         CA1           0     オールタイム  10500            通常  \n4188         CA1           0     オールタイム  10500            通常  \n4189         CA1           0        ナイト   6000            通常  \n4190         CA1           0     オールタイム  10500            通常  \n4191         CA1           0      デイタイム   7500            通常  \n\n[4192 rows x 11 columns]",
      "text/html": "<div>\n<style scoped>\n    .dataframe tbody tr th:only-of-type {\n        vertical-align: middle;\n    }\n\n    .dataframe tbody tr th {\n        vertical-align: top;\n    }\n\n    .dataframe thead th {\n        text-align: right;\n    }\n</style>\n<table border=\"1\" class=\"dataframe\">\n  <thead>\n    <tr style=\"text-align: right;\">\n      <th></th>\n      <th>customer_id</th>\n      <th>name</th>\n      <th>class</th>\n      <th>gender</th>\n      <th>start_date</th>\n      <th>end_date</th>\n      <th>campaign_id</th>\n      <th>is_deleted</th>\n      <th>class_name</th>\n      <th>price</th>\n      <th>campaign_name</th>\n    </tr>\n  </thead>\n  <tbody>\n    <tr>\n      <th>0</th>\n      <td>OA832399</td>\n      <td>XXXX</td>\n      <td>C01</td>\n      <td>F</td>\n      <td>2015-05-01 00:00:00</td>\n      <td>NaN</td>\n      <td>CA1</td>\n      <td>0</td>\n      <td>オールタイム</td>\n      <td>10500</td>\n      <td>通常</td>\n    </tr>\n    <tr>\n      <th>1</th>\n      <td>PL270116</td>\n      <td>XXXXX</td>\n      <td>C01</td>\n      <td>M</td>\n      <td>2015-05-01 00:00:00</td>\n      <td>NaN</td>\n      <td>CA1</td>\n      <td>0</td>\n      <td>オールタイム</td>\n      <td>10500</td>\n      <td>通常</td>\n    </tr>\n    <tr>\n      <th>2</th>\n      <td>OA974876</td>\n      <td>XXXXX</td>\n      <td>C01</td>\n      <td>M</td>\n      <td>2015-05-01 00:00:00</td>\n      <td>NaN</td>\n      <td>CA1</td>\n      <td>0</td>\n      <td>オールタイム</td>\n      <td>10500</td>\n      <td>通常</td>\n    </tr>\n    <tr>\n      <th>3</th>\n      <td>HD024127</td>\n      <td>XXXXX</td>\n      <td>C01</td>\n      <td>F</td>\n      <td>2015-05-01 00:00:00</td>\n      <td>NaN</td>\n      <td>CA1</td>\n      <td>0</td>\n      <td>オールタイム</td>\n      <td>10500</td>\n      <td>通常</td>\n    </tr>\n    <tr>\n      <th>4</th>\n      <td>HD661448</td>\n      <td>XXXXX</td>\n      <td>C03</td>\n      <td>F</td>\n      <td>2015-05-01 00:00:00</td>\n      <td>NaN</td>\n      <td>CA1</td>\n      <td>0</td>\n      <td>ナイト</td>\n      <td>6000</td>\n      <td>通常</td>\n    </tr>\n    <tr>\n      <th>...</th>\n      <td>...</td>\n      <td>...</td>\n      <td>...</td>\n      <td>...</td>\n      <td>...</td>\n      <td>...</td>\n      <td>...</td>\n      <td>...</td>\n      <td>...</td>\n      <td>...</td>\n      <td>...</td>\n    </tr>\n    <tr>\n      <th>4187</th>\n      <td>HD676663</td>\n      <td>XXXX</td>\n      <td>C01</td>\n      <td>M</td>\n      <td>2019-03-14 00:00:00</td>\n      <td>NaN</td>\n      <td>CA1</td>\n      <td>0</td>\n      <td>オールタイム</td>\n      <td>10500</td>\n      <td>通常</td>\n    </tr>\n    <tr>\n      <th>4188</th>\n      <td>HD246549</td>\n      <td>XXXXX</td>\n      <td>C01</td>\n      <td>F</td>\n      <td>2019-03-14 00:00:00</td>\n      <td>NaN</td>\n      <td>CA1</td>\n      <td>0</td>\n      <td>オールタイム</td>\n      <td>10500</td>\n      <td>通常</td>\n    </tr>\n    <tr>\n      <th>4189</th>\n      <td>GD037007</td>\n      <td>XXXXX</td>\n      <td>C03</td>\n      <td>M</td>\n      <td>2019-03-14 00:00:00</td>\n      <td>NaN</td>\n      <td>CA1</td>\n      <td>0</td>\n      <td>ナイト</td>\n      <td>6000</td>\n      <td>通常</td>\n    </tr>\n    <tr>\n      <th>4190</th>\n      <td>OA953150</td>\n      <td>XXXXX</td>\n      <td>C01</td>\n      <td>M</td>\n      <td>2019-03-14 00:00:00</td>\n      <td>NaN</td>\n      <td>CA1</td>\n      <td>0</td>\n      <td>オールタイム</td>\n      <td>10500</td>\n      <td>通常</td>\n    </tr>\n    <tr>\n      <th>4191</th>\n      <td>IK692635</td>\n      <td>XXXXX</td>\n      <td>C02</td>\n      <td>F</td>\n      <td>2019-03-15 00:00:00</td>\n      <td>NaN</td>\n      <td>CA1</td>\n      <td>0</td>\n      <td>デイタイム</td>\n      <td>7500</td>\n      <td>通常</td>\n    </tr>\n  </tbody>\n</table>\n<p>4192 rows × 11 columns</p>\n</div>"
     },
     "execution_count": 6,
     "metadata": {},
     "output_type": "execute_result"
    }
   ],
   "source": [
    "# 顧客 Data を整形する\n",
    "\n",
    "customer_join = pd.merge(customer, class_master, on='class', how='left')\n",
    "customer_join = pd.merge(customer_join, campaign_master, on='campaign_id', how='left')\n",
    "customer_join"
   ],
   "metadata": {
    "collapsed": false,
    "pycharm": {
     "name": "#%%\n"
    }
   }
  },
  {
   "cell_type": "code",
   "execution_count": 7,
   "outputs": [
    {
     "name": "stdout",
     "output_type": "stream",
     "text": [
      "4192\n",
      "4192\n"
     ]
    }
   ],
   "source": [
    "print(len(customer))\n",
    "print(len(customer_join))"
   ],
   "metadata": {
    "collapsed": false,
    "pycharm": {
     "name": "#%%\n"
    }
   }
  },
  {
   "cell_type": "markdown",
   "source": [
    "会員区分や金額等がわかるように Data 整形完了。\n",
    "Data 件数も、Join 前後で変化がないことを確認。\n",
    "\n",
    "欠損値の確認をする。"
   ],
   "metadata": {
    "collapsed": false,
    "pycharm": {
     "name": "#%% md\n"
    }
   }
  },
  {
   "cell_type": "code",
   "execution_count": 8,
   "outputs": [
    {
     "data": {
      "text/plain": "customer_id         0\nname                0\nclass               0\ngender              0\nstart_date          0\nend_date         2842\ncampaign_id         0\nis_deleted          0\nclass_name          0\nprice               0\ncampaign_name       0\ndtype: int64"
     },
     "execution_count": 8,
     "metadata": {},
     "output_type": "execute_result"
    }
   ],
   "source": [
    "customer_join.isnull().sum()"
   ],
   "metadata": {
    "collapsed": false,
    "pycharm": {
     "name": "#%%\n"
    }
   }
  },
  {
   "cell_type": "markdown",
   "source": [
    "- end_date 以外は欠損値が0\n",
    "- end_date に欠損値が入っていること以外は比較的綺麗な Data.\n",
    "  退会していない User は退会日である end_date を保持していないため、欠損値となっていると思われる。\n",
    "\n"
   ],
   "metadata": {
    "collapsed": false,
    "pycharm": {
     "name": "#%% md\n"
    }
   }
  }
 ],
 "metadata": {
  "kernelspec": {
   "display_name": "Python 3",
   "language": "python",
   "name": "python3"
  },
  "language_info": {
   "codemirror_mode": {
    "name": "ipython",
    "version": 2
   },
   "file_extension": ".py",
   "mimetype": "text/x-python",
   "name": "python",
   "nbconvert_exporter": "python",
   "pygments_lexer": "ipython2",
   "version": "2.7.6"
  }
 },
 "nbformat": 4,
 "nbformat_minor": 0
}