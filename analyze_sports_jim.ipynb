{
 "cells": [
  {
   "cell_type": "code",
   "execution_count": 1,
   "metadata": {
    "collapsed": true
   },
   "outputs": [
    {
     "name": "stdout",
     "output_type": "stream",
     "text": [
      "197428\n"
     ]
    },
    {
     "data": {
      "text/plain": "            log_id customer_id     usedate\n0  L00000049012330    AS009373  2018-04-01\n1  L00000049012331    AS015315  2018-04-01\n2  L00000049012332    AS040841  2018-04-01\n3  L00000049012333    AS046594  2018-04-01\n4  L00000049012334    AS073285  2018-04-01",
      "text/html": "<div>\n<style scoped>\n    .dataframe tbody tr th:only-of-type {\n        vertical-align: middle;\n    }\n\n    .dataframe tbody tr th {\n        vertical-align: top;\n    }\n\n    .dataframe thead th {\n        text-align: right;\n    }\n</style>\n<table border=\"1\" class=\"dataframe\">\n  <thead>\n    <tr style=\"text-align: right;\">\n      <th></th>\n      <th>log_id</th>\n      <th>customer_id</th>\n      <th>usedate</th>\n    </tr>\n  </thead>\n  <tbody>\n    <tr>\n      <th>0</th>\n      <td>L00000049012330</td>\n      <td>AS009373</td>\n      <td>2018-04-01</td>\n    </tr>\n    <tr>\n      <th>1</th>\n      <td>L00000049012331</td>\n      <td>AS015315</td>\n      <td>2018-04-01</td>\n    </tr>\n    <tr>\n      <th>2</th>\n      <td>L00000049012332</td>\n      <td>AS040841</td>\n      <td>2018-04-01</td>\n    </tr>\n    <tr>\n      <th>3</th>\n      <td>L00000049012333</td>\n      <td>AS046594</td>\n      <td>2018-04-01</td>\n    </tr>\n    <tr>\n      <th>4</th>\n      <td>L00000049012334</td>\n      <td>AS073285</td>\n      <td>2018-04-01</td>\n    </tr>\n  </tbody>\n</table>\n</div>"
     },
     "execution_count": 1,
     "metadata": {},
     "output_type": "execute_result"
    }
   ],
   "source": [
    "# Data を読み込んで把握する\n",
    "import pandas as pd\n",
    "\n",
    "# Jim の利用履歴(2018/04 ~ 2019/03)の Data\n",
    "uselog = pd.read_csv('sample_code/chapter_3/use_log.csv')\n",
    "print(len(uselog))\n",
    "uselog.head()"
   ]
  },
  {
   "cell_type": "markdown",
   "source": [
    "### uselog(利用履歴)\n",
    "- 顧客ID、利用日を含んだ３列のみの Simple な Data.\n",
    "- どの顧客がいつ Jim を利用したのかがわかる。\n",
    "- 件数は、197,428件と縦に長い。"
   ],
   "metadata": {
    "collapsed": false
   }
  },
  {
   "cell_type": "code",
   "execution_count": 2,
   "outputs": [
    {
     "name": "stdout",
     "output_type": "stream",
     "text": [
      "4192\n"
     ]
    },
    {
     "data": {
      "text/plain": "  customer_id   name class gender           start_date end_date campaign_id  \\\n0    OA832399   XXXX   C01      F  2015-05-01 00:00:00      NaN         CA1   \n1    PL270116  XXXXX   C01      M  2015-05-01 00:00:00      NaN         CA1   \n2    OA974876  XXXXX   C01      M  2015-05-01 00:00:00      NaN         CA1   \n3    HD024127  XXXXX   C01      F  2015-05-01 00:00:00      NaN         CA1   \n4    HD661448  XXXXX   C03      F  2015-05-01 00:00:00      NaN         CA1   \n\n   is_deleted  \n0           0  \n1           0  \n2           0  \n3           0  \n4           0  ",
      "text/html": "<div>\n<style scoped>\n    .dataframe tbody tr th:only-of-type {\n        vertical-align: middle;\n    }\n\n    .dataframe tbody tr th {\n        vertical-align: top;\n    }\n\n    .dataframe thead th {\n        text-align: right;\n    }\n</style>\n<table border=\"1\" class=\"dataframe\">\n  <thead>\n    <tr style=\"text-align: right;\">\n      <th></th>\n      <th>customer_id</th>\n      <th>name</th>\n      <th>class</th>\n      <th>gender</th>\n      <th>start_date</th>\n      <th>end_date</th>\n      <th>campaign_id</th>\n      <th>is_deleted</th>\n    </tr>\n  </thead>\n  <tbody>\n    <tr>\n      <th>0</th>\n      <td>OA832399</td>\n      <td>XXXX</td>\n      <td>C01</td>\n      <td>F</td>\n      <td>2015-05-01 00:00:00</td>\n      <td>NaN</td>\n      <td>CA1</td>\n      <td>0</td>\n    </tr>\n    <tr>\n      <th>1</th>\n      <td>PL270116</td>\n      <td>XXXXX</td>\n      <td>C01</td>\n      <td>M</td>\n      <td>2015-05-01 00:00:00</td>\n      <td>NaN</td>\n      <td>CA1</td>\n      <td>0</td>\n    </tr>\n    <tr>\n      <th>2</th>\n      <td>OA974876</td>\n      <td>XXXXX</td>\n      <td>C01</td>\n      <td>M</td>\n      <td>2015-05-01 00:00:00</td>\n      <td>NaN</td>\n      <td>CA1</td>\n      <td>0</td>\n    </tr>\n    <tr>\n      <th>3</th>\n      <td>HD024127</td>\n      <td>XXXXX</td>\n      <td>C01</td>\n      <td>F</td>\n      <td>2015-05-01 00:00:00</td>\n      <td>NaN</td>\n      <td>CA1</td>\n      <td>0</td>\n    </tr>\n    <tr>\n      <th>4</th>\n      <td>HD661448</td>\n      <td>XXXXX</td>\n      <td>C03</td>\n      <td>F</td>\n      <td>2015-05-01 00:00:00</td>\n      <td>NaN</td>\n      <td>CA1</td>\n      <td>0</td>\n    </tr>\n  </tbody>\n</table>\n</div>"
     },
     "execution_count": 2,
     "metadata": {},
     "output_type": "execute_result"
    }
   ],
   "source": [
    "# 2019/03 末時点での会員 Data\n",
    "customer = pd.read_csv('sample_code/chapter_3/customer_master.csv')\n",
    "print(len(customer))\n",
    "customer.head()"
   ],
   "metadata": {
    "collapsed": false,
    "pycharm": {
     "name": "#%%\n"
    }
   }
  },
  {
   "cell_type": "markdown",
   "source": [
    "### customer(会員)\n",
    "- 顧客ID、名前、会員 Class、性別、登録日等の情報が含まれている。\n",
    "- 名前は Masking されており、名前だけでは個人は特定できないようになっている。\n",
    "- is_delete 列は、2019年3月時点で大会している User を System 的に素早く検索するための列\n",
    "   => **uselog と customer_id の紐づけが可能。**\n",
    "- すでい退会済みの User も含めて4,192人。\n",
    "- class, campaign_id 列を用いれば、self data と結合できる。"
   ],
   "metadata": {
    "collapsed": false,
    "pycharm": {
     "name": "#%% md\n"
    }
   }
  },
  {
   "cell_type": "code",
   "execution_count": 3,
   "outputs": [
    {
     "name": "stdout",
     "output_type": "stream",
     "text": [
      "3\n"
     ]
    },
    {
     "data": {
      "text/plain": "  class class_name  price\n0   C01     オールタイム  10500\n1   C02      デイタイム   7500\n2   C03        ナイト   6000",
      "text/html": "<div>\n<style scoped>\n    .dataframe tbody tr th:only-of-type {\n        vertical-align: middle;\n    }\n\n    .dataframe tbody tr th {\n        vertical-align: top;\n    }\n\n    .dataframe thead th {\n        text-align: right;\n    }\n</style>\n<table border=\"1\" class=\"dataframe\">\n  <thead>\n    <tr style=\"text-align: right;\">\n      <th></th>\n      <th>class</th>\n      <th>class_name</th>\n      <th>price</th>\n    </tr>\n  </thead>\n  <tbody>\n    <tr>\n      <th>0</th>\n      <td>C01</td>\n      <td>オールタイム</td>\n      <td>10500</td>\n    </tr>\n    <tr>\n      <th>1</th>\n      <td>C02</td>\n      <td>デイタイム</td>\n      <td>7500</td>\n    </tr>\n    <tr>\n      <th>2</th>\n      <td>C03</td>\n      <td>ナイト</td>\n      <td>6000</td>\n    </tr>\n  </tbody>\n</table>\n</div>"
     },
     "execution_count": 3,
     "metadata": {},
     "output_type": "execute_result"
    }
   ],
   "source": [
    "# 会員区分 Data\n",
    "class_master = pd.read_csv('sample_code/chapter_3/class_master.csv')\n",
    "print(len(class_master))\n",
    "class_master.head()"
   ],
   "metadata": {
    "collapsed": false,
    "pycharm": {
     "name": "#%%\n"
    }
   }
  },
  {
   "cell_type": "code",
   "execution_count": 4,
   "outputs": [
    {
     "name": "stdout",
     "output_type": "stream",
     "text": [
      "3\n"
     ]
    },
    {
     "data": {
      "text/plain": "  campaign_id campaign_name\n0         CA1            通常\n1         CA2         入会費半額\n2         CA3         入会費無料",
      "text/html": "<div>\n<style scoped>\n    .dataframe tbody tr th:only-of-type {\n        vertical-align: middle;\n    }\n\n    .dataframe tbody tr th {\n        vertical-align: top;\n    }\n\n    .dataframe thead th {\n        text-align: right;\n    }\n</style>\n<table border=\"1\" class=\"dataframe\">\n  <thead>\n    <tr style=\"text-align: right;\">\n      <th></th>\n      <th>campaign_id</th>\n      <th>campaign_name</th>\n    </tr>\n  </thead>\n  <tbody>\n    <tr>\n      <th>0</th>\n      <td>CA1</td>\n      <td>通常</td>\n    </tr>\n    <tr>\n      <th>1</th>\n      <td>CA2</td>\n      <td>入会費半額</td>\n    </tr>\n    <tr>\n      <th>2</th>\n      <td>CA3</td>\n      <td>入会費無料</td>\n    </tr>\n  </tbody>\n</table>\n</div>"
     },
     "execution_count": 4,
     "metadata": {},
     "output_type": "execute_result"
    }
   ],
   "source": [
    "# Campaign 区分 Data\n",
    "campaign_master = pd.read_csv('sample_code/chapter_3/campaign_master.csv')\n",
    "print(len(campaign_master))\n",
    "campaign_master.head()"
   ],
   "metadata": {
    "collapsed": false,
    "pycharm": {
     "name": "#%%\n"
    }
   }
  },
  {
   "cell_type": "markdown",
   "source": [
    "### 加工にあたり、主にする Data\n",
    "- customer(顧客 Data)\n",
    "- uselog(利用履歴)\n",
    "\n",
    "が考えらえる。\n",
    "\n",
    "まず、Data 数の少ない customer(顧客 Data)を主に考えていく。\n",
    "\n",
    "一旦、uselog(利用履歴) data を置いておいて customer(顧客 Data)を整形し、どのような顧客が何人くらいいるのか等の全体像を掴む。"
   ],
   "metadata": {
    "collapsed": false,
    "pycharm": {
     "name": "#%% md\n"
    }
   }
  },
  {
   "cell_type": "code",
   "execution_count": 5,
   "outputs": [
    {
     "data": {
      "text/plain": "     customer_id   name class gender           start_date end_date  \\\n0       OA832399   XXXX   C01      F  2015-05-01 00:00:00      NaN   \n1       PL270116  XXXXX   C01      M  2015-05-01 00:00:00      NaN   \n2       OA974876  XXXXX   C01      M  2015-05-01 00:00:00      NaN   \n3       HD024127  XXXXX   C01      F  2015-05-01 00:00:00      NaN   \n4       HD661448  XXXXX   C03      F  2015-05-01 00:00:00      NaN   \n...          ...    ...   ...    ...                  ...      ...   \n4187    HD676663   XXXX   C01      M  2019-03-14 00:00:00      NaN   \n4188    HD246549  XXXXX   C01      F  2019-03-14 00:00:00      NaN   \n4189    GD037007  XXXXX   C03      M  2019-03-14 00:00:00      NaN   \n4190    OA953150  XXXXX   C01      M  2019-03-14 00:00:00      NaN   \n4191    IK692635  XXXXX   C02      F  2019-03-15 00:00:00      NaN   \n\n     campaign_id  is_deleted class_name  price campaign_name  \n0            CA1           0     オールタイム  10500            通常  \n1            CA1           0     オールタイム  10500            通常  \n2            CA1           0     オールタイム  10500            通常  \n3            CA1           0     オールタイム  10500            通常  \n4            CA1           0        ナイト   6000            通常  \n...          ...         ...        ...    ...           ...  \n4187         CA1           0     オールタイム  10500            通常  \n4188         CA1           0     オールタイム  10500            通常  \n4189         CA1           0        ナイト   6000            通常  \n4190         CA1           0     オールタイム  10500            通常  \n4191         CA1           0      デイタイム   7500            通常  \n\n[4192 rows x 11 columns]",
      "text/html": "<div>\n<style scoped>\n    .dataframe tbody tr th:only-of-type {\n        vertical-align: middle;\n    }\n\n    .dataframe tbody tr th {\n        vertical-align: top;\n    }\n\n    .dataframe thead th {\n        text-align: right;\n    }\n</style>\n<table border=\"1\" class=\"dataframe\">\n  <thead>\n    <tr style=\"text-align: right;\">\n      <th></th>\n      <th>customer_id</th>\n      <th>name</th>\n      <th>class</th>\n      <th>gender</th>\n      <th>start_date</th>\n      <th>end_date</th>\n      <th>campaign_id</th>\n      <th>is_deleted</th>\n      <th>class_name</th>\n      <th>price</th>\n      <th>campaign_name</th>\n    </tr>\n  </thead>\n  <tbody>\n    <tr>\n      <th>0</th>\n      <td>OA832399</td>\n      <td>XXXX</td>\n      <td>C01</td>\n      <td>F</td>\n      <td>2015-05-01 00:00:00</td>\n      <td>NaN</td>\n      <td>CA1</td>\n      <td>0</td>\n      <td>オールタイム</td>\n      <td>10500</td>\n      <td>通常</td>\n    </tr>\n    <tr>\n      <th>1</th>\n      <td>PL270116</td>\n      <td>XXXXX</td>\n      <td>C01</td>\n      <td>M</td>\n      <td>2015-05-01 00:00:00</td>\n      <td>NaN</td>\n      <td>CA1</td>\n      <td>0</td>\n      <td>オールタイム</td>\n      <td>10500</td>\n      <td>通常</td>\n    </tr>\n    <tr>\n      <th>2</th>\n      <td>OA974876</td>\n      <td>XXXXX</td>\n      <td>C01</td>\n      <td>M</td>\n      <td>2015-05-01 00:00:00</td>\n      <td>NaN</td>\n      <td>CA1</td>\n      <td>0</td>\n      <td>オールタイム</td>\n      <td>10500</td>\n      <td>通常</td>\n    </tr>\n    <tr>\n      <th>3</th>\n      <td>HD024127</td>\n      <td>XXXXX</td>\n      <td>C01</td>\n      <td>F</td>\n      <td>2015-05-01 00:00:00</td>\n      <td>NaN</td>\n      <td>CA1</td>\n      <td>0</td>\n      <td>オールタイム</td>\n      <td>10500</td>\n      <td>通常</td>\n    </tr>\n    <tr>\n      <th>4</th>\n      <td>HD661448</td>\n      <td>XXXXX</td>\n      <td>C03</td>\n      <td>F</td>\n      <td>2015-05-01 00:00:00</td>\n      <td>NaN</td>\n      <td>CA1</td>\n      <td>0</td>\n      <td>ナイト</td>\n      <td>6000</td>\n      <td>通常</td>\n    </tr>\n    <tr>\n      <th>...</th>\n      <td>...</td>\n      <td>...</td>\n      <td>...</td>\n      <td>...</td>\n      <td>...</td>\n      <td>...</td>\n      <td>...</td>\n      <td>...</td>\n      <td>...</td>\n      <td>...</td>\n      <td>...</td>\n    </tr>\n    <tr>\n      <th>4187</th>\n      <td>HD676663</td>\n      <td>XXXX</td>\n      <td>C01</td>\n      <td>M</td>\n      <td>2019-03-14 00:00:00</td>\n      <td>NaN</td>\n      <td>CA1</td>\n      <td>0</td>\n      <td>オールタイム</td>\n      <td>10500</td>\n      <td>通常</td>\n    </tr>\n    <tr>\n      <th>4188</th>\n      <td>HD246549</td>\n      <td>XXXXX</td>\n      <td>C01</td>\n      <td>F</td>\n      <td>2019-03-14 00:00:00</td>\n      <td>NaN</td>\n      <td>CA1</td>\n      <td>0</td>\n      <td>オールタイム</td>\n      <td>10500</td>\n      <td>通常</td>\n    </tr>\n    <tr>\n      <th>4189</th>\n      <td>GD037007</td>\n      <td>XXXXX</td>\n      <td>C03</td>\n      <td>M</td>\n      <td>2019-03-14 00:00:00</td>\n      <td>NaN</td>\n      <td>CA1</td>\n      <td>0</td>\n      <td>ナイト</td>\n      <td>6000</td>\n      <td>通常</td>\n    </tr>\n    <tr>\n      <th>4190</th>\n      <td>OA953150</td>\n      <td>XXXXX</td>\n      <td>C01</td>\n      <td>M</td>\n      <td>2019-03-14 00:00:00</td>\n      <td>NaN</td>\n      <td>CA1</td>\n      <td>0</td>\n      <td>オールタイム</td>\n      <td>10500</td>\n      <td>通常</td>\n    </tr>\n    <tr>\n      <th>4191</th>\n      <td>IK692635</td>\n      <td>XXXXX</td>\n      <td>C02</td>\n      <td>F</td>\n      <td>2019-03-15 00:00:00</td>\n      <td>NaN</td>\n      <td>CA1</td>\n      <td>0</td>\n      <td>デイタイム</td>\n      <td>7500</td>\n      <td>通常</td>\n    </tr>\n  </tbody>\n</table>\n<p>4192 rows × 11 columns</p>\n</div>"
     },
     "execution_count": 5,
     "metadata": {},
     "output_type": "execute_result"
    }
   ],
   "source": [
    "# 顧客 Data を整形する\n",
    "\n",
    "customer_join = pd.merge(customer, class_master, on='class', how='left')\n",
    "customer_join = pd.merge(customer_join, campaign_master, on='campaign_id', how='left')\n",
    "customer_join"
   ],
   "metadata": {
    "collapsed": false,
    "pycharm": {
     "name": "#%%\n"
    }
   }
  },
  {
   "cell_type": "code",
   "execution_count": 6,
   "outputs": [
    {
     "name": "stdout",
     "output_type": "stream",
     "text": [
      "4192\n",
      "4192\n"
     ]
    }
   ],
   "source": [
    "print(len(customer))\n",
    "print(len(customer_join))"
   ],
   "metadata": {
    "collapsed": false,
    "pycharm": {
     "name": "#%%\n"
    }
   }
  },
  {
   "cell_type": "markdown",
   "source": [
    "会員区分や金額等がわかるように Data 整形完了。\n",
    "Data 件数も、Join 前後で変化がないことを確認。\n",
    "\n",
    "欠損値の確認をする。"
   ],
   "metadata": {
    "collapsed": false,
    "pycharm": {
     "name": "#%% md\n"
    }
   }
  },
  {
   "cell_type": "code",
   "execution_count": 7,
   "outputs": [
    {
     "data": {
      "text/plain": "customer_id         0\nname                0\nclass               0\ngender              0\nstart_date          0\nend_date         2842\ncampaign_id         0\nis_deleted          0\nclass_name          0\nprice               0\ncampaign_name       0\ndtype: int64"
     },
     "execution_count": 7,
     "metadata": {},
     "output_type": "execute_result"
    }
   ],
   "source": [
    "customer_join.isnull().sum()"
   ],
   "metadata": {
    "collapsed": false,
    "pycharm": {
     "name": "#%%\n"
    }
   }
  },
  {
   "cell_type": "markdown",
   "source": [
    "- end_date 以外は欠損値が0\n",
    "- end_date に欠損値が入っていること以外は比較的綺麗な Data.\n",
    "  退会していない User は退会日である end_date を保持していないため、欠損値となっていると思われる。"
   ],
   "metadata": {
    "collapsed": false,
    "pycharm": {
     "name": "#%% md\n"
    }
   }
  },
  {
   "cell_type": "markdown",
   "source": [
    "顧客 Data を集計し全体像を見ていく。\n",
    "- 会員区分\n",
    "- Campaign 区分\n",
    "- 性別\n",
    "- すでに退会済みかどうか（is_deleted列）\n",
    "\n",
    "毎に全体数を把握する。"
   ],
   "metadata": {
    "collapsed": false,
    "pycharm": {
     "name": "#%% md\n"
    }
   }
  },
  {
   "cell_type": "code",
   "execution_count": 8,
   "outputs": [
    {
     "data": {
      "text/plain": "class_name\nオールタイム    2045\nデイタイム     1019\nナイト       1128\nName: customer_id, dtype: int64"
     },
     "execution_count": 8,
     "metadata": {},
     "output_type": "execute_result"
    }
   ],
   "source": [
    "# 会員区分\n",
    "customer_join.groupby('class_name').count()['customer_id']"
   ],
   "metadata": {
    "collapsed": false,
    "pycharm": {
     "name": "#%%\n"
    }
   }
  },
  {
   "cell_type": "markdown",
   "source": [
    "オールタイムが約半数を占め、次いでナイト、最後にデイタイムとなっている。"
   ],
   "metadata": {
    "collapsed": false,
    "pycharm": {
     "name": "#%% md\n"
    }
   }
  },
  {
   "cell_type": "code",
   "execution_count": 9,
   "outputs": [
    {
     "data": {
      "text/plain": "campaign_name\n入会費半額     650\n入会費無料     492\n通常       3050\nName: customer_id, dtype: int64"
     },
     "execution_count": 9,
     "metadata": {},
     "output_type": "execute_result"
    }
   ],
   "source": [
    "# Campaign 区分\n",
    "customer_join.groupby('campaign_name').count()['customer_id']"
   ],
   "metadata": {
    "collapsed": false,
    "pycharm": {
     "name": "#%%\n"
    }
   }
  },
  {
   "cell_type": "markdown",
   "source": [
    "通常入会が多く、入会キャンペーン中に入会したのはおよそ20%となっている。"
   ],
   "metadata": {
    "collapsed": false,
    "pycharm": {
     "name": "#%% md\n"
    }
   }
  },
  {
   "cell_type": "code",
   "execution_count": 10,
   "outputs": [
    {
     "data": {
      "text/plain": "gender\nF    1983\nM    2209\nName: customer_id, dtype: int64"
     },
     "execution_count": 10,
     "metadata": {},
     "output_type": "execute_result"
    }
   ],
   "source": [
    "# 性別\n",
    "customer_join.groupby('gender').count()['customer_id']"
   ],
   "metadata": {
    "collapsed": false,
    "pycharm": {
     "name": "#%%\n"
    }
   }
  },
  {
   "cell_type": "markdown",
   "source": [
    "男女比はわずかに男性が多い。"
   ],
   "metadata": {
    "collapsed": false,
    "pycharm": {
     "name": "#%% md\n"
    }
   }
  },
  {
   "cell_type": "code",
   "execution_count": 11,
   "outputs": [
    {
     "data": {
      "text/plain": "is_deleted\n0    2842\n1    1350\nName: customer_id, dtype: int64"
     },
     "execution_count": 11,
     "metadata": {},
     "output_type": "execute_result"
    }
   ],
   "source": [
    "# すでに退会済みかどうか\n",
    "customer_join.groupby('is_deleted').count()['customer_id']"
   ],
   "metadata": {
    "collapsed": false,
    "pycharm": {
     "name": "#%%\n"
    }
   }
  },
  {
   "cell_type": "markdown",
   "source": [
    "退会している User は1,350人で2019年３月時点で入会している User は2,842人。"
   ],
   "metadata": {
    "collapsed": false,
    "pycharm": {
     "name": "#%% md\n"
    }
   }
  },
  {
   "cell_type": "markdown",
   "source": [
    "仮説や疑問点\n",
    "- Campaign はいつ行われていたのか。\n",
    "- 性別と会員 Class の関係\n",
    "- 今年度の入会人数\n",
    "- etc...\n",
    "\n",
    "2018年４月１日から2019年３月31日までの入会人数を集計してみる。"
   ],
   "metadata": {
    "collapsed": false,
    "pycharm": {
     "name": "#%% md\n"
    }
   }
  },
  {
   "cell_type": "code",
   "source": [
    "customer_join['start_date'] = pd.to_datetime(customer_join['start_date'])\n",
    "customer_start = customer_join.loc[customer_join['start_date'] > pd.to_datetime('20180401')]\n",
    "print(len(customer_start))"
   ],
   "metadata": {
    "collapsed": false,
    "pycharm": {
     "name": "#%%\n"
    }
   },
   "execution_count": 12,
   "outputs": [
    {
     "name": "stdout",
     "output_type": "stream",
     "text": [
      "1361\n"
     ]
    }
   ]
  },
  {
   "cell_type": "markdown",
   "source": [
    "入会会員は1,361人で退会した人数よりも11人多いが、全体の会員数は変わらない結果となった。"
   ],
   "metadata": {
    "collapsed": false,
    "pycharm": {
     "name": "#%% md\n"
    }
   }
  },
  {
   "cell_type": "markdown",
   "source": [
    "最新月の顧客 Data の把握を行う。\n",
    "\n",
    "**理由**\n",
    "現在の顧客 Data は離脱している User も含まれるため単月の実態とは違いがある。\n",
    "最新月の顧客 Data を集計することで現状顧客の全体像を把握する。\n",
    "\n",
    "**方法**\n",
    "1. 2019年03月(2019年03月31日）に退会した User もしくは、在籍した User で絞りこむ。\n",
    "2. is_delete 列で絞り込む\n",
    "\n",
    "1 を採用とする。"
   ],
   "metadata": {
    "collapsed": false,
    "pycharm": {
     "name": "#%% md\n"
    }
   }
  },
  {
   "cell_type": "code",
   "execution_count": 13,
   "outputs": [
    {
     "name": "stdout",
     "output_type": "stream",
     "text": [
      "2953\n"
     ]
    },
    {
     "data": {
      "text/plain": "array([                          'NaT', '2019-03-31T00:00:00.000000000'],\n      dtype='datetime64[ns]')"
     },
     "execution_count": 13,
     "metadata": {},
     "output_type": "execute_result"
    }
   ],
   "source": [
    "customer_join['end_date'] = pd.to_datetime(customer_join['end_date'])\n",
    "customer_newer = customer_join.loc[\n",
    "    (customer_join['end_date'] >= pd.to_datetime('20190331')) | (customer_join['end_date'].isna())]\n",
    "print(len(customer_newer))\n",
    "customer_newer['end_date'].unique()"
   ],
   "metadata": {
    "collapsed": false,
    "pycharm": {
     "name": "#%%\n"
    }
   }
  },
  {
   "cell_type": "code",
   "execution_count": 14,
   "outputs": [
    {
     "data": {
      "text/plain": "class_name\nオールタイム    1444\nデイタイム      696\nナイト        813\nName: customer_id, dtype: int64"
     },
     "execution_count": 14,
     "metadata": {},
     "output_type": "execute_result"
    }
   ],
   "source": [
    "customer_newer.groupby('class_name').count()['customer_id']"
   ],
   "metadata": {
    "collapsed": false,
    "pycharm": {
     "name": "#%%\n"
    }
   }
  },
  {
   "cell_type": "code",
   "execution_count": 15,
   "outputs": [
    {
     "data": {
      "text/plain": "campaign_name\n入会費半額     311\n入会費無料     242\n通常       2400\nName: customer_id, dtype: int64"
     },
     "execution_count": 15,
     "metadata": {},
     "output_type": "execute_result"
    }
   ],
   "source": [
    "customer_newer.groupby('campaign_name').count()['customer_id']"
   ],
   "metadata": {
    "collapsed": false,
    "pycharm": {
     "name": "#%%\n"
    }
   }
  },
  {
   "cell_type": "code",
   "execution_count": 16,
   "outputs": [
    {
     "data": {
      "text/plain": "gender\nF    1400\nM    1553\nName: customer_id, dtype: int64"
     },
     "execution_count": 16,
     "metadata": {},
     "output_type": "execute_result"
    }
   ],
   "source": [
    "customer_newer.groupby('gender').count()['customer_id']"
   ],
   "metadata": {
    "collapsed": false,
    "pycharm": {
     "name": "#%%\n"
    }
   }
  },
  {
   "cell_type": "markdown",
   "source": [
    "**会員区分、性別は全体集計の比率と大きく変わっていない**\n",
    "特定の会員区分や性別が退会しているわけではないと考えられる。\n",
    "\n",
    "**Campaign 区分は全体集計と比べて若干の相違あり**\n",
    "\n",
    "全体集計 | 最新集計\n",
    "--- | ---\n",
    "通常で入会している User は、72% | 通常で入会している User 81%\n",
    "\n",
    "入会 Campaign は比率が変化するくらいに、何かしらの効果を生んでいることが推測される。"
   ],
   "metadata": {
    "collapsed": false,
    "pycharm": {
     "name": "#%% md\n"
    }
   }
  },
  {
   "cell_type": "markdown",
   "source": [
    "会員や性別が大きく変化しているわけではないので、**利用履歴 Data **を分析していく\n",
    "\n",
    "**利用履歴 Data でわかること**\n",
    "- 時間的な要素を分析可能\n",
    "    - 月内の利用回数がどのように変化しているのか\n",
    "    - 定期的に Jim を活用している User なのか\n",
    "    - etc..."
   ],
   "metadata": {
    "collapsed": false,
    "pycharm": {
     "name": "#%% md\n"
    }
   }
  },
  {
   "cell_type": "code",
   "execution_count": 17,
   "outputs": [
    {
     "data": {
      "text/plain": "                 log_id customer_id     usedate\n0       L00000049012330    AS009373  2018-04-01\n1       L00000049012331    AS015315  2018-04-01\n2       L00000049012332    AS040841  2018-04-01\n3       L00000049012333    AS046594  2018-04-01\n4       L00000049012334    AS073285  2018-04-01\n...                 ...         ...         ...\n197423  L00000049209753    TS977703  2019-03-31\n197424  L00000049209754    TS979550  2019-03-31\n197425  L00000049209755    TS995299  2019-03-31\n197426  L00000049209756    TS995853  2019-03-31\n197427  L00000049209757    TS999079  2019-03-31\n\n[197428 rows x 3 columns]",
      "text/html": "<div>\n<style scoped>\n    .dataframe tbody tr th:only-of-type {\n        vertical-align: middle;\n    }\n\n    .dataframe tbody tr th {\n        vertical-align: top;\n    }\n\n    .dataframe thead th {\n        text-align: right;\n    }\n</style>\n<table border=\"1\" class=\"dataframe\">\n  <thead>\n    <tr style=\"text-align: right;\">\n      <th></th>\n      <th>log_id</th>\n      <th>customer_id</th>\n      <th>usedate</th>\n    </tr>\n  </thead>\n  <tbody>\n    <tr>\n      <th>0</th>\n      <td>L00000049012330</td>\n      <td>AS009373</td>\n      <td>2018-04-01</td>\n    </tr>\n    <tr>\n      <th>1</th>\n      <td>L00000049012331</td>\n      <td>AS015315</td>\n      <td>2018-04-01</td>\n    </tr>\n    <tr>\n      <th>2</th>\n      <td>L00000049012332</td>\n      <td>AS040841</td>\n      <td>2018-04-01</td>\n    </tr>\n    <tr>\n      <th>3</th>\n      <td>L00000049012333</td>\n      <td>AS046594</td>\n      <td>2018-04-01</td>\n    </tr>\n    <tr>\n      <th>4</th>\n      <td>L00000049012334</td>\n      <td>AS073285</td>\n      <td>2018-04-01</td>\n    </tr>\n    <tr>\n      <th>...</th>\n      <td>...</td>\n      <td>...</td>\n      <td>...</td>\n    </tr>\n    <tr>\n      <th>197423</th>\n      <td>L00000049209753</td>\n      <td>TS977703</td>\n      <td>2019-03-31</td>\n    </tr>\n    <tr>\n      <th>197424</th>\n      <td>L00000049209754</td>\n      <td>TS979550</td>\n      <td>2019-03-31</td>\n    </tr>\n    <tr>\n      <th>197425</th>\n      <td>L00000049209755</td>\n      <td>TS995299</td>\n      <td>2019-03-31</td>\n    </tr>\n    <tr>\n      <th>197426</th>\n      <td>L00000049209756</td>\n      <td>TS995853</td>\n      <td>2019-03-31</td>\n    </tr>\n    <tr>\n      <th>197427</th>\n      <td>L00000049209757</td>\n      <td>TS999079</td>\n      <td>2019-03-31</td>\n    </tr>\n  </tbody>\n</table>\n<p>197428 rows × 3 columns</p>\n</div>"
     },
     "execution_count": 17,
     "metadata": {},
     "output_type": "execute_result"
    }
   ],
   "source": [
    "uselog"
   ],
   "metadata": {
    "collapsed": false,
    "pycharm": {
     "name": "#%%\n"
    }
   }
  },
  {
   "cell_type": "code",
   "execution_count": 18,
   "outputs": [
    {
     "data": {
      "text/plain": "       年月 customer_id  count\n0  201804    AS002855      4\n1  201804    AS009013      2\n2  201804    AS009373      3\n3  201804    AS015315      6\n4  201804    AS015739      7",
      "text/html": "<div>\n<style scoped>\n    .dataframe tbody tr th:only-of-type {\n        vertical-align: middle;\n    }\n\n    .dataframe tbody tr th {\n        vertical-align: top;\n    }\n\n    .dataframe thead th {\n        text-align: right;\n    }\n</style>\n<table border=\"1\" class=\"dataframe\">\n  <thead>\n    <tr style=\"text-align: right;\">\n      <th></th>\n      <th>年月</th>\n      <th>customer_id</th>\n      <th>count</th>\n    </tr>\n  </thead>\n  <tbody>\n    <tr>\n      <th>0</th>\n      <td>201804</td>\n      <td>AS002855</td>\n      <td>4</td>\n    </tr>\n    <tr>\n      <th>1</th>\n      <td>201804</td>\n      <td>AS009013</td>\n      <td>2</td>\n    </tr>\n    <tr>\n      <th>2</th>\n      <td>201804</td>\n      <td>AS009373</td>\n      <td>3</td>\n    </tr>\n    <tr>\n      <th>3</th>\n      <td>201804</td>\n      <td>AS015315</td>\n      <td>6</td>\n    </tr>\n    <tr>\n      <th>4</th>\n      <td>201804</td>\n      <td>AS015739</td>\n      <td>7</td>\n    </tr>\n  </tbody>\n</table>\n</div>"
     },
     "execution_count": 18,
     "metadata": {},
     "output_type": "execute_result"
    }
   ],
   "source": [
    "uselog['usedate'] = pd.to_datetime(uselog['usedate'])\n",
    "uselog['年月'] = uselog['usedate'].dt.strftime('%Y%m')\n",
    "uselog_months = uselog.groupby(['年月', 'customer_id'], as_index=False).count()\n",
    "uselog_months.rename(columns={'log_id': 'count'}, inplace=True)\n",
    "del uselog_months['usedate']\n",
    "uselog_months.head()"
   ],
   "metadata": {
    "collapsed": false,
    "pycharm": {
     "name": "#%%\n"
    }
   }
  },
  {
   "cell_type": "code",
   "execution_count": 19,
   "outputs": [
    {
     "data": {
      "text/plain": "  customer_id      mean  median  max  min\n0    AS002855  4.500000     5.0    7    2\n1    AS008805  4.000000     4.0    8    1\n2    AS009013  2.000000     2.0    2    2\n3    AS009373  5.083333     5.0    7    3\n4    AS015233  7.545455     7.0   11    4",
      "text/html": "<div>\n<style scoped>\n    .dataframe tbody tr th:only-of-type {\n        vertical-align: middle;\n    }\n\n    .dataframe tbody tr th {\n        vertical-align: top;\n    }\n\n    .dataframe thead th {\n        text-align: right;\n    }\n</style>\n<table border=\"1\" class=\"dataframe\">\n  <thead>\n    <tr style=\"text-align: right;\">\n      <th></th>\n      <th>customer_id</th>\n      <th>mean</th>\n      <th>median</th>\n      <th>max</th>\n      <th>min</th>\n    </tr>\n  </thead>\n  <tbody>\n    <tr>\n      <th>0</th>\n      <td>AS002855</td>\n      <td>4.500000</td>\n      <td>5.0</td>\n      <td>7</td>\n      <td>2</td>\n    </tr>\n    <tr>\n      <th>1</th>\n      <td>AS008805</td>\n      <td>4.000000</td>\n      <td>4.0</td>\n      <td>8</td>\n      <td>1</td>\n    </tr>\n    <tr>\n      <th>2</th>\n      <td>AS009013</td>\n      <td>2.000000</td>\n      <td>2.0</td>\n      <td>2</td>\n      <td>2</td>\n    </tr>\n    <tr>\n      <th>3</th>\n      <td>AS009373</td>\n      <td>5.083333</td>\n      <td>5.0</td>\n      <td>7</td>\n      <td>3</td>\n    </tr>\n    <tr>\n      <th>4</th>\n      <td>AS015233</td>\n      <td>7.545455</td>\n      <td>7.0</td>\n      <td>11</td>\n      <td>4</td>\n    </tr>\n  </tbody>\n</table>\n</div>"
     },
     "execution_count": 19,
     "metadata": {},
     "output_type": "execute_result"
    }
   ],
   "source": [
    "uselog_customer = uselog_months.groupby('customer_id').agg(['mean', 'median', 'max', 'min'])['count']\n",
    "uselog_customer = uselog_customer.reset_index(drop=False)\n",
    "uselog_customer.head()"
   ],
   "metadata": {
    "collapsed": false,
    "pycharm": {
     "name": "#%%\n"
    }
   }
  },
  {
   "cell_type": "markdown",
   "source": [
    "顧客毎の月内の利用回数の集計が完了。"
   ],
   "metadata": {
    "collapsed": false,
    "pycharm": {
     "name": "#%% md\n"
    }
   }
  },
  {
   "cell_type": "markdown",
   "source": [
    "定期的に Jim を利用しえいる場合の Flag 作成を行う。\n",
    "\n",
    "**Jim の重要な Factor**\n",
    "習慣化が継続\n",
    "\n",
    "定期的に Jim を利用している User を特定してみる。\n",
    "\n",
    "**今回における「定期的」の定義**\n",
    "毎週同じ曜日に来ているかどうかで判断とする。\n",
    "顧客毎に月/曜日別に集計を行い、最大値が4以上の曜日が１ヶ月でもあった User は Flag1 とする。"
   ],
   "metadata": {
    "collapsed": false,
    "pycharm": {
     "name": "#%% md\n"
    }
   }
  },
  {
   "cell_type": "code",
   "execution_count": 20,
   "outputs": [
    {
     "data": {
      "text/plain": "  customer_id      年月  weekday  count\n0    AS002855  201804        5      4\n1    AS002855  201805        2      1\n2    AS002855  201805        5      4\n3    AS002855  201806        5      5\n4    AS002855  201807        1      1",
      "text/html": "<div>\n<style scoped>\n    .dataframe tbody tr th:only-of-type {\n        vertical-align: middle;\n    }\n\n    .dataframe tbody tr th {\n        vertical-align: top;\n    }\n\n    .dataframe thead th {\n        text-align: right;\n    }\n</style>\n<table border=\"1\" class=\"dataframe\">\n  <thead>\n    <tr style=\"text-align: right;\">\n      <th></th>\n      <th>customer_id</th>\n      <th>年月</th>\n      <th>weekday</th>\n      <th>count</th>\n    </tr>\n  </thead>\n  <tbody>\n    <tr>\n      <th>0</th>\n      <td>AS002855</td>\n      <td>201804</td>\n      <td>5</td>\n      <td>4</td>\n    </tr>\n    <tr>\n      <th>1</th>\n      <td>AS002855</td>\n      <td>201805</td>\n      <td>2</td>\n      <td>1</td>\n    </tr>\n    <tr>\n      <th>2</th>\n      <td>AS002855</td>\n      <td>201805</td>\n      <td>5</td>\n      <td>4</td>\n    </tr>\n    <tr>\n      <th>3</th>\n      <td>AS002855</td>\n      <td>201806</td>\n      <td>5</td>\n      <td>5</td>\n    </tr>\n    <tr>\n      <th>4</th>\n      <td>AS002855</td>\n      <td>201807</td>\n      <td>1</td>\n      <td>1</td>\n    </tr>\n  </tbody>\n</table>\n</div>"
     },
     "execution_count": 20,
     "metadata": {},
     "output_type": "execute_result"
    }
   ],
   "source": [
    "# 顧客毎に月/曜日別に集計\n",
    "uselog['weekday'] = uselog['usedate'].dt.weekday\n",
    "uselog_weekday = uselog.groupby(['customer_id', '年月', 'weekday'], as_index=False).count()[\n",
    "    ['customer_id', '年月', 'weekday', 'log_id']]\n",
    "uselog_weekday.rename(columns={'log_id': 'count'}, inplace=True)\n",
    "uselog_weekday.head()"
   ],
   "metadata": {
    "collapsed": false,
    "pycharm": {
     "name": "#%%\n"
    }
   }
  },
  {
   "cell_type": "markdown",
   "source": [
    "※ 曜日表\n",
    "\n",
    "0 | 1 | 2 | 3 | 4 | 5 | 6\n",
    "--- | --- | --- | --- | --- | --- | ---\n",
    "月 | 火 | 水 | 木 | 金 | 土 | 日\n",
    "\n",
    "顧客AS00285は、毎週土曜を Jim の日と考えている様子。\n",
    "\n",
    "顧客毎の各月の最大値を取得し、その最大値が4以上の場合、Flag を立てる"
   ],
   "metadata": {
    "collapsed": false,
    "pycharm": {
     "name": "#%% md\n"
    }
   }
  },
  {
   "cell_type": "code",
   "execution_count": 21,
   "outputs": [
    {
     "data": {
      "text/plain": "  customer_id  count  routine_flg\n0    AS002855      5            1\n1    AS008805      4            1\n2    AS009013      2            0\n3    AS009373      5            1\n4    AS015233      5            1",
      "text/html": "<div>\n<style scoped>\n    .dataframe tbody tr th:only-of-type {\n        vertical-align: middle;\n    }\n\n    .dataframe tbody tr th {\n        vertical-align: top;\n    }\n\n    .dataframe thead th {\n        text-align: right;\n    }\n</style>\n<table border=\"1\" class=\"dataframe\">\n  <thead>\n    <tr style=\"text-align: right;\">\n      <th></th>\n      <th>customer_id</th>\n      <th>count</th>\n      <th>routine_flg</th>\n    </tr>\n  </thead>\n  <tbody>\n    <tr>\n      <th>0</th>\n      <td>AS002855</td>\n      <td>5</td>\n      <td>1</td>\n    </tr>\n    <tr>\n      <th>1</th>\n      <td>AS008805</td>\n      <td>4</td>\n      <td>1</td>\n    </tr>\n    <tr>\n      <th>2</th>\n      <td>AS009013</td>\n      <td>2</td>\n      <td>0</td>\n    </tr>\n    <tr>\n      <th>3</th>\n      <td>AS009373</td>\n      <td>5</td>\n      <td>1</td>\n    </tr>\n    <tr>\n      <th>4</th>\n      <td>AS015233</td>\n      <td>5</td>\n      <td>1</td>\n    </tr>\n  </tbody>\n</table>\n</div>"
     },
     "execution_count": 21,
     "metadata": {},
     "output_type": "execute_result"
    }
   ],
   "source": [
    "uselog_weekday = uselog_weekday.groupby('customer_id', as_index=False).max()[['customer_id', 'count']]\n",
    "uselog_weekday['routine_flg'] = 0\n",
    "uselog_weekday['routine_flg'] = uselog_weekday['routine_flg'].where(uselog_weekday['count'] < 4, 1)\n",
    "uselog_weekday.head()"
   ],
   "metadata": {
    "collapsed": false,
    "pycharm": {
     "name": "#%%\n"
    }
   }
  },
  {
   "cell_type": "code",
   "execution_count": 22,
   "outputs": [
    {
     "data": {
      "text/plain": "  customer_id   name class gender start_date end_date campaign_id  is_deleted  \\\n0    OA832399   XXXX   C01      F 2015-05-01      NaT         CA1           0   \n1    PL270116  XXXXX   C01      M 2015-05-01      NaT         CA1           0   \n2    OA974876  XXXXX   C01      M 2015-05-01      NaT         CA1           0   \n3    HD024127  XXXXX   C01      F 2015-05-01      NaT         CA1           0   \n4    HD661448  XXXXX   C03      F 2015-05-01      NaT         CA1           0   \n\n  class_name  price campaign_name      mean  median  max  min  routine_flg  \n0     オールタイム  10500            通常  4.833333     5.0    8    2            1  \n1     オールタイム  10500            通常  5.083333     5.0    7    3            1  \n2     オールタイム  10500            通常  4.583333     5.0    6    3            1  \n3     オールタイム  10500            通常  4.833333     4.5    7    2            1  \n4        ナイト   6000            通常  3.916667     4.0    6    1            1  ",
      "text/html": "<div>\n<style scoped>\n    .dataframe tbody tr th:only-of-type {\n        vertical-align: middle;\n    }\n\n    .dataframe tbody tr th {\n        vertical-align: top;\n    }\n\n    .dataframe thead th {\n        text-align: right;\n    }\n</style>\n<table border=\"1\" class=\"dataframe\">\n  <thead>\n    <tr style=\"text-align: right;\">\n      <th></th>\n      <th>customer_id</th>\n      <th>name</th>\n      <th>class</th>\n      <th>gender</th>\n      <th>start_date</th>\n      <th>end_date</th>\n      <th>campaign_id</th>\n      <th>is_deleted</th>\n      <th>class_name</th>\n      <th>price</th>\n      <th>campaign_name</th>\n      <th>mean</th>\n      <th>median</th>\n      <th>max</th>\n      <th>min</th>\n      <th>routine_flg</th>\n    </tr>\n  </thead>\n  <tbody>\n    <tr>\n      <th>0</th>\n      <td>OA832399</td>\n      <td>XXXX</td>\n      <td>C01</td>\n      <td>F</td>\n      <td>2015-05-01</td>\n      <td>NaT</td>\n      <td>CA1</td>\n      <td>0</td>\n      <td>オールタイム</td>\n      <td>10500</td>\n      <td>通常</td>\n      <td>4.833333</td>\n      <td>5.0</td>\n      <td>8</td>\n      <td>2</td>\n      <td>1</td>\n    </tr>\n    <tr>\n      <th>1</th>\n      <td>PL270116</td>\n      <td>XXXXX</td>\n      <td>C01</td>\n      <td>M</td>\n      <td>2015-05-01</td>\n      <td>NaT</td>\n      <td>CA1</td>\n      <td>0</td>\n      <td>オールタイム</td>\n      <td>10500</td>\n      <td>通常</td>\n      <td>5.083333</td>\n      <td>5.0</td>\n      <td>7</td>\n      <td>3</td>\n      <td>1</td>\n    </tr>\n    <tr>\n      <th>2</th>\n      <td>OA974876</td>\n      <td>XXXXX</td>\n      <td>C01</td>\n      <td>M</td>\n      <td>2015-05-01</td>\n      <td>NaT</td>\n      <td>CA1</td>\n      <td>0</td>\n      <td>オールタイム</td>\n      <td>10500</td>\n      <td>通常</td>\n      <td>4.583333</td>\n      <td>5.0</td>\n      <td>6</td>\n      <td>3</td>\n      <td>1</td>\n    </tr>\n    <tr>\n      <th>3</th>\n      <td>HD024127</td>\n      <td>XXXXX</td>\n      <td>C01</td>\n      <td>F</td>\n      <td>2015-05-01</td>\n      <td>NaT</td>\n      <td>CA1</td>\n      <td>0</td>\n      <td>オールタイム</td>\n      <td>10500</td>\n      <td>通常</td>\n      <td>4.833333</td>\n      <td>4.5</td>\n      <td>7</td>\n      <td>2</td>\n      <td>1</td>\n    </tr>\n    <tr>\n      <th>4</th>\n      <td>HD661448</td>\n      <td>XXXXX</td>\n      <td>C03</td>\n      <td>F</td>\n      <td>2015-05-01</td>\n      <td>NaT</td>\n      <td>CA1</td>\n      <td>0</td>\n      <td>ナイト</td>\n      <td>6000</td>\n      <td>通常</td>\n      <td>3.916667</td>\n      <td>4.0</td>\n      <td>6</td>\n      <td>1</td>\n      <td>1</td>\n    </tr>\n  </tbody>\n</table>\n</div>"
     },
     "execution_count": 22,
     "metadata": {},
     "output_type": "execute_result"
    }
   ],
   "source": [
    "# 顧客 Data と利用履歴 Data を結合\n",
    "customer_join = pd.merge(customer_join, uselog_customer, on='customer_id', how='left')\n",
    "customer_join = pd.merge(customer_join, uselog_weekday[['customer_id', 'routine_flg']], on='customer_id', how='left')\n",
    "customer_join.head()"
   ],
   "metadata": {
    "collapsed": false,
    "pycharm": {
     "name": "#%%\n"
    }
   }
  },
  {
   "cell_type": "code",
   "execution_count": 23,
   "outputs": [
    {
     "data": {
      "text/plain": "customer_id         0\nname                0\nclass               0\ngender              0\nstart_date          0\nend_date         2842\ncampaign_id         0\nis_deleted          0\nclass_name          0\nprice               0\ncampaign_name       0\nmean                0\nmedian              0\nmax                 0\nmin                 0\nroutine_flg         0\ndtype: int64"
     },
     "execution_count": 23,
     "metadata": {},
     "output_type": "execute_result"
    }
   ],
   "source": [
    "# 欠損値の確認\n",
    "customer_join.isnull().sum()"
   ],
   "metadata": {
    "collapsed": false,
    "pycharm": {
     "name": "#%%\n"
    }
   }
  },
  {
   "cell_type": "markdown",
   "source": [
    "end_date 以外に欠損値がなく結合に問題ないことを確認とる。"
   ],
   "metadata": {
    "collapsed": false,
    "pycharm": {
     "name": "#%% md\n"
    }
   }
  },
  {
   "cell_type": "code",
   "execution_count": 26,
   "outputs": [
    {
     "name": "stderr",
     "output_type": "stream",
     "text": [
      "/home/tera/.local/share/virtualenvs/data_analysis_100_knock-wqHqPzKa/lib/python3.10/site-packages/pandas/core/indexing.py:1732: SettingWithCopyWarning: \n",
      "A value is trying to be set on a copy of a slice from a DataFrame\n",
      "\n",
      "See the caveats in the documentation: https://pandas.pydata.org/pandas-docs/stable/user_guide/indexing.html#returning-a-view-versus-a-copy\n",
      "  self._setitem_single_block(indexer, value, name)\n"
     ]
    },
    {
     "data": {
      "text/plain": "  customer_id   name class gender start_date end_date campaign_id  is_deleted  \\\n0    OA832399   XXXX   C01      F 2015-05-01      NaT         CA1           0   \n1    PL270116  XXXXX   C01      M 2015-05-01      NaT         CA1           0   \n2    OA974876  XXXXX   C01      M 2015-05-01      NaT         CA1           0   \n3    HD024127  XXXXX   C01      F 2015-05-01      NaT         CA1           0   \n4    HD661448  XXXXX   C03      F 2015-05-01      NaT         CA1           0   \n\n  class_name  price campaign_name      mean  median  max  min  routine_flg  \\\n0     オールタイム  10500            通常  4.833333     5.0    8    2            1   \n1     オールタイム  10500            通常  5.083333     5.0    7    3            1   \n2     オールタイム  10500            通常  4.583333     5.0    6    3            1   \n3     オールタイム  10500            通常  4.833333     4.5    7    2            1   \n4        ナイト   6000            通常  3.916667     4.0    6    1            1   \n\n   calc_data  membership_period  \n0 2019-04-30                 47  \n1 2019-04-30                 47  \n2 2019-04-30                 47  \n3 2019-04-30                 47  \n4 2019-04-30                 47  ",
      "text/html": "<div>\n<style scoped>\n    .dataframe tbody tr th:only-of-type {\n        vertical-align: middle;\n    }\n\n    .dataframe tbody tr th {\n        vertical-align: top;\n    }\n\n    .dataframe thead th {\n        text-align: right;\n    }\n</style>\n<table border=\"1\" class=\"dataframe\">\n  <thead>\n    <tr style=\"text-align: right;\">\n      <th></th>\n      <th>customer_id</th>\n      <th>name</th>\n      <th>class</th>\n      <th>gender</th>\n      <th>start_date</th>\n      <th>end_date</th>\n      <th>campaign_id</th>\n      <th>is_deleted</th>\n      <th>class_name</th>\n      <th>price</th>\n      <th>campaign_name</th>\n      <th>mean</th>\n      <th>median</th>\n      <th>max</th>\n      <th>min</th>\n      <th>routine_flg</th>\n      <th>calc_data</th>\n      <th>membership_period</th>\n    </tr>\n  </thead>\n  <tbody>\n    <tr>\n      <th>0</th>\n      <td>OA832399</td>\n      <td>XXXX</td>\n      <td>C01</td>\n      <td>F</td>\n      <td>2015-05-01</td>\n      <td>NaT</td>\n      <td>CA1</td>\n      <td>0</td>\n      <td>オールタイム</td>\n      <td>10500</td>\n      <td>通常</td>\n      <td>4.833333</td>\n      <td>5.0</td>\n      <td>8</td>\n      <td>2</td>\n      <td>1</td>\n      <td>2019-04-30</td>\n      <td>47</td>\n    </tr>\n    <tr>\n      <th>1</th>\n      <td>PL270116</td>\n      <td>XXXXX</td>\n      <td>C01</td>\n      <td>M</td>\n      <td>2015-05-01</td>\n      <td>NaT</td>\n      <td>CA1</td>\n      <td>0</td>\n      <td>オールタイム</td>\n      <td>10500</td>\n      <td>通常</td>\n      <td>5.083333</td>\n      <td>5.0</td>\n      <td>7</td>\n      <td>3</td>\n      <td>1</td>\n      <td>2019-04-30</td>\n      <td>47</td>\n    </tr>\n    <tr>\n      <th>2</th>\n      <td>OA974876</td>\n      <td>XXXXX</td>\n      <td>C01</td>\n      <td>M</td>\n      <td>2015-05-01</td>\n      <td>NaT</td>\n      <td>CA1</td>\n      <td>0</td>\n      <td>オールタイム</td>\n      <td>10500</td>\n      <td>通常</td>\n      <td>4.583333</td>\n      <td>5.0</td>\n      <td>6</td>\n      <td>3</td>\n      <td>1</td>\n      <td>2019-04-30</td>\n      <td>47</td>\n    </tr>\n    <tr>\n      <th>3</th>\n      <td>HD024127</td>\n      <td>XXXXX</td>\n      <td>C01</td>\n      <td>F</td>\n      <td>2015-05-01</td>\n      <td>NaT</td>\n      <td>CA1</td>\n      <td>0</td>\n      <td>オールタイム</td>\n      <td>10500</td>\n      <td>通常</td>\n      <td>4.833333</td>\n      <td>4.5</td>\n      <td>7</td>\n      <td>2</td>\n      <td>1</td>\n      <td>2019-04-30</td>\n      <td>47</td>\n    </tr>\n    <tr>\n      <th>4</th>\n      <td>HD661448</td>\n      <td>XXXXX</td>\n      <td>C03</td>\n      <td>F</td>\n      <td>2015-05-01</td>\n      <td>NaT</td>\n      <td>CA1</td>\n      <td>0</td>\n      <td>ナイト</td>\n      <td>6000</td>\n      <td>通常</td>\n      <td>3.916667</td>\n      <td>4.0</td>\n      <td>6</td>\n      <td>1</td>\n      <td>1</td>\n      <td>2019-04-30</td>\n      <td>47</td>\n    </tr>\n  </tbody>\n</table>\n</div>"
     },
     "execution_count": 26,
     "metadata": {},
     "output_type": "execute_result"
    }
   ],
   "source": [
    "# 会員期間を計算\n",
    "from dateutil.relativedelta import relativedelta\n",
    "customer_join['calc_data'] = customer_join['end_date']\n",
    "customer_join['calc_data'] = customer_join['calc_data'].fillna(pd.to_datetime('20190430'))\n",
    "customer_join['membership_period'] = 0\n",
    "for i in range(len(customer_join)):\n",
    "    delta = relativedelta(customer_join['calc_data'].iloc[i], customer_join['start_date'].iloc[i])\n",
    "    customer_join['membership_period'].iloc[i] = delta.years*12 + delta.months\n",
    "\n",
    "customer_join.head()"
   ],
   "metadata": {
    "collapsed": false,
    "pycharm": {
     "name": "#%%\n"
    }
   }
  },
  {
   "cell_type": "markdown",
   "source": [
    "### 会員期間を月単位で集計\n",
    "会員期間 = start_date と end_date の差\n",
    "2019年03月までに退会していない User に関しては欠損値が入っている為、2019年04月として会員期間を算出。\n",
    "※ 2019年03月31日にすると実際に3月31日で退会した User と区別がつかなくなるため。"
   ],
   "metadata": {
    "collapsed": false,
    "pycharm": {
     "name": "#%% md\n"
    }
   }
  },
  {
   "cell_type": "code",
   "execution_count": 27,
   "outputs": [
    {
     "data": {
      "text/plain": "              mean       median          max          min\ncount  4192.000000  4192.000000  4192.000000  4192.000000\nmean      5.333127     5.250596     7.823950     3.041269\nstd       1.777533     1.874874     2.168959     1.951565\nmin       1.000000     1.000000     1.000000     1.000000\n25%       4.250000     4.000000     7.000000     2.000000\n50%       5.000000     5.000000     8.000000     3.000000\n75%       6.416667     6.500000     9.000000     4.000000\nmax      12.000000    12.000000    14.000000    12.000000",
      "text/html": "<div>\n<style scoped>\n    .dataframe tbody tr th:only-of-type {\n        vertical-align: middle;\n    }\n\n    .dataframe tbody tr th {\n        vertical-align: top;\n    }\n\n    .dataframe thead th {\n        text-align: right;\n    }\n</style>\n<table border=\"1\" class=\"dataframe\">\n  <thead>\n    <tr style=\"text-align: right;\">\n      <th></th>\n      <th>mean</th>\n      <th>median</th>\n      <th>max</th>\n      <th>min</th>\n    </tr>\n  </thead>\n  <tbody>\n    <tr>\n      <th>count</th>\n      <td>4192.000000</td>\n      <td>4192.000000</td>\n      <td>4192.000000</td>\n      <td>4192.000000</td>\n    </tr>\n    <tr>\n      <th>mean</th>\n      <td>5.333127</td>\n      <td>5.250596</td>\n      <td>7.823950</td>\n      <td>3.041269</td>\n    </tr>\n    <tr>\n      <th>std</th>\n      <td>1.777533</td>\n      <td>1.874874</td>\n      <td>2.168959</td>\n      <td>1.951565</td>\n    </tr>\n    <tr>\n      <th>min</th>\n      <td>1.000000</td>\n      <td>1.000000</td>\n      <td>1.000000</td>\n      <td>1.000000</td>\n    </tr>\n    <tr>\n      <th>25%</th>\n      <td>4.250000</td>\n      <td>4.000000</td>\n      <td>7.000000</td>\n      <td>2.000000</td>\n    </tr>\n    <tr>\n      <th>50%</th>\n      <td>5.000000</td>\n      <td>5.000000</td>\n      <td>8.000000</td>\n      <td>3.000000</td>\n    </tr>\n    <tr>\n      <th>75%</th>\n      <td>6.416667</td>\n      <td>6.500000</td>\n      <td>9.000000</td>\n      <td>4.000000</td>\n    </tr>\n    <tr>\n      <th>max</th>\n      <td>12.000000</td>\n      <td>12.000000</td>\n      <td>14.000000</td>\n      <td>12.000000</td>\n    </tr>\n  </tbody>\n</table>\n</div>"
     },
     "execution_count": 27,
     "metadata": {},
     "output_type": "execute_result"
    }
   ],
   "source": [
    "# 顧客行動の各種統計量を把握\n",
    "customer_join[['mean', 'median', 'max', 'min']].describe()"
   ],
   "metadata": {
    "collapsed": false,
    "pycharm": {
     "name": "#%%\n"
    }
   }
  },
  {
   "cell_type": "markdown",
   "source": [
    "平均値、中央値に大きな違いはなく、顧客１名あたりおよそ５回程度の月内利用回数となっている。"
   ],
   "metadata": {
    "collapsed": false,
    "pycharm": {
     "name": "#%% md\n"
    }
   }
  },
  {
   "cell_type": "code",
   "execution_count": 28,
   "outputs": [
    {
     "data": {
      "text/plain": "routine_flg\n0     779\n1    3413\nName: customer_id, dtype: int64"
     },
     "execution_count": 28,
     "metadata": {},
     "output_type": "execute_result"
    }
   ],
   "source": [
    "customer_join.groupby('routine_flg').count()['customer_id']"
   ],
   "metadata": {
    "collapsed": false,
    "pycharm": {
     "name": "#%%\n"
    }
   }
  },
  {
   "cell_type": "markdown",
   "source": [
    "定期的に利用している User の方が多い。"
   ],
   "metadata": {
    "collapsed": false,
    "pycharm": {
     "name": "#%% md\n"
    }
   }
  },
  {
   "cell_type": "code",
   "execution_count": 29,
   "outputs": [
    {
     "data": {
      "text/plain": "(array([857., 774., 395., 368., 311., 331., 323., 237., 288., 308.]),\n array([ 1. ,  5.6, 10.2, 14.8, 19.4, 24. , 28.6, 33.2, 37.8, 42.4, 47. ]),\n <BarContainer object of 10 artists>)"
     },
     "execution_count": 29,
     "metadata": {},
     "output_type": "execute_result"
    },
    {
     "data": {
      "text/plain": "<Figure size 432x288 with 1 Axes>",
      "image/png": "[encoded data removed]"
     },
     "metadata": {
      "needs_background": "light"
     },
     "output_type": "display_data"
    }
   ],
   "source": [
    "import matplotlib.pyplot as plt\n",
    "plt.hist(customer_join['membership_period'])"
   ],
   "metadata": {
    "collapsed": false,
    "pycharm": {
     "name": "#%%\n"
    }
   }
  },
  {
   "cell_type": "markdown",
   "source": [
    "### 短期で User が離れていく業界であることを示唆している。\n",
    "**理由**\n",
    "- 会員期間が10ヶ月以内の User の分布が多い。\n",
    "- 10ヶ月以上はほぼ横這いに分布している。"
   ],
   "metadata": {
    "collapsed": false,
    "pycharm": {
     "name": "#%% md\n"
    }
   }
  }
 ],
 "metadata": {
  "kernelspec": {
   "display_name": "Python 3",
   "language": "python",
   "name": "python3"
  },
  "language_info": {
   "codemirror_mode": {
    "name": "ipython",
    "version": 2
   },
   "file_extension": ".py",
   "mimetype": "text/x-python",
   "name": "python",
   "nbconvert_exporter": "python",
   "pygments_lexer": "ipython2",
   "version": "2.7.6"
  }
 },
 "nbformat": 4,
 "nbformat_minor": 0
}