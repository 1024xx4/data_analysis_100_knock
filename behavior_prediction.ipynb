{
 "cells": [
  {
   "cell_type": "code",
   "execution_count": 24,
   "metadata": {
    "collapsed": true
   },
   "outputs": [
    {
     "data": {
      "text/plain": "log_id         0\ncustomer_id    0\nusedate        0\ndtype: int64"
     },
     "execution_count": 24,
     "metadata": {},
     "output_type": "execute_result"
    }
   ],
   "source": [
    "# Data を読み込み確認する\n",
    "import pandas as pd\n",
    "\n",
    "uselog = pd.read_csv('sample_code/chapter_4/use_log.csv')\n",
    "uselog.isnull().sum()  # 欠損値の確認"
   ]
  },
  {
   "cell_type": "code",
   "execution_count": 25,
   "outputs": [
    {
     "data": {
      "text/plain": "customer_id             0\nname                    0\nclass                   0\ngender                  0\nstart_date              0\nend_date             2842\ncampaign_id             0\nis_deleted              0\nclass_name              0\nprice                   0\ncampaign_name           0\nmean                    0\nmedian                  0\nmax                     0\nmin                     0\nroutine_flg             0\ncalc_date               0\nmembership_period       0\ndtype: int64"
     },
     "execution_count": 25,
     "metadata": {},
     "output_type": "execute_result"
    }
   ],
   "source": [
    "customer = pd.read_csv('sample_code/chapter_4/customer_join.csv')\n",
    "customer.isnull().sum()  # 欠損値の確認"
   ],
   "metadata": {
    "collapsed": false,
    "pycharm": {
     "name": "#%%\n"
    }
   }
  },
  {
   "cell_type": "markdown",
   "source": [
    "end_date 以外は欠損値が 0 であることを確認。"
   ],
   "metadata": {
    "collapsed": false,
    "pycharm": {
     "name": "#%% md\n"
    }
   }
  },
  {
   "cell_type": "markdown",
   "source": [
    "顧客 Data を 利用履歴に基づいた Group 化を行う。\n",
    "Clustering に用いる変数は、顧客の月内利用履歴に関する Data である\n",
    "- mean\n",
    "- median\n",
    "- max\n",
    "- min\n",
    "- membership_period"
   ],
   "metadata": {
    "collapsed": false,
    "pycharm": {
     "name": "#%% md\n"
    }
   }
  },
  {
   "cell_type": "markdown",
   "source": [
    "### Clustering で顧客を Group 化"
   ],
   "metadata": {
    "collapsed": false,
    "pycharm": {
     "name": "#%% md\n"
    }
   }
  },
  {
   "cell_type": "code",
   "execution_count": 26,
   "outputs": [
    {
     "data": {
      "text/plain": "       mean  median  max  min  membership_period\n0  4.833333     5.0    8    2                 47\n1  5.083333     5.0    7    3                 47\n2  4.583333     5.0    6    3                 47\n3  4.833333     4.5    7    2                 47\n4  3.916667     4.0    6    1                 47",
      "text/html": "<div>\n<style scoped>\n    .dataframe tbody tr th:only-of-type {\n        vertical-align: middle;\n    }\n\n    .dataframe tbody tr th {\n        vertical-align: top;\n    }\n\n    .dataframe thead th {\n        text-align: right;\n    }\n</style>\n<table border=\"1\" class=\"dataframe\">\n  <thead>\n    <tr style=\"text-align: right;\">\n      <th></th>\n      <th>mean</th>\n      <th>median</th>\n      <th>max</th>\n      <th>min</th>\n      <th>membership_period</th>\n    </tr>\n  </thead>\n  <tbody>\n    <tr>\n      <th>0</th>\n      <td>4.833333</td>\n      <td>5.0</td>\n      <td>8</td>\n      <td>2</td>\n      <td>47</td>\n    </tr>\n    <tr>\n      <th>1</th>\n      <td>5.083333</td>\n      <td>5.0</td>\n      <td>7</td>\n      <td>3</td>\n      <td>47</td>\n    </tr>\n    <tr>\n      <th>2</th>\n      <td>4.583333</td>\n      <td>5.0</td>\n      <td>6</td>\n      <td>3</td>\n      <td>47</td>\n    </tr>\n    <tr>\n      <th>3</th>\n      <td>4.833333</td>\n      <td>4.5</td>\n      <td>7</td>\n      <td>2</td>\n      <td>47</td>\n    </tr>\n    <tr>\n      <th>4</th>\n      <td>3.916667</td>\n      <td>4.0</td>\n      <td>6</td>\n      <td>1</td>\n      <td>47</td>\n    </tr>\n  </tbody>\n</table>\n</div>"
     },
     "execution_count": 26,
     "metadata": {},
     "output_type": "execute_result"
    }
   ],
   "source": [
    "# 必要な変数の絞り込み\n",
    "customer_clustering = customer[['mean', 'median', 'max', 'min', 'membership_period']]\n",
    "customer_clustering.head()"
   ],
   "metadata": {
    "collapsed": false,
    "pycharm": {
     "name": "#%%\n"
    }
   }
  },
  {
   "cell_type": "code",
   "execution_count": 27,
   "outputs": [
    {
     "name": "stdout",
     "output_type": "stream",
     "text": [
      "[1 2 3 0]\n"
     ]
    },
    {
     "name": "stderr",
     "output_type": "stream",
     "text": [
      "/tmp/ipykernel_666/4058584111.py:12: SettingWithCopyWarning: \n",
      "A value is trying to be set on a copy of a slice from a DataFrame.\n",
      "Try using .loc[row_indexer,col_indexer] = value instead\n",
      "\n",
      "See the caveats in the documentation: https://pandas.pydata.org/pandas-docs/stable/user_guide/indexing.html#returning-a-view-versus-a-copy\n",
      "  customer_clustering['cluster'] = clusters.labels_\n"
     ]
    },
    {
     "data": {
      "text/plain": "       mean  median  max  min  membership_period  cluster\n0  4.833333     5.0    8    2                 47        1\n1  5.083333     5.0    7    3                 47        1\n2  4.583333     5.0    6    3                 47        1\n3  4.833333     4.5    7    2                 47        1\n4  3.916667     4.0    6    1                 47        1",
      "text/html": "<div>\n<style scoped>\n    .dataframe tbody tr th:only-of-type {\n        vertical-align: middle;\n    }\n\n    .dataframe tbody tr th {\n        vertical-align: top;\n    }\n\n    .dataframe thead th {\n        text-align: right;\n    }\n</style>\n<table border=\"1\" class=\"dataframe\">\n  <thead>\n    <tr style=\"text-align: right;\">\n      <th></th>\n      <th>mean</th>\n      <th>median</th>\n      <th>max</th>\n      <th>min</th>\n      <th>membership_period</th>\n      <th>cluster</th>\n    </tr>\n  </thead>\n  <tbody>\n    <tr>\n      <th>0</th>\n      <td>4.833333</td>\n      <td>5.0</td>\n      <td>8</td>\n      <td>2</td>\n      <td>47</td>\n      <td>1</td>\n    </tr>\n    <tr>\n      <th>1</th>\n      <td>5.083333</td>\n      <td>5.0</td>\n      <td>7</td>\n      <td>3</td>\n      <td>47</td>\n      <td>1</td>\n    </tr>\n    <tr>\n      <th>2</th>\n      <td>4.583333</td>\n      <td>5.0</td>\n      <td>6</td>\n      <td>3</td>\n      <td>47</td>\n      <td>1</td>\n    </tr>\n    <tr>\n      <th>3</th>\n      <td>4.833333</td>\n      <td>4.5</td>\n      <td>7</td>\n      <td>2</td>\n      <td>47</td>\n      <td>1</td>\n    </tr>\n    <tr>\n      <th>4</th>\n      <td>3.916667</td>\n      <td>4.0</td>\n      <td>6</td>\n      <td>1</td>\n      <td>47</td>\n      <td>1</td>\n    </tr>\n  </tbody>\n</table>\n</div>"
     },
     "execution_count": 27,
     "metadata": {},
     "output_type": "execute_result"
    }
   ],
   "source": [
    "# Clustering: K-means法\n",
    "from sklearn.cluster import KMeans\n",
    "from sklearn.preprocessing import StandardScaler\n",
    "\n",
    "# 標準化\n",
    "sc = StandardScaler()\n",
    "customer_clustering_sc = sc.fit_transform(customer_clustering)\n",
    "\n",
    "# K-means の Model 構築\n",
    "kmeans = KMeans(n_clusters=4, random_state=0)\n",
    "clusters = kmeans.fit(customer_clustering_sc)\n",
    "customer_clustering['cluster'] = clusters.labels_\n",
    "print(customer_clustering['cluster'].unique())\n",
    "customer_clustering.head()"
   ],
   "metadata": {
    "collapsed": false,
    "pycharm": {
     "name": "#%%\n"
    }
   }
  },
  {
   "cell_type": "markdown",
   "source": [
    "### Clustering 結果の分析"
   ],
   "metadata": {
    "collapsed": false,
    "pycharm": {
     "name": "#%% md\n"
    }
   }
  },
  {
   "cell_type": "code",
   "execution_count": 28,
   "outputs": [
    {
     "data": {
      "text/plain": "         月内平均値  月内中央値  月内最大値  月内最小値  会員期間\ncluster                                  \n0          840    840    840    840   840\n1         1249   1249   1249   1249  1249\n2          771    771    771    771   771\n3         1332   1332   1332   1332  1332",
      "text/html": "<div>\n<style scoped>\n    .dataframe tbody tr th:only-of-type {\n        vertical-align: middle;\n    }\n\n    .dataframe tbody tr th {\n        vertical-align: top;\n    }\n\n    .dataframe thead th {\n        text-align: right;\n    }\n</style>\n<table border=\"1\" class=\"dataframe\">\n  <thead>\n    <tr style=\"text-align: right;\">\n      <th></th>\n      <th>月内平均値</th>\n      <th>月内中央値</th>\n      <th>月内最大値</th>\n      <th>月内最小値</th>\n      <th>会員期間</th>\n    </tr>\n    <tr>\n      <th>cluster</th>\n      <th></th>\n      <th></th>\n      <th></th>\n      <th></th>\n      <th></th>\n    </tr>\n  </thead>\n  <tbody>\n    <tr>\n      <th>0</th>\n      <td>840</td>\n      <td>840</td>\n      <td>840</td>\n      <td>840</td>\n      <td>840</td>\n    </tr>\n    <tr>\n      <th>1</th>\n      <td>1249</td>\n      <td>1249</td>\n      <td>1249</td>\n      <td>1249</td>\n      <td>1249</td>\n    </tr>\n    <tr>\n      <th>2</th>\n      <td>771</td>\n      <td>771</td>\n      <td>771</td>\n      <td>771</td>\n      <td>771</td>\n    </tr>\n    <tr>\n      <th>3</th>\n      <td>1332</td>\n      <td>1332</td>\n      <td>1332</td>\n      <td>1332</td>\n      <td>1332</td>\n    </tr>\n  </tbody>\n</table>\n</div>"
     },
     "execution_count": 28,
     "metadata": {},
     "output_type": "execute_result"
    }
   ],
   "source": [
    "# 列名の変更\n",
    "customer_clustering.columns = ['月内平均値', '月内中央値', '月内最大値', '月内最小値', '会員期間', 'cluster']\n",
    "\n",
    "# Cluster 毎の Data 件数\n",
    "customer_clustering.groupby('cluster').count()"
   ],
   "metadata": {
    "collapsed": false,
    "pycharm": {
     "name": "#%%\n"
    }
   }
  },
  {
   "cell_type": "markdown",
   "source": [
    "Group 3 が最も多く、Group 1, Group 0, Group 2 の順番になっている。"
   ],
   "metadata": {
    "collapsed": false,
    "pycharm": {
     "name": "#%% md\n"
    }
   }
  },
  {
   "cell_type": "code",
   "execution_count": 30,
   "outputs": [
    {
     "data": {
      "text/plain": "            月内平均値     月内中央値      月内最大値     月内最小値       会員期間\ncluster                                                    \n0        8.061942  8.047024  10.014286  6.175000   7.019048\n1        4.677561  4.670937   7.233787  2.153723  36.915933\n2        3.065504  2.900130   4.783398  1.649805   9.276265\n3        5.539535  5.391141   8.756006  2.702703  14.867868",
      "text/html": "<div>\n<style scoped>\n    .dataframe tbody tr th:only-of-type {\n        vertical-align: middle;\n    }\n\n    .dataframe tbody tr th {\n        vertical-align: top;\n    }\n\n    .dataframe thead th {\n        text-align: right;\n    }\n</style>\n<table border=\"1\" class=\"dataframe\">\n  <thead>\n    <tr style=\"text-align: right;\">\n      <th></th>\n      <th>月内平均値</th>\n      <th>月内中央値</th>\n      <th>月内最大値</th>\n      <th>月内最小値</th>\n      <th>会員期間</th>\n    </tr>\n    <tr>\n      <th>cluster</th>\n      <th></th>\n      <th></th>\n      <th></th>\n      <th></th>\n      <th></th>\n    </tr>\n  </thead>\n  <tbody>\n    <tr>\n      <th>0</th>\n      <td>8.061942</td>\n      <td>8.047024</td>\n      <td>10.014286</td>\n      <td>6.175000</td>\n      <td>7.019048</td>\n    </tr>\n    <tr>\n      <th>1</th>\n      <td>4.677561</td>\n      <td>4.670937</td>\n      <td>7.233787</td>\n      <td>2.153723</td>\n      <td>36.915933</td>\n    </tr>\n    <tr>\n      <th>2</th>\n      <td>3.065504</td>\n      <td>2.900130</td>\n      <td>4.783398</td>\n      <td>1.649805</td>\n      <td>9.276265</td>\n    </tr>\n    <tr>\n      <th>3</th>\n      <td>5.539535</td>\n      <td>5.391141</td>\n      <td>8.756006</td>\n      <td>2.702703</td>\n      <td>14.867868</td>\n    </tr>\n  </tbody>\n</table>\n</div>"
     },
     "execution_count": 30,
     "metadata": {},
     "output_type": "execute_result"
    }
   ],
   "source": [
    "# Group 毎に平均値\n",
    "customer_clustering.groupby('cluster').mean()"
   ],
   "metadata": {
    "collapsed": false,
    "pycharm": {
     "name": "#%%\n"
    }
   }
  },
  {
   "cell_type": "markdown",
   "source": [
    "Group | 特徴\n",
    "--- | ---\n",
    "Group 0 | 会員期間が短く、利用率が高い顧客\n",
    "Group 1 | group 2 よりも会員期間が長い。Group 3 に比べて会員期間は長いが利用率は若干低い\n",
    "Group 2 | 会員期間が短く、最も利用率が低い\n",
    "Group 3 | zgroup 2 よりも会員期間が長い"
   ],
   "metadata": {
    "collapsed": false,
    "pycharm": {
     "name": "#%% md\n"
    }
   }
  }
 ],
 "metadata": {
  "kernelspec": {
   "display_name": "Python 3",
   "language": "python",
   "name": "python3"
  },
  "language_info": {
   "codemirror_mode": {
    "name": "ipython",
    "version": 2
   },
   "file_extension": ".py",
   "mimetype": "text/x-python",
   "name": "python",
   "nbconvert_exporter": "python",
   "pygments_lexer": "ipython2",
   "version": "2.7.6"
  }
 },
 "nbformat": 4,
 "nbformat_minor": 0
}