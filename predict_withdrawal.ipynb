{
 "cells": [
  {
   "cell_type": "code",
   "execution_count": 11,
   "metadata": {},
   "outputs": [],
   "source": [
    "import warnings\n",
    "\n",
    "warnings.filterwarnings('ignore')\n",
    "import pandas as pd\n",
    "\n",
    "customer = pd.read_csv('sample_code/chapter_4/customer_join.csv')\n",
    "uselog_months = pd.read_csv('dump/use_log_months.csv')"
   ]
  },
  {
   "cell_type": "markdown",
   "metadata": {
    "pycharm": {
     "name": "#%% md\n"
    }
   },
   "source": [
    "機械学習用の Data 加工は当月と１ヶ月前の Data の利用履歴のみの Data を作成する。\n",
    "<small>\n",
    "理由\n",
    "- 過去６ヶ月分の Data から予測する場合、５ヶ月以内の退会は予測できない。\n",
    "- ほんの数ヶ月で辞めてしまう顧客も多いので、過去６ヶ月分の Data からの予測では意味がない。"
   ]
  },
  {
   "cell_type": "code",
   "execution_count": 12,
   "metadata": {
    "pycharm": {
     "name": "#%%\n"
    }
   },
   "outputs": [
    {
     "data": {
      "text/plain": "       年月 customer_id  count_0  count_1\n0  201805    AS002855        5      4.0\n1  201805    AS009373        4      3.0\n2  201805    AS015233        7      NaN\n3  201805    AS015315        3      6.0\n4  201805    AS015739        5      7.0",
      "text/html": "<div>\n<style scoped>\n    .dataframe tbody tr th:only-of-type {\n        vertical-align: middle;\n    }\n\n    .dataframe tbody tr th {\n        vertical-align: top;\n    }\n\n    .dataframe thead th {\n        text-align: right;\n    }\n</style>\n<table border=\"1\" class=\"dataframe\">\n  <thead>\n    <tr style=\"text-align: right;\">\n      <th></th>\n      <th>年月</th>\n      <th>customer_id</th>\n      <th>count_0</th>\n      <th>count_1</th>\n    </tr>\n  </thead>\n  <tbody>\n    <tr>\n      <th>0</th>\n      <td>201805</td>\n      <td>AS002855</td>\n      <td>5</td>\n      <td>4.0</td>\n    </tr>\n    <tr>\n      <th>1</th>\n      <td>201805</td>\n      <td>AS009373</td>\n      <td>4</td>\n      <td>3.0</td>\n    </tr>\n    <tr>\n      <th>2</th>\n      <td>201805</td>\n      <td>AS015233</td>\n      <td>7</td>\n      <td>NaN</td>\n    </tr>\n    <tr>\n      <th>3</th>\n      <td>201805</td>\n      <td>AS015315</td>\n      <td>3</td>\n      <td>6.0</td>\n    </tr>\n    <tr>\n      <th>4</th>\n      <td>201805</td>\n      <td>AS015739</td>\n      <td>5</td>\n      <td>7.0</td>\n    </tr>\n  </tbody>\n</table>\n</div>"
     },
     "execution_count": 12,
     "metadata": {},
     "output_type": "execute_result"
    }
   ],
   "source": [
    "year_months = list(uselog_months['年月'].unique())  # 年月を List化\n",
    "uselog = pd.DataFrame()\n",
    "for i in range(1, len(year_months)):\n",
    "    tmp = uselog_months.loc[uselog_months['年月'] == year_months[i]]\n",
    "    tmp.rename(columns={'count': 'count_0'}, inplace=True)\n",
    "    tmp_before = uselog_months.loc[uselog_months['年月'] == year_months[i - 1]]\n",
    "    del tmp_before['年月']\n",
    "    tmp_before.rename(columns={'count': 'count_1'}, inplace=True)\n",
    "    tmp = pd.merge(tmp, tmp_before, on='customer_id', how='left')\n",
    "    uselog = pd.concat([uselog, tmp], ignore_index=True)\n",
    "\n",
    "uselog.head()"
   ]
  },
  {
   "cell_type": "markdown",
   "metadata": {
    "pycharm": {
     "name": "#%% md\n"
    }
   },
   "source": [
    "## 退会前月の Data を作成\n",
    "退会当月の Data を用いても未然に防ぐことはできない為、前月の Data を用いて予測する。\n",
    "### 理由・要因\n",
    "1. 退会の予測をする目的\n",
    "退会を未然に防ぐこと\n",
    "2. Rule\n",
    "当 Jim では、月末までに退会申請を提出することで、翌月末で退会できる。"
   ]
  },
  {
   "cell_type": "code",
   "execution_count": 13,
   "metadata": {
    "pycharm": {
     "name": "#%%\n"
    }
   },
   "outputs": [
    {
     "name": "stdout",
     "output_type": "stream",
     "text": [
      "33851\n"
     ]
    },
    {
     "data": {
      "text/plain": "       年月 customer_id  count_0  count_1 name class gender start_date end_date  \\\n0  201805    AS002855        5      4.0  NaN   NaN    NaN        NaN      NaT   \n1  201805    AS009373        4      3.0  NaN   NaN    NaN        NaN      NaT   \n2  201805    AS015233        7      NaN  NaN   NaN    NaN        NaN      NaT   \n3  201805    AS015315        3      6.0  NaN   NaN    NaN        NaN      NaT   \n4  201805    AS015739        5      7.0  NaN   NaN    NaN        NaN      NaT   \n\n  campaign_id  ...  price campaign_name  mean median  max  min  routine_flg  \\\n0         NaN  ...    NaN           NaN   NaN    NaN  NaN  NaN          NaN   \n1         NaN  ...    NaN           NaN   NaN    NaN  NaN  NaN          NaN   \n2         NaN  ...    NaN           NaN   NaN    NaN  NaN  NaN          NaN   \n3         NaN  ...    NaN           NaN   NaN    NaN  NaN  NaN          NaN   \n4         NaN  ...    NaN           NaN   NaN    NaN  NaN  NaN          NaN   \n\n   calc_date  membership_period exit_date  \n0        NaN                NaN       NaT  \n1        NaN                NaN       NaT  \n2        NaN                NaN       NaT  \n3        NaN                NaN       NaT  \n4        NaN                NaN       NaT  \n\n[5 rows x 22 columns]",
      "text/html": "<div>\n<style scoped>\n    .dataframe tbody tr th:only-of-type {\n        vertical-align: middle;\n    }\n\n    .dataframe tbody tr th {\n        vertical-align: top;\n    }\n\n    .dataframe thead th {\n        text-align: right;\n    }\n</style>\n<table border=\"1\" class=\"dataframe\">\n  <thead>\n    <tr style=\"text-align: right;\">\n      <th></th>\n      <th>年月</th>\n      <th>customer_id</th>\n      <th>count_0</th>\n      <th>count_1</th>\n      <th>name</th>\n      <th>class</th>\n      <th>gender</th>\n      <th>start_date</th>\n      <th>end_date</th>\n      <th>campaign_id</th>\n      <th>...</th>\n      <th>price</th>\n      <th>campaign_name</th>\n      <th>mean</th>\n      <th>median</th>\n      <th>max</th>\n      <th>min</th>\n      <th>routine_flg</th>\n      <th>calc_date</th>\n      <th>membership_period</th>\n      <th>exit_date</th>\n    </tr>\n  </thead>\n  <tbody>\n    <tr>\n      <th>0</th>\n      <td>201805</td>\n      <td>AS002855</td>\n      <td>5</td>\n      <td>4.0</td>\n      <td>NaN</td>\n      <td>NaN</td>\n      <td>NaN</td>\n      <td>NaN</td>\n      <td>NaT</td>\n      <td>NaN</td>\n      <td>...</td>\n      <td>NaN</td>\n      <td>NaN</td>\n      <td>NaN</td>\n      <td>NaN</td>\n      <td>NaN</td>\n      <td>NaN</td>\n      <td>NaN</td>\n      <td>NaN</td>\n      <td>NaN</td>\n      <td>NaT</td>\n    </tr>\n    <tr>\n      <th>1</th>\n      <td>201805</td>\n      <td>AS009373</td>\n      <td>4</td>\n      <td>3.0</td>\n      <td>NaN</td>\n      <td>NaN</td>\n      <td>NaN</td>\n      <td>NaN</td>\n      <td>NaT</td>\n      <td>NaN</td>\n      <td>...</td>\n      <td>NaN</td>\n      <td>NaN</td>\n      <td>NaN</td>\n      <td>NaN</td>\n      <td>NaN</td>\n      <td>NaN</td>\n      <td>NaN</td>\n      <td>NaN</td>\n      <td>NaN</td>\n      <td>NaT</td>\n    </tr>\n    <tr>\n      <th>2</th>\n      <td>201805</td>\n      <td>AS015233</td>\n      <td>7</td>\n      <td>NaN</td>\n      <td>NaN</td>\n      <td>NaN</td>\n      <td>NaN</td>\n      <td>NaN</td>\n      <td>NaT</td>\n      <td>NaN</td>\n      <td>...</td>\n      <td>NaN</td>\n      <td>NaN</td>\n      <td>NaN</td>\n      <td>NaN</td>\n      <td>NaN</td>\n      <td>NaN</td>\n      <td>NaN</td>\n      <td>NaN</td>\n      <td>NaN</td>\n      <td>NaT</td>\n    </tr>\n    <tr>\n      <th>3</th>\n      <td>201805</td>\n      <td>AS015315</td>\n      <td>3</td>\n      <td>6.0</td>\n      <td>NaN</td>\n      <td>NaN</td>\n      <td>NaN</td>\n      <td>NaN</td>\n      <td>NaT</td>\n      <td>NaN</td>\n      <td>...</td>\n      <td>NaN</td>\n      <td>NaN</td>\n      <td>NaN</td>\n      <td>NaN</td>\n      <td>NaN</td>\n      <td>NaN</td>\n      <td>NaN</td>\n      <td>NaN</td>\n      <td>NaN</td>\n      <td>NaT</td>\n    </tr>\n    <tr>\n      <th>4</th>\n      <td>201805</td>\n      <td>AS015739</td>\n      <td>5</td>\n      <td>7.0</td>\n      <td>NaN</td>\n      <td>NaN</td>\n      <td>NaN</td>\n      <td>NaN</td>\n      <td>NaT</td>\n      <td>NaN</td>\n      <td>...</td>\n      <td>NaN</td>\n      <td>NaN</td>\n      <td>NaN</td>\n      <td>NaN</td>\n      <td>NaN</td>\n      <td>NaN</td>\n      <td>NaN</td>\n      <td>NaN</td>\n      <td>NaN</td>\n      <td>NaT</td>\n    </tr>\n  </tbody>\n</table>\n<p>5 rows × 22 columns</p>\n</div>"
     },
     "execution_count": 13,
     "metadata": {},
     "output_type": "execute_result"
    }
   ],
   "source": [
    "from dateutil.relativedelta import relativedelta\n",
    "\n",
    "exit_customer = customer.loc[customer['is_deleted'] == 1]\n",
    "exit_customer['exit_date'] = None\n",
    "exit_customer['end_date'] = pd.to_datetime(exit_customer['end_date'])\n",
    "for i in range(len(exit_customer)):\n",
    "    exit_customer['exit_date'].iloc[i] = exit_customer['end_date'].iloc[i] - relativedelta(months=1)\n",
    "exit_customer['exit_date'] = pd.to_datetime(exit_customer['exit_date'])\n",
    "exit_customer['年月'] = exit_customer['exit_date'].dt.strftime('%Y%m')\n",
    "uselog['年月'] = uselog['年月'].astype(str)\n",
    "exit_uselog = pd.merge(uselog, exit_customer, on=['customer_id', '年月'], how='left')\n",
    "print(len(uselog))\n",
    "exit_uselog.head()"
   ]
  },
  {
   "cell_type": "code",
   "execution_count": 14,
   "metadata": {},
   "outputs": [
    {
     "data": {
      "text/plain": "1104"
     },
     "metadata": {},
     "output_type": "display_data"
    },
    {
     "data": {
      "text/plain": "1104"
     },
     "metadata": {},
     "output_type": "display_data"
    },
    {
     "data": {
      "text/plain": "         年月 customer_id  count_0  count_1   name class gender  start_date  \\\n19   201805    AS055680        3      3.0  XXXXX   C01      M  2018-03-01   \n57   201805    AS169823        2      3.0     XX   C01      M  2017-11-01   \n110  201805    AS305860        5      3.0   XXXX   C01      M  2017-06-01   \n128  201805    AS363699        5      3.0  XXXXX   C01      M  2018-02-01   \n147  201805    AS417696        1      4.0     XX   C03      F  2017-09-01   \n\n      end_date campaign_id  ...    price campaign_name      mean median  max  \\\n19  2018-06-30         CA1  ...  10500.0            通常  3.000000    3.0  3.0   \n57  2018-06-30         CA1  ...  10500.0            通常  3.000000    3.0  4.0   \n110 2018-06-30         CA1  ...  10500.0            通常  3.333333    3.0  5.0   \n128 2018-06-30         CA1  ...  10500.0            通常  3.333333    3.0  5.0   \n147 2018-06-30         CA1  ...   6000.0            通常  2.000000    1.0  4.0   \n\n     min  routine_flg   calc_date  membership_period  exit_date  \n19   3.0          0.0  2018-06-30                3.0 2018-05-30  \n57   2.0          1.0  2018-06-30                7.0 2018-05-30  \n110  2.0          0.0  2018-06-30               12.0 2018-05-30  \n128  2.0          0.0  2018-06-30                4.0 2018-05-30  \n147  1.0          0.0  2018-06-30                9.0 2018-05-30  \n\n[5 rows x 22 columns]",
      "text/html": "<div>\n<style scoped>\n    .dataframe tbody tr th:only-of-type {\n        vertical-align: middle;\n    }\n\n    .dataframe tbody tr th {\n        vertical-align: top;\n    }\n\n    .dataframe thead th {\n        text-align: right;\n    }\n</style>\n<table border=\"1\" class=\"dataframe\">\n  <thead>\n    <tr style=\"text-align: right;\">\n      <th></th>\n      <th>年月</th>\n      <th>customer_id</th>\n      <th>count_0</th>\n      <th>count_1</th>\n      <th>name</th>\n      <th>class</th>\n      <th>gender</th>\n      <th>start_date</th>\n      <th>end_date</th>\n      <th>campaign_id</th>\n      <th>...</th>\n      <th>price</th>\n      <th>campaign_name</th>\n      <th>mean</th>\n      <th>median</th>\n      <th>max</th>\n      <th>min</th>\n      <th>routine_flg</th>\n      <th>calc_date</th>\n      <th>membership_period</th>\n      <th>exit_date</th>\n    </tr>\n  </thead>\n  <tbody>\n    <tr>\n      <th>19</th>\n      <td>201805</td>\n      <td>AS055680</td>\n      <td>3</td>\n      <td>3.0</td>\n      <td>XXXXX</td>\n      <td>C01</td>\n      <td>M</td>\n      <td>2018-03-01</td>\n      <td>2018-06-30</td>\n      <td>CA1</td>\n      <td>...</td>\n      <td>10500.0</td>\n      <td>通常</td>\n      <td>3.000000</td>\n      <td>3.0</td>\n      <td>3.0</td>\n      <td>3.0</td>\n      <td>0.0</td>\n      <td>2018-06-30</td>\n      <td>3.0</td>\n      <td>2018-05-30</td>\n    </tr>\n    <tr>\n      <th>57</th>\n      <td>201805</td>\n      <td>AS169823</td>\n      <td>2</td>\n      <td>3.0</td>\n      <td>XX</td>\n      <td>C01</td>\n      <td>M</td>\n      <td>2017-11-01</td>\n      <td>2018-06-30</td>\n      <td>CA1</td>\n      <td>...</td>\n      <td>10500.0</td>\n      <td>通常</td>\n      <td>3.000000</td>\n      <td>3.0</td>\n      <td>4.0</td>\n      <td>2.0</td>\n      <td>1.0</td>\n      <td>2018-06-30</td>\n      <td>7.0</td>\n      <td>2018-05-30</td>\n    </tr>\n    <tr>\n      <th>110</th>\n      <td>201805</td>\n      <td>AS305860</td>\n      <td>5</td>\n      <td>3.0</td>\n      <td>XXXX</td>\n      <td>C01</td>\n      <td>M</td>\n      <td>2017-06-01</td>\n      <td>2018-06-30</td>\n      <td>CA1</td>\n      <td>...</td>\n      <td>10500.0</td>\n      <td>通常</td>\n      <td>3.333333</td>\n      <td>3.0</td>\n      <td>5.0</td>\n      <td>2.0</td>\n      <td>0.0</td>\n      <td>2018-06-30</td>\n      <td>12.0</td>\n      <td>2018-05-30</td>\n    </tr>\n    <tr>\n      <th>128</th>\n      <td>201805</td>\n      <td>AS363699</td>\n      <td>5</td>\n      <td>3.0</td>\n      <td>XXXXX</td>\n      <td>C01</td>\n      <td>M</td>\n      <td>2018-02-01</td>\n      <td>2018-06-30</td>\n      <td>CA1</td>\n      <td>...</td>\n      <td>10500.0</td>\n      <td>通常</td>\n      <td>3.333333</td>\n      <td>3.0</td>\n      <td>5.0</td>\n      <td>2.0</td>\n      <td>0.0</td>\n      <td>2018-06-30</td>\n      <td>4.0</td>\n      <td>2018-05-30</td>\n    </tr>\n    <tr>\n      <th>147</th>\n      <td>201805</td>\n      <td>AS417696</td>\n      <td>1</td>\n      <td>4.0</td>\n      <td>XX</td>\n      <td>C03</td>\n      <td>F</td>\n      <td>2017-09-01</td>\n      <td>2018-06-30</td>\n      <td>CA1</td>\n      <td>...</td>\n      <td>6000.0</td>\n      <td>通常</td>\n      <td>2.000000</td>\n      <td>1.0</td>\n      <td>4.0</td>\n      <td>1.0</td>\n      <td>0.0</td>\n      <td>2018-06-30</td>\n      <td>9.0</td>\n      <td>2018-05-30</td>\n    </tr>\n  </tbody>\n</table>\n<p>5 rows × 22 columns</p>\n</div>"
     },
     "execution_count": 14,
     "metadata": {},
     "output_type": "execute_result"
    }
   ],
   "source": [
    "# 欠損値を除外する\n",
    "exit_uselog = exit_uselog.dropna(subset=['name'])\n",
    "display(len(exit_uselog))\n",
    "display(len(exit_uselog['customer_id'].unique()))\n",
    "exit_uselog.head()"
   ]
  },
  {
   "cell_type": "markdown",
   "source": [
    "customer data は、end_date 以外に欠損値はないはず\n",
    "    => customer data の名前列が欠損値であった場合 = 退会前月と結合できない不要な Data.\n",
    "\n",
    "Data 件数と customer_id 列の unique 数が一致している為、顧客が辞める前月の状態を表している Data ということを確認。"
   ],
   "metadata": {
    "collapsed": false,
    "pycharm": {
     "name": "#%% md\n"
    }
   }
  },
  {
   "cell_type": "markdown",
   "source": [
    "# 継続顧客の Data を作成"
   ],
   "metadata": {
    "collapsed": false,
    "pycharm": {
     "name": "#%% md\n"
    }
   }
  },
  {
   "cell_type": "code",
   "execution_count": 15,
   "outputs": [
    {
     "data": {
      "text/plain": "33851"
     },
     "metadata": {},
     "output_type": "display_data"
    },
    {
     "data": {
      "text/plain": "27422"
     },
     "metadata": {},
     "output_type": "display_data"
    }
   ],
   "source": [
    "conti_customer = customer.loc[customer['is_deleted'] == 0]\n",
    "conti_uselog = pd.merge(uselog, conti_customer, on=['customer_id'], how='left')\n",
    "display(len(conti_uselog))\n",
    "conti_uselog = conti_uselog.dropna(subset=['name'])\n",
    "display(len(conti_uselog))"
   ],
   "metadata": {
    "collapsed": false,
    "pycharm": {
     "name": "#%%\n"
    }
   }
  },
  {
   "cell_type": "markdown",
   "source": [
    "Data | Data 数\n",
    "--- | ---\n",
    "退会 Data | 1104\n",
    "継続顧客 Data | 27422\n",
    "\n",
    "比較して退会 Data が少ない為、継続顧客の Data 全てを利用する場合、不均一な Data となってしまう。\n",
    "=> Sample 数の調整が必要。\n",
    "\n",
    "### 継続顧客も、顧客あたり１件になるよう Ander sampling を実施\n",
    "Data を Shuffle して、重複を削除する方法をとる。"
   ],
   "metadata": {
    "collapsed": false,
    "pycharm": {
     "name": "#%% md\n"
    }
   }
  },
  {
   "cell_type": "code",
   "execution_count": 16,
   "outputs": [
    {
     "data": {
      "text/plain": "2842"
     },
     "metadata": {},
     "output_type": "display_data"
    },
    {
     "data": {
      "text/plain": "       年月 customer_id  count_0  count_1    name class gender  start_date  \\\n0  201812    TS816625       10      NaN     XXX   C01      M  2018-12-14   \n1  201810    GD115359        6      4.0    XXXX   C02      F  2017-05-01   \n2  201806    TS278201        8      6.0   XXXXX   C03      M  2015-12-01   \n3  201807    OA545809        3      3.0  XXXXXX   C01      M  2015-08-01   \n4  201806    AS073168        7      6.0   XXXXX   C01      M  2017-11-01   \n\n  end_date campaign_id  ...  class_name    price  campaign_name      mean  \\\n0      NaN         CA3  ...      オールタイム  10500.0          入会費無料  8.000000   \n1      NaN         CA1  ...       デイタイム   7500.0             通常  5.000000   \n2      NaN         CA1  ...         ナイト   6000.0             通常  4.750000   \n3      NaN         CA1  ...      オールタイム  10500.0             通常  4.333333   \n4      NaN         CA1  ...      オールタイム  10500.0             通常  6.083333   \n\n   median   max  min  routine_flg   calc_date membership_period  \n0     8.0  10.0  6.0          1.0  2019-04-30               4.0  \n1     5.0   7.0  3.0          1.0  2019-04-30              23.0  \n2     4.5   8.0  3.0          1.0  2019-04-30              40.0  \n3     4.0   6.0  3.0          1.0  2019-04-30              44.0  \n4     6.0   8.0  3.0          1.0  2019-04-30              17.0  \n\n[5 rows x 21 columns]",
      "text/html": "<div>\n<style scoped>\n    .dataframe tbody tr th:only-of-type {\n        vertical-align: middle;\n    }\n\n    .dataframe tbody tr th {\n        vertical-align: top;\n    }\n\n    .dataframe thead th {\n        text-align: right;\n    }\n</style>\n<table border=\"1\" class=\"dataframe\">\n  <thead>\n    <tr style=\"text-align: right;\">\n      <th></th>\n      <th>年月</th>\n      <th>customer_id</th>\n      <th>count_0</th>\n      <th>count_1</th>\n      <th>name</th>\n      <th>class</th>\n      <th>gender</th>\n      <th>start_date</th>\n      <th>end_date</th>\n      <th>campaign_id</th>\n      <th>...</th>\n      <th>class_name</th>\n      <th>price</th>\n      <th>campaign_name</th>\n      <th>mean</th>\n      <th>median</th>\n      <th>max</th>\n      <th>min</th>\n      <th>routine_flg</th>\n      <th>calc_date</th>\n      <th>membership_period</th>\n    </tr>\n  </thead>\n  <tbody>\n    <tr>\n      <th>0</th>\n      <td>201812</td>\n      <td>TS816625</td>\n      <td>10</td>\n      <td>NaN</td>\n      <td>XXX</td>\n      <td>C01</td>\n      <td>M</td>\n      <td>2018-12-14</td>\n      <td>NaN</td>\n      <td>CA3</td>\n      <td>...</td>\n      <td>オールタイム</td>\n      <td>10500.0</td>\n      <td>入会費無料</td>\n      <td>8.000000</td>\n      <td>8.0</td>\n      <td>10.0</td>\n      <td>6.0</td>\n      <td>1.0</td>\n      <td>2019-04-30</td>\n      <td>4.0</td>\n    </tr>\n    <tr>\n      <th>1</th>\n      <td>201810</td>\n      <td>GD115359</td>\n      <td>6</td>\n      <td>4.0</td>\n      <td>XXXX</td>\n      <td>C02</td>\n      <td>F</td>\n      <td>2017-05-01</td>\n      <td>NaN</td>\n      <td>CA1</td>\n      <td>...</td>\n      <td>デイタイム</td>\n      <td>7500.0</td>\n      <td>通常</td>\n      <td>5.000000</td>\n      <td>5.0</td>\n      <td>7.0</td>\n      <td>3.0</td>\n      <td>1.0</td>\n      <td>2019-04-30</td>\n      <td>23.0</td>\n    </tr>\n    <tr>\n      <th>2</th>\n      <td>201806</td>\n      <td>TS278201</td>\n      <td>8</td>\n      <td>6.0</td>\n      <td>XXXXX</td>\n      <td>C03</td>\n      <td>M</td>\n      <td>2015-12-01</td>\n      <td>NaN</td>\n      <td>CA1</td>\n      <td>...</td>\n      <td>ナイト</td>\n      <td>6000.0</td>\n      <td>通常</td>\n      <td>4.750000</td>\n      <td>4.5</td>\n      <td>8.0</td>\n      <td>3.0</td>\n      <td>1.0</td>\n      <td>2019-04-30</td>\n      <td>40.0</td>\n    </tr>\n    <tr>\n      <th>3</th>\n      <td>201807</td>\n      <td>OA545809</td>\n      <td>3</td>\n      <td>3.0</td>\n      <td>XXXXXX</td>\n      <td>C01</td>\n      <td>M</td>\n      <td>2015-08-01</td>\n      <td>NaN</td>\n      <td>CA1</td>\n      <td>...</td>\n      <td>オールタイム</td>\n      <td>10500.0</td>\n      <td>通常</td>\n      <td>4.333333</td>\n      <td>4.0</td>\n      <td>6.0</td>\n      <td>3.0</td>\n      <td>1.0</td>\n      <td>2019-04-30</td>\n      <td>44.0</td>\n    </tr>\n    <tr>\n      <th>4</th>\n      <td>201806</td>\n      <td>AS073168</td>\n      <td>7</td>\n      <td>6.0</td>\n      <td>XXXXX</td>\n      <td>C01</td>\n      <td>M</td>\n      <td>2017-11-01</td>\n      <td>NaN</td>\n      <td>CA1</td>\n      <td>...</td>\n      <td>オールタイム</td>\n      <td>10500.0</td>\n      <td>通常</td>\n      <td>6.083333</td>\n      <td>6.0</td>\n      <td>8.0</td>\n      <td>3.0</td>\n      <td>1.0</td>\n      <td>2019-04-30</td>\n      <td>17.0</td>\n    </tr>\n  </tbody>\n</table>\n<p>5 rows × 21 columns</p>\n</div>"
     },
     "execution_count": 16,
     "metadata": {},
     "output_type": "execute_result"
    }
   ],
   "source": [
    "conti_uselog = conti_uselog.sample(frac=1).reset_index(drop=True)  # Data の Shuffle\n",
    "conti_uselog = conti_uselog.drop_duplicates(subset='customer_id')  # customer_id が重複している Data は最初の Data のみ取得\n",
    "display(len(conti_uselog))\n",
    "conti_uselog.head()"
   ],
   "metadata": {
    "collapsed": false,
    "pycharm": {
     "name": "#%%\n"
    }
   }
  },
  {
   "cell_type": "markdown",
   "source": [
    "継続顧客 Data が完成したので、退会顧客 Data と縦結合する"
   ],
   "metadata": {
    "collapsed": false,
    "pycharm": {
     "name": "#%% md\n"
    }
   }
  },
  {
   "cell_type": "code",
   "execution_count": 17,
   "outputs": [
    {
     "name": "stdout",
     "output_type": "stream",
     "text": [
      "3946\n"
     ]
    },
    {
     "data": {
      "text/plain": "       年月 customer_id  count_0  count_1    name class gender  start_date  \\\n0  201812    TS816625       10      NaN     XXX   C01      M  2018-12-14   \n1  201810    GD115359        6      4.0    XXXX   C02      F  2017-05-01   \n2  201806    TS278201        8      6.0   XXXXX   C03      M  2015-12-01   \n3  201807    OA545809        3      3.0  XXXXXX   C01      M  2015-08-01   \n4  201806    AS073168        7      6.0   XXXXX   C01      M  2017-11-01   \n\n  end_date campaign_id  ...    price campaign_name      mean median   max  \\\n0      NaN         CA3  ...  10500.0         入会費無料  8.000000    8.0  10.0   \n1      NaN         CA1  ...   7500.0            通常  5.000000    5.0   7.0   \n2      NaN         CA1  ...   6000.0            通常  4.750000    4.5   8.0   \n3      NaN         CA1  ...  10500.0            通常  4.333333    4.0   6.0   \n4      NaN         CA1  ...  10500.0            通常  6.083333    6.0   8.0   \n\n   min  routine_flg   calc_date  membership_period exit_date  \n0  6.0          1.0  2019-04-30                4.0       NaT  \n1  3.0          1.0  2019-04-30               23.0       NaT  \n2  3.0          1.0  2019-04-30               40.0       NaT  \n3  3.0          1.0  2019-04-30               44.0       NaT  \n4  3.0          1.0  2019-04-30               17.0       NaT  \n\n[5 rows x 22 columns]",
      "text/html": "<div>\n<style scoped>\n    .dataframe tbody tr th:only-of-type {\n        vertical-align: middle;\n    }\n\n    .dataframe tbody tr th {\n        vertical-align: top;\n    }\n\n    .dataframe thead th {\n        text-align: right;\n    }\n</style>\n<table border=\"1\" class=\"dataframe\">\n  <thead>\n    <tr style=\"text-align: right;\">\n      <th></th>\n      <th>年月</th>\n      <th>customer_id</th>\n      <th>count_0</th>\n      <th>count_1</th>\n      <th>name</th>\n      <th>class</th>\n      <th>gender</th>\n      <th>start_date</th>\n      <th>end_date</th>\n      <th>campaign_id</th>\n      <th>...</th>\n      <th>price</th>\n      <th>campaign_name</th>\n      <th>mean</th>\n      <th>median</th>\n      <th>max</th>\n      <th>min</th>\n      <th>routine_flg</th>\n      <th>calc_date</th>\n      <th>membership_period</th>\n      <th>exit_date</th>\n    </tr>\n  </thead>\n  <tbody>\n    <tr>\n      <th>0</th>\n      <td>201812</td>\n      <td>TS816625</td>\n      <td>10</td>\n      <td>NaN</td>\n      <td>XXX</td>\n      <td>C01</td>\n      <td>M</td>\n      <td>2018-12-14</td>\n      <td>NaN</td>\n      <td>CA3</td>\n      <td>...</td>\n      <td>10500.0</td>\n      <td>入会費無料</td>\n      <td>8.000000</td>\n      <td>8.0</td>\n      <td>10.0</td>\n      <td>6.0</td>\n      <td>1.0</td>\n      <td>2019-04-30</td>\n      <td>4.0</td>\n      <td>NaT</td>\n    </tr>\n    <tr>\n      <th>1</th>\n      <td>201810</td>\n      <td>GD115359</td>\n      <td>6</td>\n      <td>4.0</td>\n      <td>XXXX</td>\n      <td>C02</td>\n      <td>F</td>\n      <td>2017-05-01</td>\n      <td>NaN</td>\n      <td>CA1</td>\n      <td>...</td>\n      <td>7500.0</td>\n      <td>通常</td>\n      <td>5.000000</td>\n      <td>5.0</td>\n      <td>7.0</td>\n      <td>3.0</td>\n      <td>1.0</td>\n      <td>2019-04-30</td>\n      <td>23.0</td>\n      <td>NaT</td>\n    </tr>\n    <tr>\n      <th>2</th>\n      <td>201806</td>\n      <td>TS278201</td>\n      <td>8</td>\n      <td>6.0</td>\n      <td>XXXXX</td>\n      <td>C03</td>\n      <td>M</td>\n      <td>2015-12-01</td>\n      <td>NaN</td>\n      <td>CA1</td>\n      <td>...</td>\n      <td>6000.0</td>\n      <td>通常</td>\n      <td>4.750000</td>\n      <td>4.5</td>\n      <td>8.0</td>\n      <td>3.0</td>\n      <td>1.0</td>\n      <td>2019-04-30</td>\n      <td>40.0</td>\n      <td>NaT</td>\n    </tr>\n    <tr>\n      <th>3</th>\n      <td>201807</td>\n      <td>OA545809</td>\n      <td>3</td>\n      <td>3.0</td>\n      <td>XXXXXX</td>\n      <td>C01</td>\n      <td>M</td>\n      <td>2015-08-01</td>\n      <td>NaN</td>\n      <td>CA1</td>\n      <td>...</td>\n      <td>10500.0</td>\n      <td>通常</td>\n      <td>4.333333</td>\n      <td>4.0</td>\n      <td>6.0</td>\n      <td>3.0</td>\n      <td>1.0</td>\n      <td>2019-04-30</td>\n      <td>44.0</td>\n      <td>NaT</td>\n    </tr>\n    <tr>\n      <th>4</th>\n      <td>201806</td>\n      <td>AS073168</td>\n      <td>7</td>\n      <td>6.0</td>\n      <td>XXXXX</td>\n      <td>C01</td>\n      <td>M</td>\n      <td>2017-11-01</td>\n      <td>NaN</td>\n      <td>CA1</td>\n      <td>...</td>\n      <td>10500.0</td>\n      <td>通常</td>\n      <td>6.083333</td>\n      <td>6.0</td>\n      <td>8.0</td>\n      <td>3.0</td>\n      <td>1.0</td>\n      <td>2019-04-30</td>\n      <td>17.0</td>\n      <td>NaT</td>\n    </tr>\n  </tbody>\n</table>\n<p>5 rows × 22 columns</p>\n</div>"
     },
     "execution_count": 17,
     "metadata": {},
     "output_type": "execute_result"
    }
   ],
   "source": [
    "predict_data = pd.concat([conti_uselog, exit_uselog], ignore_index=True)\n",
    "print(len(predict_data))\n",
    "predict_data.head()"
   ],
   "metadata": {
    "collapsed": false,
    "pycharm": {
     "name": "#%%\n"
    }
   }
  },
  {
   "cell_type": "markdown",
   "source": [
    "時間的要素が入った在籍期間の列を追加する。"
   ],
   "metadata": {
    "collapsed": false,
    "pycharm": {
     "name": "#%% md\n"
    }
   }
  },
  {
   "cell_type": "code",
   "execution_count": 21,
   "outputs": [
    {
     "data": {
      "text/plain": "       年月 customer_id  count_0  count_1    name class gender start_date  \\\n0  201812    TS816625       10      NaN     XXX   C01      M 2018-12-14   \n1  201810    GD115359        6      4.0    XXXX   C02      F 2017-05-01   \n2  201806    TS278201        8      6.0   XXXXX   C03      M 2015-12-01   \n3  201807    OA545809        3      3.0  XXXXXX   C01      M 2015-08-01   \n4  201806    AS073168        7      6.0   XXXXX   C01      M 2017-11-01   \n\n  end_date campaign_id  ...      mean median   max  min  routine_flg  \\\n0      NaN         CA3  ...  8.000000    8.0  10.0  6.0          1.0   \n1      NaN         CA1  ...  5.000000    5.0   7.0  3.0          1.0   \n2      NaN         CA1  ...  4.750000    4.5   8.0  3.0          1.0   \n3      NaN         CA1  ...  4.333333    4.0   6.0  3.0          1.0   \n4      NaN         CA1  ...  6.083333    6.0   8.0  3.0          1.0   \n\n    calc_date  membership_period  exit_date  period   now_date  \n0  2019-04-30                4.0        NaT       0 2018-12-01  \n1  2019-04-30               23.0        NaT      17 2018-10-01  \n2  2019-04-30               40.0        NaT      30 2018-06-01  \n3  2019-04-30               44.0        NaT      35 2018-07-01  \n4  2019-04-30               17.0        NaT       7 2018-06-01  \n\n[5 rows x 24 columns]",
      "text/html": "<div>\n<style scoped>\n    .dataframe tbody tr th:only-of-type {\n        vertical-align: middle;\n    }\n\n    .dataframe tbody tr th {\n        vertical-align: top;\n    }\n\n    .dataframe thead th {\n        text-align: right;\n    }\n</style>\n<table border=\"1\" class=\"dataframe\">\n  <thead>\n    <tr style=\"text-align: right;\">\n      <th></th>\n      <th>年月</th>\n      <th>customer_id</th>\n      <th>count_0</th>\n      <th>count_1</th>\n      <th>name</th>\n      <th>class</th>\n      <th>gender</th>\n      <th>start_date</th>\n      <th>end_date</th>\n      <th>campaign_id</th>\n      <th>...</th>\n      <th>mean</th>\n      <th>median</th>\n      <th>max</th>\n      <th>min</th>\n      <th>routine_flg</th>\n      <th>calc_date</th>\n      <th>membership_period</th>\n      <th>exit_date</th>\n      <th>period</th>\n      <th>now_date</th>\n    </tr>\n  </thead>\n  <tbody>\n    <tr>\n      <th>0</th>\n      <td>201812</td>\n      <td>TS816625</td>\n      <td>10</td>\n      <td>NaN</td>\n      <td>XXX</td>\n      <td>C01</td>\n      <td>M</td>\n      <td>2018-12-14</td>\n      <td>NaN</td>\n      <td>CA3</td>\n      <td>...</td>\n      <td>8.000000</td>\n      <td>8.0</td>\n      <td>10.0</td>\n      <td>6.0</td>\n      <td>1.0</td>\n      <td>2019-04-30</td>\n      <td>4.0</td>\n      <td>NaT</td>\n      <td>0</td>\n      <td>2018-12-01</td>\n    </tr>\n    <tr>\n      <th>1</th>\n      <td>201810</td>\n      <td>GD115359</td>\n      <td>6</td>\n      <td>4.0</td>\n      <td>XXXX</td>\n      <td>C02</td>\n      <td>F</td>\n      <td>2017-05-01</td>\n      <td>NaN</td>\n      <td>CA1</td>\n      <td>...</td>\n      <td>5.000000</td>\n      <td>5.0</td>\n      <td>7.0</td>\n      <td>3.0</td>\n      <td>1.0</td>\n      <td>2019-04-30</td>\n      <td>23.0</td>\n      <td>NaT</td>\n      <td>17</td>\n      <td>2018-10-01</td>\n    </tr>\n    <tr>\n      <th>2</th>\n      <td>201806</td>\n      <td>TS278201</td>\n      <td>8</td>\n      <td>6.0</td>\n      <td>XXXXX</td>\n      <td>C03</td>\n      <td>M</td>\n      <td>2015-12-01</td>\n      <td>NaN</td>\n      <td>CA1</td>\n      <td>...</td>\n      <td>4.750000</td>\n      <td>4.5</td>\n      <td>8.0</td>\n      <td>3.0</td>\n      <td>1.0</td>\n      <td>2019-04-30</td>\n      <td>40.0</td>\n      <td>NaT</td>\n      <td>30</td>\n      <td>2018-06-01</td>\n    </tr>\n    <tr>\n      <th>3</th>\n      <td>201807</td>\n      <td>OA545809</td>\n      <td>3</td>\n      <td>3.0</td>\n      <td>XXXXXX</td>\n      <td>C01</td>\n      <td>M</td>\n      <td>2015-08-01</td>\n      <td>NaN</td>\n      <td>CA1</td>\n      <td>...</td>\n      <td>4.333333</td>\n      <td>4.0</td>\n      <td>6.0</td>\n      <td>3.0</td>\n      <td>1.0</td>\n      <td>2019-04-30</td>\n      <td>44.0</td>\n      <td>NaT</td>\n      <td>35</td>\n      <td>2018-07-01</td>\n    </tr>\n    <tr>\n      <th>4</th>\n      <td>201806</td>\n      <td>AS073168</td>\n      <td>7</td>\n      <td>6.0</td>\n      <td>XXXXX</td>\n      <td>C01</td>\n      <td>M</td>\n      <td>2017-11-01</td>\n      <td>NaN</td>\n      <td>CA1</td>\n      <td>...</td>\n      <td>6.083333</td>\n      <td>6.0</td>\n      <td>8.0</td>\n      <td>3.0</td>\n      <td>1.0</td>\n      <td>2019-04-30</td>\n      <td>17.0</td>\n      <td>NaT</td>\n      <td>7</td>\n      <td>2018-06-01</td>\n    </tr>\n  </tbody>\n</table>\n<p>5 rows × 24 columns</p>\n</div>"
     },
     "execution_count": 21,
     "metadata": {},
     "output_type": "execute_result"
    }
   ],
   "source": [
    "predict_data['period'] = 0\n",
    "predict_data['now_date'] = pd.to_datetime(predict_data['年月'], format='%Y%m')\n",
    "predict_data['start_date'] = pd.to_datetime(predict_data['start_date'])\n",
    "for i in range(len(predict_data)):\n",
    "    delta = relativedelta(predict_data['now_date'][i], predict_data['start_date'][i])\n",
    "    predict_data['period'][i] = int(delta.years * 12 + delta.months)\n",
    "\n",
    "predict_data.head()"
   ],
   "metadata": {
    "collapsed": false,
    "pycharm": {
     "name": "#%%\n"
    }
   }
  }
 ],
 "metadata": {
  "kernelspec": {
   "display_name": "Python 3 (ipykernel)",
   "language": "python",
   "name": "python3"
  },
  "language_info": {
   "codemirror_mode": {
    "name": "ipython",
    "version": 3
   },
   "file_extension": ".py",
   "mimetype": "text/x-python",
   "name": "python",
   "nbconvert_exporter": "python",
   "pygments_lexer": "ipython3",
   "version": "3.10.0"
  }
 },
 "nbformat": 4,
 "nbformat_minor": 1
}