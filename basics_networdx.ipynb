{
 "cells": [
  {
   "cell_type": "markdown",
   "source": [
    "NetworkX の基礎的な Process"
   ],
   "metadata": {
    "collapsed": false
   }
  },
  {
   "cell_type": "code",
   "execution_count": 1,
   "outputs": [
    {
     "data": {
      "text/plain": "<Figure size 432x288 with 1 Axes>",
      "image/png": "[encoded data removed]"
     },
     "metadata": {},
     "output_type": "display_data"
    }
   ],
   "source": [
    "import networkx as nx\n",
    "import matplotlib.pyplot as plt\n",
    "\n",
    "# Class Object の作成\n",
    "G = nx.Graph()\n",
    "\n",
    "# 頂点の設定\n",
    "G.add_node('nodeA')\n",
    "G.add_node('nodeB')\n",
    "G.add_node('nodeC')\n",
    "\n",
    "# 辺の設定\n",
    "G.add_edge('nodeA', 'nodeB')\n",
    "G.add_edge('nodeA', 'nodeC')\n",
    "G.add_edge('nodeB', 'nodeC')\n",
    "\n",
    "# 座標の設定\n",
    "pos ={}\n",
    "pos['nodeA'] = (0, 0)\n",
    "pos['nodeB'] = (1, 1)\n",
    "pos['nodeC'] = (0, 1)\n",
    "\n",
    "# 描画\n",
    "nx.draw(G, pos)\n",
    "\n",
    "# 表示\n",
    "plt.show()"
   ],
   "metadata": {
    "collapsed": false,
    "pycharm": {
     "name": "#%%\n"
    }
   }
  },
  {
   "cell_type": "markdown",
   "source": [
    "Network 可視化を行い\n",
    "- 倉庫から小売店までの物流などを表現する。\n",
    "- 数値だけではわかりにくかった物流の偏りなどの全体像を掴む。"
   ],
   "metadata": {
    "collapsed": false
   }
  },
  {
   "cell_type": "code",
   "execution_count": 2,
   "outputs": [
    {
     "data": {
      "text/plain": "<Figure size 432x288 with 1 Axes>",
      "image/png": "[encoded data removed]"
     },
     "metadata": {},
     "output_type": "display_data"
    }
   ],
   "source": [
    "G.add_node('nodeD')\n",
    "G.add_edge('nodeA', 'nodeD')\n",
    "pos['nodeD']=(1, 0)\n",
    "nx.draw(G, pos, with_labels=True)\n",
    "plt.show()"
   ],
   "metadata": {
    "collapsed": false,
    "pycharm": {
     "name": "#%%\n"
    }
   }
  }
 ],
 "metadata": {
  "kernelspec": {
   "display_name": "Python 3",
   "language": "python",
   "name": "python3"
  },
  "language_info": {
   "codemirror_mode": {
    "name": "ipython",
    "version": 2
   },
   "file_extension": ".py",
   "mimetype": "text/x-python",
   "name": "python",
   "nbconvert_exporter": "python",
   "pygments_lexer": "ipython2",
   "version": "2.7.6"
  }
 },
 "nbformat": 4,
 "nbformat_minor": 0
}