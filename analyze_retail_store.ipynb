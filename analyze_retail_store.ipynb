{
 "cells": [
  {
   "cell_type": "code",
   "execution_count": 1,
   "metadata": {
    "collapsed": true
   },
   "outputs": [
    {
     "data": {
      "text/plain": "         purchase_date item_name  item_price customer_name\n0  2019-06-13 18:02:34       商品A       100.0         深井菜々美\n1  2019-07-13 13:05:29     商 品 S         NaN          浅田賢二\n2  2019-05-11 19:42:07     商 品 a         NaN          南部慶二\n3  2019-02-12 23:40:45       商品Z      2600.0          麻生莉緒\n4  2019-04-22 03:09:35       商品a         NaN          平田鉄二",
      "text/html": "<div>\n<style scoped>\n    .dataframe tbody tr th:only-of-type {\n        vertical-align: middle;\n    }\n\n    .dataframe tbody tr th {\n        vertical-align: top;\n    }\n\n    .dataframe thead th {\n        text-align: right;\n    }\n</style>\n<table border=\"1\" class=\"dataframe\">\n  <thead>\n    <tr style=\"text-align: right;\">\n      <th></th>\n      <th>purchase_date</th>\n      <th>item_name</th>\n      <th>item_price</th>\n      <th>customer_name</th>\n    </tr>\n  </thead>\n  <tbody>\n    <tr>\n      <th>0</th>\n      <td>2019-06-13 18:02:34</td>\n      <td>商品A</td>\n      <td>100.0</td>\n      <td>深井菜々美</td>\n    </tr>\n    <tr>\n      <th>1</th>\n      <td>2019-07-13 13:05:29</td>\n      <td>商 品 S</td>\n      <td>NaN</td>\n      <td>浅田賢二</td>\n    </tr>\n    <tr>\n      <th>2</th>\n      <td>2019-05-11 19:42:07</td>\n      <td>商 品 a</td>\n      <td>NaN</td>\n      <td>南部慶二</td>\n    </tr>\n    <tr>\n      <th>3</th>\n      <td>2019-02-12 23:40:45</td>\n      <td>商品Z</td>\n      <td>2600.0</td>\n      <td>麻生莉緒</td>\n    </tr>\n    <tr>\n      <th>4</th>\n      <td>2019-04-22 03:09:35</td>\n      <td>商品a</td>\n      <td>NaN</td>\n      <td>平田鉄二</td>\n    </tr>\n  </tbody>\n</table>\n</div>"
     },
     "execution_count": 1,
     "metadata": {},
     "output_type": "execute_result"
    }
   ],
   "source": [
    "# Data の読み込み\n",
    "\n",
    "import pandas as pd\n",
    "\n",
    "uriage_data = pd.read_csv('sample_code/chapter_2/uriage.csv')\n",
    "uriage_data.head()"
   ]
  },
  {
   "cell_type": "code",
   "execution_count": 2,
   "outputs": [
    {
     "data": {
      "text/plain": "      顧客名        かな  地域                     メールアドレス         登録日\n0   須賀ひとみ    すが ひとみ  H市     suga_hitomi@example.com  2018/01/04\n1  岡田　 敏也   おかだ としや  E市   okada_toshiya@example.com       42782\n2    芳賀 希    はが のぞみ  A市     haga_nozomi@example.com  2018/01/07\n3   荻野  愛    おぎの あい  F市        ogino_ai@example.com       42872\n4   栗田 憲一  くりた けんいち  E市  kurita_kenichi@example.com       43127",
      "text/html": "<div>\n<style scoped>\n    .dataframe tbody tr th:only-of-type {\n        vertical-align: middle;\n    }\n\n    .dataframe tbody tr th {\n        vertical-align: top;\n    }\n\n    .dataframe thead th {\n        text-align: right;\n    }\n</style>\n<table border=\"1\" class=\"dataframe\">\n  <thead>\n    <tr style=\"text-align: right;\">\n      <th></th>\n      <th>顧客名</th>\n      <th>かな</th>\n      <th>地域</th>\n      <th>メールアドレス</th>\n      <th>登録日</th>\n    </tr>\n  </thead>\n  <tbody>\n    <tr>\n      <th>0</th>\n      <td>須賀ひとみ</td>\n      <td>すが ひとみ</td>\n      <td>H市</td>\n      <td>suga_hitomi@example.com</td>\n      <td>2018/01/04</td>\n    </tr>\n    <tr>\n      <th>1</th>\n      <td>岡田　 敏也</td>\n      <td>おかだ としや</td>\n      <td>E市</td>\n      <td>okada_toshiya@example.com</td>\n      <td>42782</td>\n    </tr>\n    <tr>\n      <th>2</th>\n      <td>芳賀 希</td>\n      <td>はが のぞみ</td>\n      <td>A市</td>\n      <td>haga_nozomi@example.com</td>\n      <td>2018/01/07</td>\n    </tr>\n    <tr>\n      <th>3</th>\n      <td>荻野  愛</td>\n      <td>おぎの あい</td>\n      <td>F市</td>\n      <td>ogino_ai@example.com</td>\n      <td>42872</td>\n    </tr>\n    <tr>\n      <th>4</th>\n      <td>栗田 憲一</td>\n      <td>くりた けんいち</td>\n      <td>E市</td>\n      <td>kurita_kenichi@example.com</td>\n      <td>43127</td>\n    </tr>\n  </tbody>\n</table>\n</div>"
     },
     "execution_count": 2,
     "metadata": {},
     "output_type": "execute_result"
    }
   ],
   "source": [
    "kokyaku_data = pd.read_excel('sample_code/chapter_2/kokyaku_daicho.xlsx')\n",
    "kokyaku_data.head()"
   ],
   "metadata": {
    "collapsed": false,
    "pycharm": {
     "name": "#%%\n"
    }
   }
  },
  {
   "cell_type": "markdown",
   "source": [
    "Data に欠損値や表記の整合性がない事が散見され Data の揺れが起こっている。"
   ],
   "metadata": {
    "collapsed": false,
    "pycharm": {
     "name": "#%% md\n"
    }
   }
  },
  {
   "cell_type": "code",
   "execution_count": 3,
   "outputs": [
    {
     "data": {
      "text/plain": "0      商品A\n1    商 品 S\n2    商 品 a\n3      商品Z\n4      商品a\nName: item_name, dtype: object"
     },
     "execution_count": 3,
     "metadata": {},
     "output_type": "execute_result"
    }
   ],
   "source": [
    "uriage_data['item_name'].head()"
   ],
   "metadata": {
    "collapsed": false,
    "pycharm": {
     "name": "#%%\n"
    }
   }
  },
  {
   "cell_type": "markdown",
   "source": [
    "Data に Space が含まれていたり Alphabet が小文字になっている。\n",
    "このまま Data 分析を行ってしまうと本来一つの商品である「商品A」の正確な集計がとれないことが予想される。"
   ],
   "metadata": {
    "collapsed": false
   }
  },
  {
   "cell_type": "code",
   "execution_count": 4,
   "outputs": [
    {
     "data": {
      "text/plain": "0     100.0\n1       NaN\n2       NaN\n3    2600.0\n4       NaN\nName: item_price, dtype: float64"
     },
     "execution_count": 4,
     "metadata": {},
     "output_type": "execute_result"
    }
   ],
   "source": [
    "uriage_data['item_price'].head()"
   ],
   "metadata": {
    "collapsed": false,
    "pycharm": {
     "name": "#%%\n"
    }
   }
  },
  {
   "cell_type": "markdown",
   "source": [
    "欠損値「NaN」が確認できる。"
   ],
   "metadata": {
    "collapsed": false,
    "pycharm": {
     "name": "#%% md\n"
    }
   }
  },
  {
   "cell_type": "code",
   "execution_count": 5,
   "outputs": [
    {
     "data": {
      "text/plain": "item_name         商品W   商 品 n   商品E   商品M   商品P   商品S   商品W   商品X  商  品O  \\\npurchase_month                                                             \n201901              0       1     0     0     0     0     0     0      0   \n201902              0       0     0     0     0     0     0     1      0   \n201903              0       0     1     1     1     0     0     0      0   \n201904              1       0     0     0     0     0     0     0      0   \n201905              0       0     0     0     0     1     0     0      0   \n201906              0       0     0     0     0     0     1     0      0   \n201907              0       0     0     0     0     0     0     0      1   \n\nitem_name       商  品Q  ...  商品k  商品l  商品o  商品p  商品r  商品s  商品t  商品v  商品x  商品y  \npurchase_month         ...                                                    \n201901              0  ...    1    1    1    0    0    0    0    0    0    0  \n201902              0  ...    0    0    0    0    0    1    1    1    0    0  \n201903              0  ...    0    0    0    0    0    0    0    0    0    0  \n201904              1  ...    0    0    0    0    0    1    0    0    0    0  \n201905              0  ...    0    1    0    0    0    0    0    0    0    1  \n201906              0  ...    0    0    0    1    0    0    0    0    1    0  \n201907              0  ...    0    0    1    0    2    0    0    0    0    0  \n\n[7 rows x 99 columns]",
      "text/html": "<div>\n<style scoped>\n    .dataframe tbody tr th:only-of-type {\n        vertical-align: middle;\n    }\n\n    .dataframe tbody tr th {\n        vertical-align: top;\n    }\n\n    .dataframe thead th {\n        text-align: right;\n    }\n</style>\n<table border=\"1\" class=\"dataframe\">\n  <thead>\n    <tr style=\"text-align: right;\">\n      <th>item_name</th>\n      <th>商品W</th>\n      <th>商 品 n</th>\n      <th>商品E</th>\n      <th>商品M</th>\n      <th>商品P</th>\n      <th>商品S</th>\n      <th>商品W</th>\n      <th>商品X</th>\n      <th>商  品O</th>\n      <th>商  品Q</th>\n      <th>...</th>\n      <th>商品k</th>\n      <th>商品l</th>\n      <th>商品o</th>\n      <th>商品p</th>\n      <th>商品r</th>\n      <th>商品s</th>\n      <th>商品t</th>\n      <th>商品v</th>\n      <th>商品x</th>\n      <th>商品y</th>\n    </tr>\n    <tr>\n      <th>purchase_month</th>\n      <th></th>\n      <th></th>\n      <th></th>\n      <th></th>\n      <th></th>\n      <th></th>\n      <th></th>\n      <th></th>\n      <th></th>\n      <th></th>\n      <th></th>\n      <th></th>\n      <th></th>\n      <th></th>\n      <th></th>\n      <th></th>\n      <th></th>\n      <th></th>\n      <th></th>\n      <th></th>\n      <th></th>\n    </tr>\n  </thead>\n  <tbody>\n    <tr>\n      <th>201901</th>\n      <td>0</td>\n      <td>1</td>\n      <td>0</td>\n      <td>0</td>\n      <td>0</td>\n      <td>0</td>\n      <td>0</td>\n      <td>0</td>\n      <td>0</td>\n      <td>0</td>\n      <td>...</td>\n      <td>1</td>\n      <td>1</td>\n      <td>1</td>\n      <td>0</td>\n      <td>0</td>\n      <td>0</td>\n      <td>0</td>\n      <td>0</td>\n      <td>0</td>\n      <td>0</td>\n    </tr>\n    <tr>\n      <th>201902</th>\n      <td>0</td>\n      <td>0</td>\n      <td>0</td>\n      <td>0</td>\n      <td>0</td>\n      <td>0</td>\n      <td>0</td>\n      <td>1</td>\n      <td>0</td>\n      <td>0</td>\n      <td>...</td>\n      <td>0</td>\n      <td>0</td>\n      <td>0</td>\n      <td>0</td>\n      <td>0</td>\n      <td>1</td>\n      <td>1</td>\n      <td>1</td>\n      <td>0</td>\n      <td>0</td>\n    </tr>\n    <tr>\n      <th>201903</th>\n      <td>0</td>\n      <td>0</td>\n      <td>1</td>\n      <td>1</td>\n      <td>1</td>\n      <td>0</td>\n      <td>0</td>\n      <td>0</td>\n      <td>0</td>\n      <td>0</td>\n      <td>...</td>\n      <td>0</td>\n      <td>0</td>\n      <td>0</td>\n      <td>0</td>\n      <td>0</td>\n      <td>0</td>\n      <td>0</td>\n      <td>0</td>\n      <td>0</td>\n      <td>0</td>\n    </tr>\n    <tr>\n      <th>201904</th>\n      <td>1</td>\n      <td>0</td>\n      <td>0</td>\n      <td>0</td>\n      <td>0</td>\n      <td>0</td>\n      <td>0</td>\n      <td>0</td>\n      <td>0</td>\n      <td>1</td>\n      <td>...</td>\n      <td>0</td>\n      <td>0</td>\n      <td>0</td>\n      <td>0</td>\n      <td>0</td>\n      <td>1</td>\n      <td>0</td>\n      <td>0</td>\n      <td>0</td>\n      <td>0</td>\n    </tr>\n    <tr>\n      <th>201905</th>\n      <td>0</td>\n      <td>0</td>\n      <td>0</td>\n      <td>0</td>\n      <td>0</td>\n      <td>1</td>\n      <td>0</td>\n      <td>0</td>\n      <td>0</td>\n      <td>0</td>\n      <td>...</td>\n      <td>0</td>\n      <td>1</td>\n      <td>0</td>\n      <td>0</td>\n      <td>0</td>\n      <td>0</td>\n      <td>0</td>\n      <td>0</td>\n      <td>0</td>\n      <td>1</td>\n    </tr>\n    <tr>\n      <th>201906</th>\n      <td>0</td>\n      <td>0</td>\n      <td>0</td>\n      <td>0</td>\n      <td>0</td>\n      <td>0</td>\n      <td>1</td>\n      <td>0</td>\n      <td>0</td>\n      <td>0</td>\n      <td>...</td>\n      <td>0</td>\n      <td>0</td>\n      <td>0</td>\n      <td>1</td>\n      <td>0</td>\n      <td>0</td>\n      <td>0</td>\n      <td>0</td>\n      <td>1</td>\n      <td>0</td>\n    </tr>\n    <tr>\n      <th>201907</th>\n      <td>0</td>\n      <td>0</td>\n      <td>0</td>\n      <td>0</td>\n      <td>0</td>\n      <td>0</td>\n      <td>0</td>\n      <td>0</td>\n      <td>1</td>\n      <td>0</td>\n      <td>...</td>\n      <td>0</td>\n      <td>0</td>\n      <td>1</td>\n      <td>0</td>\n      <td>2</td>\n      <td>0</td>\n      <td>0</td>\n      <td>0</td>\n      <td>0</td>\n      <td>0</td>\n    </tr>\n  </tbody>\n</table>\n<p>7 rows × 99 columns</p>\n</div>"
     },
     "execution_count": 5,
     "metadata": {},
     "output_type": "execute_result"
    }
   ],
   "source": [
    "uriage_data['purchase_date'] = pd.to_datetime(uriage_data['purchase_date'])\n",
    "uriage_data['purchase_month'] = uriage_data['purchase_date'].dt.strftime('%Y%m')\n",
    "res = uriage_data.pivot_table(index='purchase_month', columns='item_name', aggfunc='size', fill_value=0)\n",
    "res"
   ],
   "metadata": {
    "collapsed": false,
    "pycharm": {
     "name": "#%%\n"
    }
   }
  },
  {
   "cell_type": "markdown",
   "source": [
    "Data の揺れにより下記事項が起こっていることが確認できる。\n",
    "- 商品S や 商品s 等、本来同じ商品が別の商品として集計されている。\n",
    "- 本来26個の商品が99個商品に増えてしまっている。"
   ],
   "metadata": {
    "collapsed": false,
    "pycharm": {
     "name": "#%% md\n"
    }
   }
  },
  {
   "cell_type": "code",
   "execution_count": 7,
   "outputs": [
    {
     "data": {
      "text/plain": "item_name         商品W   商 品 n   商品E   商品M   商品P   商品S   商品W   商品X  商  品O  \\\npurchase_month                                                             \n201901              0    1400     0     0     0     0     0     0      0   \n201902              0       0     0     0     0     0     0  2400      0   \n201903              0       0   500  1300  1600     0     0     0      0   \n201904           2300       0     0     0     0     0     0     0      0   \n201905              0       0     0     0     0  1900     0     0      0   \n201906              0       0     0     0     0     0  2300     0      0   \n201907              0       0     0     0     0     0     0     0      0   \n\nitem_name       商  品Q  ...   商品k   商品l   商品o   商品p   商品r   商品s   商品t   商品v  \\\npurchase_month         ...                                                   \n201901              0  ...  1100  1200  1500     0     0     0     0     0   \n201902              0  ...     0     0     0     0     0  1900  2000  2200   \n201903              0  ...     0     0     0     0     0     0     0     0   \n201904           1700  ...     0     0     0     0     0  1900     0     0   \n201905              0  ...     0  1200     0     0     0     0     0     0   \n201906              0  ...     0     0     0  1600     0     0     0     0   \n201907              0  ...     0     0  1500     0  1800     0     0     0   \n\nitem_name        商品x   商品y  \npurchase_month              \n201901             0     0  \n201902             0     0  \n201903             0     0  \n201904             0     0  \n201905             0  2500  \n201906          2400     0  \n201907             0     0  \n\n[7 rows x 99 columns]",
      "text/html": "<div>\n<style scoped>\n    .dataframe tbody tr th:only-of-type {\n        vertical-align: middle;\n    }\n\n    .dataframe tbody tr th {\n        vertical-align: top;\n    }\n\n    .dataframe thead th {\n        text-align: right;\n    }\n</style>\n<table border=\"1\" class=\"dataframe\">\n  <thead>\n    <tr style=\"text-align: right;\">\n      <th>item_name</th>\n      <th>商品W</th>\n      <th>商 品 n</th>\n      <th>商品E</th>\n      <th>商品M</th>\n      <th>商品P</th>\n      <th>商品S</th>\n      <th>商品W</th>\n      <th>商品X</th>\n      <th>商  品O</th>\n      <th>商  品Q</th>\n      <th>...</th>\n      <th>商品k</th>\n      <th>商品l</th>\n      <th>商品o</th>\n      <th>商品p</th>\n      <th>商品r</th>\n      <th>商品s</th>\n      <th>商品t</th>\n      <th>商品v</th>\n      <th>商品x</th>\n      <th>商品y</th>\n    </tr>\n    <tr>\n      <th>purchase_month</th>\n      <th></th>\n      <th></th>\n      <th></th>\n      <th></th>\n      <th></th>\n      <th></th>\n      <th></th>\n      <th></th>\n      <th></th>\n      <th></th>\n      <th></th>\n      <th></th>\n      <th></th>\n      <th></th>\n      <th></th>\n      <th></th>\n      <th></th>\n      <th></th>\n      <th></th>\n      <th></th>\n      <th></th>\n    </tr>\n  </thead>\n  <tbody>\n    <tr>\n      <th>201901</th>\n      <td>0</td>\n      <td>1400</td>\n      <td>0</td>\n      <td>0</td>\n      <td>0</td>\n      <td>0</td>\n      <td>0</td>\n      <td>0</td>\n      <td>0</td>\n      <td>0</td>\n      <td>...</td>\n      <td>1100</td>\n      <td>1200</td>\n      <td>1500</td>\n      <td>0</td>\n      <td>0</td>\n      <td>0</td>\n      <td>0</td>\n      <td>0</td>\n      <td>0</td>\n      <td>0</td>\n    </tr>\n    <tr>\n      <th>201902</th>\n      <td>0</td>\n      <td>0</td>\n      <td>0</td>\n      <td>0</td>\n      <td>0</td>\n      <td>0</td>\n      <td>0</td>\n      <td>2400</td>\n      <td>0</td>\n      <td>0</td>\n      <td>...</td>\n      <td>0</td>\n      <td>0</td>\n      <td>0</td>\n      <td>0</td>\n      <td>0</td>\n      <td>1900</td>\n      <td>2000</td>\n      <td>2200</td>\n      <td>0</td>\n      <td>0</td>\n    </tr>\n    <tr>\n      <th>201903</th>\n      <td>0</td>\n      <td>0</td>\n      <td>500</td>\n      <td>1300</td>\n      <td>1600</td>\n      <td>0</td>\n      <td>0</td>\n      <td>0</td>\n      <td>0</td>\n      <td>0</td>\n      <td>...</td>\n      <td>0</td>\n      <td>0</td>\n      <td>0</td>\n      <td>0</td>\n      <td>0</td>\n      <td>0</td>\n      <td>0</td>\n      <td>0</td>\n      <td>0</td>\n      <td>0</td>\n    </tr>\n    <tr>\n      <th>201904</th>\n      <td>2300</td>\n      <td>0</td>\n      <td>0</td>\n      <td>0</td>\n      <td>0</td>\n      <td>0</td>\n      <td>0</td>\n      <td>0</td>\n      <td>0</td>\n      <td>1700</td>\n      <td>...</td>\n      <td>0</td>\n      <td>0</td>\n      <td>0</td>\n      <td>0</td>\n      <td>0</td>\n      <td>1900</td>\n      <td>0</td>\n      <td>0</td>\n      <td>0</td>\n      <td>0</td>\n    </tr>\n    <tr>\n      <th>201905</th>\n      <td>0</td>\n      <td>0</td>\n      <td>0</td>\n      <td>0</td>\n      <td>0</td>\n      <td>1900</td>\n      <td>0</td>\n      <td>0</td>\n      <td>0</td>\n      <td>0</td>\n      <td>...</td>\n      <td>0</td>\n      <td>1200</td>\n      <td>0</td>\n      <td>0</td>\n      <td>0</td>\n      <td>0</td>\n      <td>0</td>\n      <td>0</td>\n      <td>0</td>\n      <td>2500</td>\n    </tr>\n    <tr>\n      <th>201906</th>\n      <td>0</td>\n      <td>0</td>\n      <td>0</td>\n      <td>0</td>\n      <td>0</td>\n      <td>0</td>\n      <td>2300</td>\n      <td>0</td>\n      <td>0</td>\n      <td>0</td>\n      <td>...</td>\n      <td>0</td>\n      <td>0</td>\n      <td>0</td>\n      <td>1600</td>\n      <td>0</td>\n      <td>0</td>\n      <td>0</td>\n      <td>0</td>\n      <td>2400</td>\n      <td>0</td>\n    </tr>\n    <tr>\n      <th>201907</th>\n      <td>0</td>\n      <td>0</td>\n      <td>0</td>\n      <td>0</td>\n      <td>0</td>\n      <td>0</td>\n      <td>0</td>\n      <td>0</td>\n      <td>0</td>\n      <td>0</td>\n      <td>...</td>\n      <td>0</td>\n      <td>0</td>\n      <td>1500</td>\n      <td>0</td>\n      <td>1800</td>\n      <td>0</td>\n      <td>0</td>\n      <td>0</td>\n      <td>0</td>\n      <td>0</td>\n    </tr>\n  </tbody>\n</table>\n<p>7 rows × 99 columns</p>\n</div>"
     },
     "execution_count": 7,
     "metadata": {},
     "output_type": "execute_result"
    }
   ],
   "source": [
    "res = uriage_data.pivot_table(index='purchase_month', columns='item_name', values='item_price', aggfunc='sum', fill_value=0)\n",
    "res"
   ],
   "metadata": {
    "collapsed": false,
    "pycharm": {
     "name": "#%%\n"
    }
   }
  },
  {
   "cell_type": "markdown",
   "source": [
    "item_price も Data の揺れにより正しい集計結果になっていないことを確認。\n"
   ],
   "metadata": {
    "collapsed": false,
    "pycharm": {
     "name": "#%% md\n"
    }
   }
  }
 ],
 "metadata": {
  "kernelspec": {
   "display_name": "Python 3",
   "language": "python",
   "name": "python3"
  },
  "language_info": {
   "codemirror_mode": {
    "name": "ipython",
    "version": 2
   },
   "file_extension": ".py",
   "mimetype": "text/x-python",
   "name": "python",
   "nbconvert_exporter": "python",
   "pygments_lexer": "ipython2",
   "version": "2.7.6"
  }
 },
 "nbformat": 4,
 "nbformat_minor": 0
}