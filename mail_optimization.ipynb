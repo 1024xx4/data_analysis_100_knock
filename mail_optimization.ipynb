{
 "cells": [
  {
   "cell_type": "markdown",
   "metadata": {
    "collapsed": true,
    "pycharm": {
     "name": "#%% md\n"
    }
   },
   "source": [
    "# 郵送最適化\n",
    "- 実際の物流 Data から Network 構造を可視化する方法。\n",
    "- 最適な物流計画を立案する"
   ]
  },
  {
   "cell_type": "code",
   "execution_count": 1,
   "metadata": {
    "pycharm": {
     "name": "#%%\n"
    }
   },
   "outputs": [
    {
     "data": {
      "text/plain": "        FCName  FCDemand FCRegion\nFCID                             \nFC00001   東京工場        28       関東\nFC00002  木更津工場        29       関東\nFC00003   多摩工場        31       関東\nFC00004  横須賀工場        25       関東\nFC00005   仙台工場        21       東北\nFC00006   山形工場        30       東北\nFC00007   那須工場        25       東北\nFC00008   青森工場        16       東北",
      "text/html": "<div>\n<style scoped>\n    .dataframe tbody tr th:only-of-type {\n        vertical-align: middle;\n    }\n\n    .dataframe tbody tr th {\n        vertical-align: top;\n    }\n\n    .dataframe thead th {\n        text-align: right;\n    }\n</style>\n<table border=\"1\" class=\"dataframe\">\n  <thead>\n    <tr style=\"text-align: right;\">\n      <th></th>\n      <th>FCName</th>\n      <th>FCDemand</th>\n      <th>FCRegion</th>\n    </tr>\n    <tr>\n      <th>FCID</th>\n      <th></th>\n      <th></th>\n      <th></th>\n    </tr>\n  </thead>\n  <tbody>\n    <tr>\n      <th>FC00001</th>\n      <td>東京工場</td>\n      <td>28</td>\n      <td>関東</td>\n    </tr>\n    <tr>\n      <th>FC00002</th>\n      <td>木更津工場</td>\n      <td>29</td>\n      <td>関東</td>\n    </tr>\n    <tr>\n      <th>FC00003</th>\n      <td>多摩工場</td>\n      <td>31</td>\n      <td>関東</td>\n    </tr>\n    <tr>\n      <th>FC00004</th>\n      <td>横須賀工場</td>\n      <td>25</td>\n      <td>関東</td>\n    </tr>\n    <tr>\n      <th>FC00005</th>\n      <td>仙台工場</td>\n      <td>21</td>\n      <td>東北</td>\n    </tr>\n    <tr>\n      <th>FC00006</th>\n      <td>山形工場</td>\n      <td>30</td>\n      <td>東北</td>\n    </tr>\n    <tr>\n      <th>FC00007</th>\n      <td>那須工場</td>\n      <td>25</td>\n      <td>東北</td>\n    </tr>\n    <tr>\n      <th>FC00008</th>\n      <td>青森工場</td>\n      <td>16</td>\n      <td>東北</td>\n    </tr>\n  </tbody>\n</table>\n</div>"
     },
     "execution_count": 1,
     "metadata": {},
     "output_type": "execute_result"
    }
   ],
   "source": [
    "import pandas as pd\n",
    "\n",
    "# 生産工場の Data\n",
    "factories = pd.read_csv('sample_code/chapter_6/tbl_factory.csv', index_col=0)\n",
    "factories"
   ]
  },
  {
   "cell_type": "code",
   "execution_count": 2,
   "metadata": {
    "pycharm": {
     "name": "#%%\n"
    }
   },
   "outputs": [
    {
     "data": {
      "text/plain": "        WHName  WHSupply WHRegion\nWHID                             \nWH00001   杉並倉庫        35       関東\nWH00002   品川倉庫        41       関東\nWH00003   豊洲倉庫        42       関東\nWH00004   郡山倉庫        60       東北\nWH00005   仙台倉庫        72       東北\nWH00006   山形倉庫        65       東北",
      "text/html": "<div>\n<style scoped>\n    .dataframe tbody tr th:only-of-type {\n        vertical-align: middle;\n    }\n\n    .dataframe tbody tr th {\n        vertical-align: top;\n    }\n\n    .dataframe thead th {\n        text-align: right;\n    }\n</style>\n<table border=\"1\" class=\"dataframe\">\n  <thead>\n    <tr style=\"text-align: right;\">\n      <th></th>\n      <th>WHName</th>\n      <th>WHSupply</th>\n      <th>WHRegion</th>\n    </tr>\n    <tr>\n      <th>WHID</th>\n      <th></th>\n      <th></th>\n      <th></th>\n    </tr>\n  </thead>\n  <tbody>\n    <tr>\n      <th>WH00001</th>\n      <td>杉並倉庫</td>\n      <td>35</td>\n      <td>関東</td>\n    </tr>\n    <tr>\n      <th>WH00002</th>\n      <td>品川倉庫</td>\n      <td>41</td>\n      <td>関東</td>\n    </tr>\n    <tr>\n      <th>WH00003</th>\n      <td>豊洲倉庫</td>\n      <td>42</td>\n      <td>関東</td>\n    </tr>\n    <tr>\n      <th>WH00004</th>\n      <td>郡山倉庫</td>\n      <td>60</td>\n      <td>東北</td>\n    </tr>\n    <tr>\n      <th>WH00005</th>\n      <td>仙台倉庫</td>\n      <td>72</td>\n      <td>東北</td>\n    </tr>\n    <tr>\n      <th>WH00006</th>\n      <td>山形倉庫</td>\n      <td>65</td>\n      <td>東北</td>\n    </tr>\n  </tbody>\n</table>\n</div>"
     },
     "execution_count": 2,
     "metadata": {},
     "output_type": "execute_result"
    }
   ],
   "source": [
    "# 倉庫の Data\n",
    "warehouses = pd.read_csv('sample_code/chapter_6/tbl_warehouse.csv', index_col=0)\n",
    "warehouses"
   ]
  },
  {
   "cell_type": "code",
   "execution_count": 3,
   "metadata": {
    "pycharm": {
     "name": "#%%\n"
    }
   },
   "outputs": [
    {
     "data": {
      "text/plain": "            FCID     WHID  Cost\nRCostID                        \n1        FC00001  WH00001   0.4\n2        FC00001  WH00002   0.8\n3        FC00001  WH00003   1.5\n4        FC00002  WH00001   0.9\n5        FC00002  WH00002   0.8",
      "text/html": "<div>\n<style scoped>\n    .dataframe tbody tr th:only-of-type {\n        vertical-align: middle;\n    }\n\n    .dataframe tbody tr th {\n        vertical-align: top;\n    }\n\n    .dataframe thead th {\n        text-align: right;\n    }\n</style>\n<table border=\"1\" class=\"dataframe\">\n  <thead>\n    <tr style=\"text-align: right;\">\n      <th></th>\n      <th>FCID</th>\n      <th>WHID</th>\n      <th>Cost</th>\n    </tr>\n    <tr>\n      <th>RCostID</th>\n      <th></th>\n      <th></th>\n      <th></th>\n    </tr>\n  </thead>\n  <tbody>\n    <tr>\n      <th>1</th>\n      <td>FC00001</td>\n      <td>WH00001</td>\n      <td>0.4</td>\n    </tr>\n    <tr>\n      <th>2</th>\n      <td>FC00001</td>\n      <td>WH00002</td>\n      <td>0.8</td>\n    </tr>\n    <tr>\n      <th>3</th>\n      <td>FC00001</td>\n      <td>WH00003</td>\n      <td>1.5</td>\n    </tr>\n    <tr>\n      <th>4</th>\n      <td>FC00002</td>\n      <td>WH00001</td>\n      <td>0.9</td>\n    </tr>\n    <tr>\n      <th>5</th>\n      <td>FC00002</td>\n      <td>WH00002</td>\n      <td>0.8</td>\n    </tr>\n  </tbody>\n</table>\n</div>"
     },
     "execution_count": 3,
     "metadata": {},
     "output_type": "execute_result"
    }
   ],
   "source": [
    "# 倉庫と工場間の輸送 Cost\n",
    "cost = pd.read_csv('sample_code/chapter_6/rel_cost.csv', index_col=0)\n",
    "cost.head()"
   ]
  },
  {
   "cell_type": "code",
   "execution_count": 4,
   "metadata": {
    "pycharm": {
     "name": "#%%\n"
    }
   },
   "outputs": [
    {
     "data": {
      "text/plain": "          TransactionDate     ToFC   FromWH  Quantity\nTRID                                                 \n0     2019-01-01 02:11:10  FC00004  WH00003        33\n1     2019-01-01 06:12:42  FC00007  WH00006        19\n2     2019-01-01 06:32:32  FC00006  WH00004        31\n3     2019-01-01 07:17:06  FC00002  WH00003        18\n4     2019-01-01 07:52:18  FC00001  WH00002        30",
      "text/html": "<div>\n<style scoped>\n    .dataframe tbody tr th:only-of-type {\n        vertical-align: middle;\n    }\n\n    .dataframe tbody tr th {\n        vertical-align: top;\n    }\n\n    .dataframe thead th {\n        text-align: right;\n    }\n</style>\n<table border=\"1\" class=\"dataframe\">\n  <thead>\n    <tr style=\"text-align: right;\">\n      <th></th>\n      <th>TransactionDate</th>\n      <th>ToFC</th>\n      <th>FromWH</th>\n      <th>Quantity</th>\n    </tr>\n    <tr>\n      <th>TRID</th>\n      <th></th>\n      <th></th>\n      <th></th>\n      <th></th>\n    </tr>\n  </thead>\n  <tbody>\n    <tr>\n      <th>0</th>\n      <td>2019-01-01 02:11:10</td>\n      <td>FC00004</td>\n      <td>WH00003</td>\n      <td>33</td>\n    </tr>\n    <tr>\n      <th>1</th>\n      <td>2019-01-01 06:12:42</td>\n      <td>FC00007</td>\n      <td>WH00006</td>\n      <td>19</td>\n    </tr>\n    <tr>\n      <th>2</th>\n      <td>2019-01-01 06:32:32</td>\n      <td>FC00006</td>\n      <td>WH00004</td>\n      <td>31</td>\n    </tr>\n    <tr>\n      <th>3</th>\n      <td>2019-01-01 07:17:06</td>\n      <td>FC00002</td>\n      <td>WH00003</td>\n      <td>18</td>\n    </tr>\n    <tr>\n      <th>4</th>\n      <td>2019-01-01 07:52:18</td>\n      <td>FC00001</td>\n      <td>WH00002</td>\n      <td>30</td>\n    </tr>\n  </tbody>\n</table>\n</div>"
     },
     "execution_count": 4,
     "metadata": {},
     "output_type": "execute_result"
    }
   ],
   "source": [
    "# 2019年の工場への部品輸送実績\n",
    "trans = pd.read_csv('sample_code/chapter_6/tbl_transaction.csv', index_col=0)\n",
    "trans.head()"
   ]
  },
  {
   "cell_type": "markdown",
   "metadata": {
    "pycharm": {
     "name": "#%% md\n"
    }
   },
   "source": [
    "### 工場 & 倉庫 Data\n",
    "- 工場 Data(factories)の「FCID」\n",
    "- 倉庫 Data(warehouses)の「WHID」\n",
    "\n",
    "は、Cost data と輸送実績(trans) data にも登場しているので Key と判断する。\n",
    "\n",
    "### Cost data\n",
    "工場 Data と倉庫 Data の組み合わせ毎の Cost が管理されている。\n",
    "\n",
    "### 輸送実績 Data\n",
    "- 実際の輸送日時(TransactionDate)\n",
    "- 輸送先工場(ToFC)\n",
    "- 輸送元倉庫(FromWH)\n",
    "- 輸送個数(Quantity)\n",
    "\n",
    "が Log として保持されている。\n",
    "\n",
    "Data 分析の基礎となるべき Data は輸送実績(trans)と判断し、主体として各 Data を結合(Left join)していく。"
   ]
  },
  {
   "cell_type": "code",
   "execution_count": 5,
   "metadata": {
    "pycharm": {
     "name": "#%%\n"
    }
   },
   "outputs": [
    {
     "data": {
      "text/plain": "       TransactionDate     ToFC   FromWH  Quantity     FCID     WHID  Cost\n0  2019-01-01 02:11:10  FC00004  WH00003        33  FC00004  WH00003   1.1\n1  2019-01-01 06:12:42  FC00007  WH00006        19  FC00007  WH00006   1.3\n2  2019-01-01 06:32:32  FC00006  WH00004        31  FC00006  WH00004   0.9\n3  2019-01-01 07:17:06  FC00002  WH00003        18  FC00002  WH00003   1.6\n4  2019-01-01 07:52:18  FC00001  WH00002        30  FC00001  WH00002   0.8",
      "text/html": "<div>\n<style scoped>\n    .dataframe tbody tr th:only-of-type {\n        vertical-align: middle;\n    }\n\n    .dataframe tbody tr th {\n        vertical-align: top;\n    }\n\n    .dataframe thead th {\n        text-align: right;\n    }\n</style>\n<table border=\"1\" class=\"dataframe\">\n  <thead>\n    <tr style=\"text-align: right;\">\n      <th></th>\n      <th>TransactionDate</th>\n      <th>ToFC</th>\n      <th>FromWH</th>\n      <th>Quantity</th>\n      <th>FCID</th>\n      <th>WHID</th>\n      <th>Cost</th>\n    </tr>\n  </thead>\n  <tbody>\n    <tr>\n      <th>0</th>\n      <td>2019-01-01 02:11:10</td>\n      <td>FC00004</td>\n      <td>WH00003</td>\n      <td>33</td>\n      <td>FC00004</td>\n      <td>WH00003</td>\n      <td>1.1</td>\n    </tr>\n    <tr>\n      <th>1</th>\n      <td>2019-01-01 06:12:42</td>\n      <td>FC00007</td>\n      <td>WH00006</td>\n      <td>19</td>\n      <td>FC00007</td>\n      <td>WH00006</td>\n      <td>1.3</td>\n    </tr>\n    <tr>\n      <th>2</th>\n      <td>2019-01-01 06:32:32</td>\n      <td>FC00006</td>\n      <td>WH00004</td>\n      <td>31</td>\n      <td>FC00006</td>\n      <td>WH00004</td>\n      <td>0.9</td>\n    </tr>\n    <tr>\n      <th>3</th>\n      <td>2019-01-01 07:17:06</td>\n      <td>FC00002</td>\n      <td>WH00003</td>\n      <td>18</td>\n      <td>FC00002</td>\n      <td>WH00003</td>\n      <td>1.6</td>\n    </tr>\n    <tr>\n      <th>4</th>\n      <td>2019-01-01 07:52:18</td>\n      <td>FC00001</td>\n      <td>WH00002</td>\n      <td>30</td>\n      <td>FC00001</td>\n      <td>WH00002</td>\n      <td>0.8</td>\n    </tr>\n  </tbody>\n</table>\n</div>"
     },
     "execution_count": 5,
     "metadata": {},
     "output_type": "execute_result"
    }
   ],
   "source": [
    "# trans data を主に cost data を結合\n",
    "join_data = pd.merge(trans, cost, left_on=['ToFC', 'FromWH'], right_on=['FCID', 'WHID'], how='left')\n",
    "join_data.head()"
   ]
  },
  {
   "cell_type": "code",
   "execution_count": 6,
   "metadata": {
    "pycharm": {
     "name": "#%%\n"
    }
   },
   "outputs": [
    {
     "data": {
      "text/plain": "       TransactionDate     ToFC   FromWH  Quantity     FCID     WHID  Cost  \\\n0  2019-01-01 02:11:10  FC00004  WH00003        33  FC00004  WH00003   1.1   \n1  2019-01-01 06:12:42  FC00007  WH00006        19  FC00007  WH00006   1.3   \n2  2019-01-01 06:32:32  FC00006  WH00004        31  FC00006  WH00004   0.9   \n3  2019-01-01 07:17:06  FC00002  WH00003        18  FC00002  WH00003   1.6   \n4  2019-01-01 07:52:18  FC00001  WH00002        30  FC00001  WH00002   0.8   \n\n  FCName  FCDemand FCRegion  \n0  横須賀工場        25       関東  \n1   那須工場        25       東北  \n2   山形工場        30       東北  \n3  木更津工場        29       関東  \n4   東京工場        28       関東  ",
      "text/html": "<div>\n<style scoped>\n    .dataframe tbody tr th:only-of-type {\n        vertical-align: middle;\n    }\n\n    .dataframe tbody tr th {\n        vertical-align: top;\n    }\n\n    .dataframe thead th {\n        text-align: right;\n    }\n</style>\n<table border=\"1\" class=\"dataframe\">\n  <thead>\n    <tr style=\"text-align: right;\">\n      <th></th>\n      <th>TransactionDate</th>\n      <th>ToFC</th>\n      <th>FromWH</th>\n      <th>Quantity</th>\n      <th>FCID</th>\n      <th>WHID</th>\n      <th>Cost</th>\n      <th>FCName</th>\n      <th>FCDemand</th>\n      <th>FCRegion</th>\n    </tr>\n  </thead>\n  <tbody>\n    <tr>\n      <th>0</th>\n      <td>2019-01-01 02:11:10</td>\n      <td>FC00004</td>\n      <td>WH00003</td>\n      <td>33</td>\n      <td>FC00004</td>\n      <td>WH00003</td>\n      <td>1.1</td>\n      <td>横須賀工場</td>\n      <td>25</td>\n      <td>関東</td>\n    </tr>\n    <tr>\n      <th>1</th>\n      <td>2019-01-01 06:12:42</td>\n      <td>FC00007</td>\n      <td>WH00006</td>\n      <td>19</td>\n      <td>FC00007</td>\n      <td>WH00006</td>\n      <td>1.3</td>\n      <td>那須工場</td>\n      <td>25</td>\n      <td>東北</td>\n    </tr>\n    <tr>\n      <th>2</th>\n      <td>2019-01-01 06:32:32</td>\n      <td>FC00006</td>\n      <td>WH00004</td>\n      <td>31</td>\n      <td>FC00006</td>\n      <td>WH00004</td>\n      <td>0.9</td>\n      <td>山形工場</td>\n      <td>30</td>\n      <td>東北</td>\n    </tr>\n    <tr>\n      <th>3</th>\n      <td>2019-01-01 07:17:06</td>\n      <td>FC00002</td>\n      <td>WH00003</td>\n      <td>18</td>\n      <td>FC00002</td>\n      <td>WH00003</td>\n      <td>1.6</td>\n      <td>木更津工場</td>\n      <td>29</td>\n      <td>関東</td>\n    </tr>\n    <tr>\n      <th>4</th>\n      <td>2019-01-01 07:52:18</td>\n      <td>FC00001</td>\n      <td>WH00002</td>\n      <td>30</td>\n      <td>FC00001</td>\n      <td>WH00002</td>\n      <td>0.8</td>\n      <td>東京工場</td>\n      <td>28</td>\n      <td>関東</td>\n    </tr>\n  </tbody>\n</table>\n</div>"
     },
     "execution_count": 6,
     "metadata": {},
     "output_type": "execute_result"
    }
   ],
   "source": [
    "# factories data を 結合\n",
    "join_data = pd.merge(join_data, factories, left_on='ToFC', right_on='FCID', how='left')\n",
    "join_data.head()"
   ]
  },
  {
   "cell_type": "code",
   "execution_count": 7,
   "metadata": {
    "pycharm": {
     "name": "#%%\n"
    }
   },
   "outputs": [
    {
     "data": {
      "text/plain": "       TransactionDate  Quantity  Cost     ToFC FCName  FCDemand   FromWH  \\\n0  2019-01-01 02:11:10        33   1.1  FC00004  横須賀工場        25  WH00003   \n1  2019-01-01 06:12:42        19   1.3  FC00007   那須工場        25  WH00006   \n2  2019-01-01 06:32:32        31   0.9  FC00006   山形工場        30  WH00004   \n3  2019-01-01 07:17:06        18   1.6  FC00002  木更津工場        29  WH00003   \n4  2019-01-01 07:52:18        30   0.8  FC00001   東京工場        28  WH00002   \n\n  WHName  WHSupply WHRegion  \n0   豊洲倉庫        42       関東  \n1   山形倉庫        65       東北  \n2   郡山倉庫        60       東北  \n3   豊洲倉庫        42       関東  \n4   品川倉庫        41       関東  ",
      "text/html": "<div>\n<style scoped>\n    .dataframe tbody tr th:only-of-type {\n        vertical-align: middle;\n    }\n\n    .dataframe tbody tr th {\n        vertical-align: top;\n    }\n\n    .dataframe thead th {\n        text-align: right;\n    }\n</style>\n<table border=\"1\" class=\"dataframe\">\n  <thead>\n    <tr style=\"text-align: right;\">\n      <th></th>\n      <th>TransactionDate</th>\n      <th>Quantity</th>\n      <th>Cost</th>\n      <th>ToFC</th>\n      <th>FCName</th>\n      <th>FCDemand</th>\n      <th>FromWH</th>\n      <th>WHName</th>\n      <th>WHSupply</th>\n      <th>WHRegion</th>\n    </tr>\n  </thead>\n  <tbody>\n    <tr>\n      <th>0</th>\n      <td>2019-01-01 02:11:10</td>\n      <td>33</td>\n      <td>1.1</td>\n      <td>FC00004</td>\n      <td>横須賀工場</td>\n      <td>25</td>\n      <td>WH00003</td>\n      <td>豊洲倉庫</td>\n      <td>42</td>\n      <td>関東</td>\n    </tr>\n    <tr>\n      <th>1</th>\n      <td>2019-01-01 06:12:42</td>\n      <td>19</td>\n      <td>1.3</td>\n      <td>FC00007</td>\n      <td>那須工場</td>\n      <td>25</td>\n      <td>WH00006</td>\n      <td>山形倉庫</td>\n      <td>65</td>\n      <td>東北</td>\n    </tr>\n    <tr>\n      <th>2</th>\n      <td>2019-01-01 06:32:32</td>\n      <td>31</td>\n      <td>0.9</td>\n      <td>FC00006</td>\n      <td>山形工場</td>\n      <td>30</td>\n      <td>WH00004</td>\n      <td>郡山倉庫</td>\n      <td>60</td>\n      <td>東北</td>\n    </tr>\n    <tr>\n      <th>3</th>\n      <td>2019-01-01 07:17:06</td>\n      <td>18</td>\n      <td>1.6</td>\n      <td>FC00002</td>\n      <td>木更津工場</td>\n      <td>29</td>\n      <td>WH00003</td>\n      <td>豊洲倉庫</td>\n      <td>42</td>\n      <td>関東</td>\n    </tr>\n    <tr>\n      <th>4</th>\n      <td>2019-01-01 07:52:18</td>\n      <td>30</td>\n      <td>0.8</td>\n      <td>FC00001</td>\n      <td>東京工場</td>\n      <td>28</td>\n      <td>WH00002</td>\n      <td>品川倉庫</td>\n      <td>41</td>\n      <td>関東</td>\n    </tr>\n  </tbody>\n</table>\n</div>"
     },
     "execution_count": 7,
     "metadata": {},
     "output_type": "execute_result"
    }
   ],
   "source": [
    "# warehouses data を結合\n",
    "join_data = pd.merge(join_data, warehouses, left_on='FromWH', right_on='WHID', how='left')\n",
    "join_data = join_data[['TransactionDate', 'Quantity', 'Cost', 'ToFC', 'FCName', 'FCDemand', 'FromWH', 'WHName',\n",
    "                       'WHSupply', 'WHRegion']]  # 並びを変更して視認性をあげる\n",
    "join_data.head()"
   ]
  },
  {
   "cell_type": "markdown",
   "metadata": {
    "pycharm": {
     "name": "#%% md\n"
    }
   },
   "source": [
    "関東支社と東北支社の Data を比較する"
   ]
  },
  {
   "cell_type": "code",
   "execution_count": 8,
   "metadata": {
    "pycharm": {
     "name": "#%%\n"
    }
   },
   "outputs": [
    {
     "data": {
      "text/plain": "       TransactionDate  Quantity  Cost     ToFC FCName  FCDemand   FromWH  \\\n0  2019-01-01 02:11:10        33   1.1  FC00004  横須賀工場        25  WH00003   \n3  2019-01-01 07:17:06        18   1.6  FC00002  木更津工場        29  WH00003   \n4  2019-01-01 07:52:18        30   0.8  FC00001   東京工場        28  WH00002   \n7  2019-01-01 09:09:30        12   1.5  FC00001   東京工場        28  WH00003   \n8  2019-01-01 10:52:55        27   1.5  FC00003   多摩工場        31  WH00003   \n\n  WHName  WHSupply WHRegion  \n0   豊洲倉庫        42       関東  \n3   豊洲倉庫        42       関東  \n4   品川倉庫        41       関東  \n7   豊洲倉庫        42       関東  \n8   豊洲倉庫        42       関東  ",
      "text/html": "<div>\n<style scoped>\n    .dataframe tbody tr th:only-of-type {\n        vertical-align: middle;\n    }\n\n    .dataframe tbody tr th {\n        vertical-align: top;\n    }\n\n    .dataframe thead th {\n        text-align: right;\n    }\n</style>\n<table border=\"1\" class=\"dataframe\">\n  <thead>\n    <tr style=\"text-align: right;\">\n      <th></th>\n      <th>TransactionDate</th>\n      <th>Quantity</th>\n      <th>Cost</th>\n      <th>ToFC</th>\n      <th>FCName</th>\n      <th>FCDemand</th>\n      <th>FromWH</th>\n      <th>WHName</th>\n      <th>WHSupply</th>\n      <th>WHRegion</th>\n    </tr>\n  </thead>\n  <tbody>\n    <tr>\n      <th>0</th>\n      <td>2019-01-01 02:11:10</td>\n      <td>33</td>\n      <td>1.1</td>\n      <td>FC00004</td>\n      <td>横須賀工場</td>\n      <td>25</td>\n      <td>WH00003</td>\n      <td>豊洲倉庫</td>\n      <td>42</td>\n      <td>関東</td>\n    </tr>\n    <tr>\n      <th>3</th>\n      <td>2019-01-01 07:17:06</td>\n      <td>18</td>\n      <td>1.6</td>\n      <td>FC00002</td>\n      <td>木更津工場</td>\n      <td>29</td>\n      <td>WH00003</td>\n      <td>豊洲倉庫</td>\n      <td>42</td>\n      <td>関東</td>\n    </tr>\n    <tr>\n      <th>4</th>\n      <td>2019-01-01 07:52:18</td>\n      <td>30</td>\n      <td>0.8</td>\n      <td>FC00001</td>\n      <td>東京工場</td>\n      <td>28</td>\n      <td>WH00002</td>\n      <td>品川倉庫</td>\n      <td>41</td>\n      <td>関東</td>\n    </tr>\n    <tr>\n      <th>7</th>\n      <td>2019-01-01 09:09:30</td>\n      <td>12</td>\n      <td>1.5</td>\n      <td>FC00001</td>\n      <td>東京工場</td>\n      <td>28</td>\n      <td>WH00003</td>\n      <td>豊洲倉庫</td>\n      <td>42</td>\n      <td>関東</td>\n    </tr>\n    <tr>\n      <th>8</th>\n      <td>2019-01-01 10:52:55</td>\n      <td>27</td>\n      <td>1.5</td>\n      <td>FC00003</td>\n      <td>多摩工場</td>\n      <td>31</td>\n      <td>WH00003</td>\n      <td>豊洲倉庫</td>\n      <td>42</td>\n      <td>関東</td>\n    </tr>\n  </tbody>\n</table>\n</div>"
     },
     "execution_count": 8,
     "metadata": {},
     "output_type": "execute_result"
    }
   ],
   "source": [
    "kanto = join_data.loc[join_data['WHRegion'] == '関東']\n",
    "kanto.head()"
   ]
  },
  {
   "cell_type": "code",
   "execution_count": 9,
   "metadata": {
    "pycharm": {
     "name": "#%%\n"
    }
   },
   "outputs": [
    {
     "data": {
      "text/plain": "       TransactionDate  Quantity  Cost     ToFC FCName  FCDemand   FromWH  \\\n1  2019-01-01 06:12:42        19   1.3  FC00007   那須工場        25  WH00006   \n2  2019-01-01 06:32:32        31   0.9  FC00006   山形工場        30  WH00004   \n5  2019-01-01 08:56:09        31   0.3  FC00005   仙台工場        21  WH00005   \n6  2019-01-01 09:00:15        33   0.7  FC00006   山形工場        30  WH00006   \n9  2019-01-01 14:12:51        21   0.7  FC00006   山形工場        30  WH00006   \n\n  WHName  WHSupply WHRegion  \n1   山形倉庫        65       東北  \n2   郡山倉庫        60       東北  \n5   仙台倉庫        72       東北  \n6   山形倉庫        65       東北  \n9   山形倉庫        65       東北  ",
      "text/html": "<div>\n<style scoped>\n    .dataframe tbody tr th:only-of-type {\n        vertical-align: middle;\n    }\n\n    .dataframe tbody tr th {\n        vertical-align: top;\n    }\n\n    .dataframe thead th {\n        text-align: right;\n    }\n</style>\n<table border=\"1\" class=\"dataframe\">\n  <thead>\n    <tr style=\"text-align: right;\">\n      <th></th>\n      <th>TransactionDate</th>\n      <th>Quantity</th>\n      <th>Cost</th>\n      <th>ToFC</th>\n      <th>FCName</th>\n      <th>FCDemand</th>\n      <th>FromWH</th>\n      <th>WHName</th>\n      <th>WHSupply</th>\n      <th>WHRegion</th>\n    </tr>\n  </thead>\n  <tbody>\n    <tr>\n      <th>1</th>\n      <td>2019-01-01 06:12:42</td>\n      <td>19</td>\n      <td>1.3</td>\n      <td>FC00007</td>\n      <td>那須工場</td>\n      <td>25</td>\n      <td>WH00006</td>\n      <td>山形倉庫</td>\n      <td>65</td>\n      <td>東北</td>\n    </tr>\n    <tr>\n      <th>2</th>\n      <td>2019-01-01 06:32:32</td>\n      <td>31</td>\n      <td>0.9</td>\n      <td>FC00006</td>\n      <td>山形工場</td>\n      <td>30</td>\n      <td>WH00004</td>\n      <td>郡山倉庫</td>\n      <td>60</td>\n      <td>東北</td>\n    </tr>\n    <tr>\n      <th>5</th>\n      <td>2019-01-01 08:56:09</td>\n      <td>31</td>\n      <td>0.3</td>\n      <td>FC00005</td>\n      <td>仙台工場</td>\n      <td>21</td>\n      <td>WH00005</td>\n      <td>仙台倉庫</td>\n      <td>72</td>\n      <td>東北</td>\n    </tr>\n    <tr>\n      <th>6</th>\n      <td>2019-01-01 09:00:15</td>\n      <td>33</td>\n      <td>0.7</td>\n      <td>FC00006</td>\n      <td>山形工場</td>\n      <td>30</td>\n      <td>WH00006</td>\n      <td>山形倉庫</td>\n      <td>65</td>\n      <td>東北</td>\n    </tr>\n    <tr>\n      <th>9</th>\n      <td>2019-01-01 14:12:51</td>\n      <td>21</td>\n      <td>0.7</td>\n      <td>FC00006</td>\n      <td>山形工場</td>\n      <td>30</td>\n      <td>WH00006</td>\n      <td>山形倉庫</td>\n      <td>65</td>\n      <td>東北</td>\n    </tr>\n  </tbody>\n</table>\n</div>"
     },
     "execution_count": 9,
     "metadata": {},
     "output_type": "execute_result"
    }
   ],
   "source": [
    "tohoku = join_data.loc[join_data['WHRegion'] == '東北']\n",
    "tohoku.head()"
   ]
  },
  {
   "cell_type": "markdown",
   "metadata": {
    "pycharm": {
     "name": "#%% md\n"
    }
   },
   "source": [
    "実際の輸送量や掛かっている Cost を確認し、支社間で比較していく。"
   ]
  },
  {
   "cell_type": "code",
   "execution_count": 10,
   "metadata": {
    "pycharm": {
     "name": "#%%\n"
    }
   },
   "outputs": [
    {
     "name": "stdout",
     "output_type": "stream",
     "text": [
      "関東支社の総コスト2189.3万円\n",
      "東北支社の総コスト2062.0万円\n"
     ]
    }
   ],
   "source": [
    "print(f'関東支社の総コスト{str(kanto[\"Cost\"].sum())}万円')\n",
    "print(f'東北支社の総コスト{str(tohoku[\"Cost\"].sum())}万円')"
   ]
  },
  {
   "cell_type": "markdown",
   "metadata": {
    "pycharm": {
     "name": "#%% md\n"
    }
   },
   "source": [
    "関東支社の方が東北支社よりも輸送 Cost の総額が多くかかっていることがわかる。"
   ]
  },
  {
   "cell_type": "code",
   "execution_count": 11,
   "metadata": {
    "pycharm": {
     "name": "#%%\n"
    }
   },
   "outputs": [
    {
     "name": "stdout",
     "output_type": "stream",
     "text": [
      "関東支社の層部品輸送個数: 49146個\n",
      "東北支社の層部品輸送個数: 50214個\n"
     ]
    }
   ],
   "source": [
    "print(f'関東支社の層部品輸送個数: {str(kanto[\"Quantity\"].sum())}個')\n",
    "print(f'東北支社の層部品輸送個数: {str(tohoku[\"Quantity\"].sum())}個')"
   ]
  },
  {
   "cell_type": "markdown",
   "metadata": {
    "pycharm": {
     "name": "#%% md\n"
    }
   },
   "source": [
    "関東支社より東北支社の方が多くの部品を輸送していることがわかる。"
   ]
  },
  {
   "cell_type": "code",
   "execution_count": 12,
   "metadata": {
    "pycharm": {
     "name": "#%%\n"
    }
   },
   "outputs": [
    {
     "name": "stdout",
     "output_type": "stream",
     "text": [
      "関東支社の部品１つ当たりの輸送 Cost: 445円\n",
      "東北支社の部品１つ当たりの輸送 Cost: 410円\n"
     ]
    }
   ],
   "source": [
    "tmp = (kanto['Cost'].sum() / kanto['Quantity'].sum()) * 10_000\n",
    "print(f'関東支社の部品１つ当たりの輸送 Cost: {str(int(tmp))}円')\n",
    "tmp = (tohoku['Cost'].sum() / tohoku['Quantity'].sum()) * 10_000\n",
    "print(f'東北支社の部品１つ当たりの輸送 Cost: {str(int(tmp))}円')"
   ]
  },
  {
   "cell_type": "markdown",
   "metadata": {
    "pycharm": {
     "name": "#%% md\n"
    }
   },
   "source": [
    "当然、東北支社の１つ当たりの輸送 Cost が低い。"
   ]
  },
  {
   "cell_type": "code",
   "execution_count": 13,
   "metadata": {
    "pycharm": {
     "name": "#%%\n"
    }
   },
   "outputs": [
    {
     "name": "stdout",
     "output_type": "stream",
     "text": [
      "東京支社の平均輸送 Cost: 1.075万円\n",
      "東北支社の平均輸送 Cost: 1.05万円\n"
     ]
    }
   ],
   "source": [
    "cost_chk = pd.merge(cost, factories, on='FCID', how='left')\n",
    "print(f'東京支社の平均輸送 Cost: {str(cost_chk[\"Cost\"].loc[cost_chk[\"FCRegion\"] == \"関東\"].mean())}万円')\n",
    "print(f'東北支社の平均輸送 Cost: {str(cost_chk[\"Cost\"].loc[cost_chk[\"FCRegion\"] == \"東北\"].mean())}万円')"
   ]
  },
  {
   "cell_type": "markdown",
   "metadata": {
    "pycharm": {
     "name": "#%% md\n"
    }
   },
   "source": [
    "各支社の平均輸送 Cost はほぼ同じ。\n",
    "集計の結果、東北支社の方が関東支社よりも**効率よく**部品の輸送が行えている。"
   ]
  },
  {
   "cell_type": "code",
   "execution_count": 14,
   "metadata": {
    "pycharm": {
     "name": "#%%\n"
    }
   },
   "outputs": [
    {
     "data": {
      "text/plain": "    F1  F2  F3  F4\n工場                \nW1  15  15   0   5\nW2   5   0  30   5\nW3  10  15   2  15",
      "text/html": "<div>\n<style scoped>\n    .dataframe tbody tr th:only-of-type {\n        vertical-align: middle;\n    }\n\n    .dataframe tbody tr th {\n        vertical-align: top;\n    }\n\n    .dataframe thead th {\n        text-align: right;\n    }\n</style>\n<table border=\"1\" class=\"dataframe\">\n  <thead>\n    <tr style=\"text-align: right;\">\n      <th></th>\n      <th>F1</th>\n      <th>F2</th>\n      <th>F3</th>\n      <th>F4</th>\n    </tr>\n    <tr>\n      <th>工場</th>\n      <th></th>\n      <th></th>\n      <th></th>\n      <th></th>\n    </tr>\n  </thead>\n  <tbody>\n    <tr>\n      <th>W1</th>\n      <td>15</td>\n      <td>15</td>\n      <td>0</td>\n      <td>5</td>\n    </tr>\n    <tr>\n      <th>W2</th>\n      <td>5</td>\n      <td>0</td>\n      <td>30</td>\n      <td>5</td>\n    </tr>\n    <tr>\n      <th>W3</th>\n      <td>10</td>\n      <td>15</td>\n      <td>2</td>\n      <td>15</td>\n    </tr>\n  </tbody>\n</table>\n</div>"
     },
     "execution_count": 14,
     "metadata": {},
     "output_type": "execute_result"
    }
   ],
   "source": [
    "# Data の読み込み\n",
    "df_tr = pd.read_csv('sample_code/chapter_6/trans_route.csv', index_col='工場')\n",
    "df_tr.head()"
   ]
  },
  {
   "cell_type": "markdown",
   "metadata": {
    "pycharm": {
     "name": "#%% md\n"
    }
   },
   "source": [
    "### 施策\n",
    "現状、どの倉庫からどの工場へ、どれだけの量の輸送が行われているのかを記録を確認。\n",
    "\n",
    "### 結果\n",
    "数値だけでは、全体像を想像するのが容易ではない為、Network 可視化を利用して輸送 Route を可視化する。"
   ]
  },
  {
   "cell_type": "code",
   "execution_count": 16,
   "metadata": {
    "pycharm": {
     "name": "#%%\n"
    }
   },
   "outputs": [
    {
     "data": {
      "text/plain": "<Figure size 432x288 with 1 Axes>",
      "image/png": "[encoded data removed]"
     },
     "metadata": {},
     "output_type": "display_data"
    }
   ],
   "source": [
    "import matplotlib.pyplot as plt\n",
    "import networkx as nx\n",
    "\n",
    "# Data の読み込み\n",
    "df_tr = pd.read_csv('sample_code/chapter_6/trans_route.csv', index_col=\"工場\")\n",
    "df_pos = pd.read_csv('sample_code/chapter_6/trans_route_pos.csv')\n",
    "\n",
    "\n",
    "# グラフオブジェクトの作成\n",
    "G = nx.Graph()\n",
    "\n",
    "# 頂点の設定\n",
    "for i in range(len(df_pos.columns)):\n",
    "    G.add_node(df_pos.columns[i])\n",
    "\n",
    "# 辺の設定&エッジの重みのリスト化\n",
    "num_pre = 0\n",
    "edge_weights = []\n",
    "size = 0.1\n",
    "for i in range(len(df_pos.columns)):\n",
    "    for j in range(len(df_pos.columns)):\n",
    "        if not (i==j):\n",
    "            # 辺の追加\n",
    "            G.add_edge(df_pos.columns[i],df_pos.columns[j])\n",
    "            # エッジの重みの追加\n",
    "            if num_pre<len(G.edges):\n",
    "                num_pre = len(G.edges)\n",
    "                weight = 0\n",
    "                if (df_pos.columns[i] in df_tr.columns)and(df_pos.columns[j] in df_tr.index):\n",
    "                    if df_tr[df_pos.columns[i]][df_pos.columns[j]]:\n",
    "                        weight = df_tr[df_pos.columns[i]][df_pos.columns[j]]*size\n",
    "                elif(df_pos.columns[j] in df_tr.columns)and(df_pos.columns[i] in df_tr.index):\n",
    "                    if df_tr[df_pos.columns[j]][df_pos.columns[i]]:\n",
    "                        weight = df_tr[df_pos.columns[j]][df_pos.columns[i]]*size\n",
    "                edge_weights.append(weight)\n",
    "                \n",
    "\n",
    "# 座標の設定\n",
    "pos = {}\n",
    "for i in range(len(df_pos.columns)):\n",
    "    node = df_pos.columns[i]\n",
    "    pos[node] = (df_pos[node][0],df_pos[node][1])\n",
    "    \n",
    "# 描画\n",
    "nx.draw(G, pos, with_labels=True,font_size=16, node_size = 1000, node_color='k', font_color='w', width=edge_weights)\n",
    "\n",
    "# 表示\n",
    "plt.show()"
   ]
  },
  {
   "cell_type": "markdown",
   "source": [
    "どの倉庫からどの工場へも、まんべんなく **link** (輸送 Route)が見える。\n",
    "輸送 Cost を考えると、輸送 Route はある程度集約していった方が、効率が良いと思われる。"
   ],
   "metadata": {
    "collapsed": false,
    "pycharm": {
     "name": "#%% md\n"
    }
   }
  },
  {
   "cell_type": "code",
   "execution_count": null,
   "outputs": [],
   "source": [
    "# Data を読み込み\n",
    "df_tr = pd.read_csv('sample_code/chapter_6/trans_route.csv', index_col='工場')\n",
    "df_tc = pd.read_csv('sample_code/chapter_6/trans_cost.csv', index_col='工場')\n",
    "\n",
    "\n",
    "# 輸送 Cost 関数\n",
    "def trans_cost(df_tr, df_tc):\n",
    "    cost = 0\n",
    "    for i in range(len(df_tc.index)):\n",
    "        for j in range(len(df_tr.columns)):\n",
    "            cost += df_tr.iloc[i][j] * df_tc.iloc[i][j]\n",
    "    return cost\n",
    "\n",
    "\n",
    "print(f'総輸送 Cost: {str(trans_cost(df_tr, df_tc))}')"
   ],
   "metadata": {
    "collapsed": false,
    "pycharm": {
     "name": "#%%\n"
    }
   }
  },
  {
   "cell_type": "code",
   "execution_count": null,
   "outputs": [],
   "source": [
    "# Data の読み込み\n",
    "df_tr = pd.read_csv('sample_code/chapter_6/trans_route.csv', index_col='工場')\n",
    "df_demand = pd.read_csv('sample_code/chapter_6/demand.csv')\n",
    "df_supply = pd.read_csv('sample_code/chapter_6/supply.csv')\n",
    "\n",
    "# 需要側の制約条件\n",
    "for i in range(len(df_demand.columns)):\n",
    "    temp_sum = sum(df_tr[df_demand.columns[i]])\n",
    "    print(f'{str(df_demand.columns[i])}への輸送量: {str(temp_sum)}(需要量: {str(df_demand.iloc[0][i])})')\n",
    "    if temp_sum >= df_demand.iloc[0][i]:\n",
    "        print('需要量を満たしています。')\n",
    "    else:\n",
    "        print('需要量を満たしていません。輸送 Route を再計算して下さい。')\n",
    "\n",
    "# 供給側の制約条件\n",
    "for i in range(len(df_supply.columns)):\n",
    "    temp_sum = sum(df_tr.loc[df_supply.columns[i]])\n",
    "    print(f'{str(df_supply.columns[i])}からの輸送量: {str(temp_sum)}(供給限界: {str(df_supply.iloc[0][i])})')\n",
    "    if temp_sum <= df_supply.iloc[0][i]:\n",
    "        print('供給限界の範囲内です。')\n",
    "    else:\n",
    "        print('供給限界を超過しています。輸送 Route を再計算して下さい。')"
   ],
   "metadata": {
    "collapsed": false,
    "pycharm": {
     "name": "#%%\n"
    }
   }
  },
  {
   "cell_type": "markdown",
   "source": [
    "## 制約条件\n",
    "### 工場で製造される製品の数が需要量を満たすかどうか\n",
    "各工場に運び込まれる部品の数と、各工場に対する需要量を比較することで検討可能。\n",
    "### 倉庫から工場に出荷される部品数が、倉庫の供給限界を超えるかどうか\n",
    "各倉庫から出荷される部品の数と、各倉庫の供給限界とを比較することで検討可能。\n",
    "\n",
    "この制約条件を作っておくことで、輸送 Route を変更した後に、新しい Route が制約条件を満たすかどうか確認できる。"
   ],
   "metadata": {
    "collapsed": false,
    "pycharm": {
     "name": "#%% md\n"
    }
   }
  },
  {
   "cell_type": "code",
   "execution_count": null,
   "outputs": [],
   "source": [
    "import numpy as np\n",
    "\n",
    "# Data の読み込み\n",
    "df_tr_new = pd.read_csv('sample_code/chapter_6/trans_route_new.csv', index_col='工場')\n",
    "print(df_tr_new)\n",
    "\n",
    "# 総輸送 Cost 再計算\n",
    "print(f'総輸送 Cost (変更後): {str(trans_cost(dt_tr_new, df_tc))}')\n",
    "\n",
    "\n",
    "# 制約条件計算関数\n",
    "# 需要側\n",
    "def condition_demand(dt_tr, df_demand):\n",
    "    flag = np.zeros(len(df_demand.columns))\n",
    "    for i in range(len(df_demand.columns)):\n",
    "        temp_sum = sum(df_tr[df_demand.columns[i]])\n",
    "        if (temp_sum >= df_demand.iloc[0][i]):\n",
    "            flag[i] = 1\n",
    "    return flag\n",
    "\n",
    "\n",
    "# 供給側\n",
    "def condition_supply(df_tr, df_supply):\n",
    "    flag = np.zeros(len(df_supply.columns))\n",
    "    for i in range(len(df_supply.columns)):\n",
    "        temp_sum = sum(df_tr.loc[df_supply.columns[i]])\n",
    "        if temp_sum <= df_supply.iloc[0][i]:\n",
    "            flag[i] = 1\n",
    "    return flag\n",
    "\n",
    "\n",
    "print(f'需要条件計算結果: {str(condition_demand(df_tr_new, df_demand))}')\n",
    "print(f'供給条件計算結果: {str(condition_supply(df_tr_new, df_supply))}')"
   ],
   "metadata": {
    "collapsed": false,
    "pycharm": {
     "name": "#%%\n"
    }
   }
  },
  {
   "cell_type": "markdown",
   "source": [
    "### 今回の輸送 Route\n",
    "工場 W1 から F4 への輸送を減らし、その分を工場 W2 からF4 への輸送で補う Route\n",
    "もとの輸送 Cost よりも若干の Cost cut は見込めるが、２番目の供給条件が満たせておらず W2 からの供給限界を超えてしまっている。"
   ],
   "metadata": {
    "collapsed": false,
    "pycharm": {
     "name": "#%% md\n"
    }
   }
  }
 ],
 "metadata": {
  "kernelspec": {
   "display_name": "Python 3 (ipykernel)",
   "language": "python",
   "name": "python3"
  },
  "language_info": {
   "codemirror_mode": {
    "name": "ipython",
    "version": 3
   },
   "file_extension": ".py",
   "mimetype": "text/x-python",
   "name": "python",
   "nbconvert_exporter": "python",
   "pygments_lexer": "ipython3",
   "version": "3.10.0"
  }
 },
 "nbformat": 4,
 "nbformat_minor": 1
}